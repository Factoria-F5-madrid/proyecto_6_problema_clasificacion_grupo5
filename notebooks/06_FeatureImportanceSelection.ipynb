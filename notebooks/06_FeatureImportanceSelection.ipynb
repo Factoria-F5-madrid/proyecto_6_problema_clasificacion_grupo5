{
 "cells": [
  {
   "cell_type": "markdown",
   "id": "2a6684dd",
   "metadata": {},
   "source": [
    "# 06 - Feature Importance & Reentrenamiento con las 10 Variables Más Importantes\n",
    "\n",
    "En este notebook se analiza la **importancia de las variables** del mejor modelo obtenido  \n",
    "en el notebook `05_Test-Set-Final.ipynb`, identificando las **10 características más influyentes**  \n",
    "en la predicción de la satisfacción del cliente.\n",
    "\n",
    "---\n",
    "\n",
    "### 🎯 **Objetivos:**\n",
    "1. Cargar el modelo ganador final.\n",
    "2. Calcular y visualizar la importancia de las variables.\n",
    "3. Seleccionar las 10 más relevantes y guardar sus nombres.\n",
    "4. Reentrenar el modelo solo con esas variables.\n",
    "5. Comparar el rendimiento **antes y después**.\n",
    "6. Promover el modelo reducido a producción si mantiene el rendimiento.\n",
    "\n",
    "---\n",
    "\n",
    "💡 Este proceso mejora la **interpretabilidad** del modelo y optimiza su **eficiencia**  \n",
    "manteniendo un alto nivel de precisión en las predicciones.\n"
   ]
  },
  {
   "cell_type": "markdown",
   "id": "ec95e36f",
   "metadata": {},
   "source": [
    "## **Paso 1: Cargar el modelo ganador y los datos**"
   ]
  },
  {
   "cell_type": "code",
   "execution_count": 16,
   "id": "c176eb2a",
   "metadata": {},
   "outputs": [
    {
     "data": {
      "text/markdown": [
       "🏆 **Modelo ganador:** `Random Forest GridSearchCV`"
      ],
      "text/plain": [
       "<IPython.core.display.Markdown object>"
      ]
     },
     "metadata": {},
     "output_type": "display_data"
    },
    {
     "data": {
      "text/markdown": [
       "✅ **Modelo cargado correctamente:** `model_final_random_forest_gridsearchcv.pkl`"
      ],
      "text/plain": [
       "<IPython.core.display.Markdown object>"
      ]
     },
     "metadata": {},
     "output_type": "display_data"
    },
    {
     "data": {
      "text/markdown": [
       "📦 **Dataset usado:** `UNSCALED`"
      ],
      "text/plain": [
       "<IPython.core.display.Markdown object>"
      ]
     },
     "metadata": {},
     "output_type": "display_data"
    },
    {
     "name": "stdout",
     "output_type": "stream",
     "text": [
      "- X_train shape: (83123, 23)\n",
      "- X_test shape: (20781, 23)\n"
     ]
    }
   ],
   "source": [
    "# ===================================\n",
    "# 1. Carga del modelo ganador y los datos\n",
    "# ===================================\n",
    "\n",
    "import os\n",
    "import re\n",
    "import json\n",
    "import joblib\n",
    "import pandas as pd\n",
    "import seaborn as sns\n",
    "import matplotlib.pyplot as plt\n",
    "from IPython.display import display, Markdown\n",
    "\n",
    "# --- Configuración visual ---\n",
    "sns.set(style=\"whitegrid\", palette=\"coolwarm\")\n",
    "plt.rcParams[\"axes.titlesize\"] = 13\n",
    "plt.rcParams[\"axes.labelsize\"] = 11\n",
    "plt.rcParams[\"axes.facecolor\"] = \"white\"\n",
    "\n",
    "# --- Cargar resumen del modelo ganador ---\n",
    "summary_path = \"../reports/results/model_comparison_summary.json\"\n",
    "if not os.path.exists(summary_path):\n",
    "    raise FileNotFoundError(\"❌ No se encontró 'model_comparison_summary.json'. Ejecuta el notebook 04 primero.\")\n",
    "\n",
    "with open(summary_path, \"r\") as f:\n",
    "    summary_data = json.load(f)\n",
    "df_summary = pd.DataFrame(summary_data)\n",
    "best_model_name = df_summary.loc[df_summary[\"Mean_Score\"].idxmax(), \"Model\"]\n",
    "\n",
    "display(Markdown(f\"🏆 **Modelo ganador:** `{best_model_name}`\"))\n",
    "\n",
    "# --- Cargar modelo final ---\n",
    "model_dir = \"../models/final\"\n",
    "safe_name = re.sub(r'[^a-z0-9]+', '_', best_model_name.lower())\n",
    "model_filename = f\"model_final_{safe_name}.pkl\"\n",
    "model_path = os.path.join(model_dir, model_filename)\n",
    "\n",
    "if not os.path.exists(model_path):\n",
    "    raise FileNotFoundError(f\"❌ No se encontró el archivo del modelo: {model_path}\")\n",
    "\n",
    "model_final = joblib.load(model_path)\n",
    "display(Markdown(f\"✅ **Modelo cargado correctamente:** `{model_filename}`\"))\n",
    "\n",
    "# --- Determinar tipo de dataset ---\n",
    "distance_models = [\"logistic regression\", \"svm\", \"knn\"]\n",
    "dataset_type = \"scaled\" if any(m in best_model_name.lower() for m in distance_models) else \"unscaled\"\n",
    "\n",
    "X_train = pd.read_csv(f\"../data/processed/X_train_{dataset_type}.csv\")\n",
    "X_test = pd.read_csv(f\"../data/processed/X_test_{dataset_type}.csv\")\n",
    "y_train = pd.read_csv(\"../data/processed/y_train.csv\").squeeze()\n",
    "y_test = pd.read_csv(\"../data/processed/y_test.csv\").squeeze()\n",
    "\n",
    "display(Markdown(f\"📦 **Dataset usado:** `{dataset_type.upper()}`\"))\n",
    "print(f\"- X_train shape: {X_train.shape}\")\n",
    "print(f\"- X_test shape: {X_test.shape}\")\n"
   ]
  },
  {
   "cell_type": "markdown",
   "id": "1d160492",
   "metadata": {},
   "source": [
    "## **Paso 2: Cálculo y visualización de la importancia de variables**\n",
    "\n",
    "En este paso identificamos las **variables que más influyen en las predicciones** del modelo ganador.\n",
    "\n",
    "Según el tipo de algoritmo, la importancia de variables se calcula de manera diferente:\n",
    "\n",
    "- **Modelos basados en árboles** (Decision Tree, Random Forest, XGBoost, etc.)  \n",
    "  → usan el atributo `feature_importances_`, que mide la reducción de impureza.\n",
    "- **Modelos lineales** (Logistic Regression, Linear SVM, etc.)  \n",
    "  → usan `coef_`, que indica el peso absoluto de cada variable.\n",
    "- **Modelos sin atributos internos** (KNN, SVM con kernel no lineal, etc.)  \n",
    "  → se calcula la importancia mediante **Permutation Importance**,  \n",
    "  una técnica que mide cuánto se degrada el rendimiento al permutar una variable.\n",
    "\n",
    "Esta estrategia garantiza una **evaluación universal y coherente**,  \n",
    "sin importar el tipo de modelo que haya resultado ganador.\n",
    "\n"
   ]
  },
  {
   "cell_type": "code",
   "execution_count": 17,
   "id": "6183f342",
   "metadata": {},
   "outputs": [
    {
     "data": {
      "text/markdown": [
       "### 📊 **Importancia de variables (automática según tipo de modelo)**"
      ],
      "text/plain": [
       "<IPython.core.display.Markdown object>"
      ]
     },
     "metadata": {},
     "output_type": "display_data"
    },
    {
     "data": {
      "text/markdown": [
       "⚙️ **Calculando importancia de variables mediante Permutation Importance...**"
      ],
      "text/plain": [
       "<IPython.core.display.Markdown object>"
      ]
     },
     "metadata": {},
     "output_type": "display_data"
    },
    {
     "data": {
      "text/markdown": [
       "🔍 **Método de cálculo usado:** `permutation_importance`"
      ],
      "text/plain": [
       "<IPython.core.display.Markdown object>"
      ]
     },
     "metadata": {},
     "output_type": "display_data"
    },
    {
     "data": {
      "image/png": "[encoded data removed]",
      "text/plain": [
       "<Figure size 800x600 with 1 Axes>"
      ]
     },
     "metadata": {},
     "output_type": "display_data"
    },
    {
     "data": {
      "text/markdown": [
       "\n",
       "✅ **Importancia de variables guardada en:**\n",
       "- `../reports/feature_importance/feature_importance_full.csv`\n",
       "- `../reports/feature_importance/top10_feature_importance.csv`\n",
       "\n",
       "💬 **Nota:** Para el modelo `Random Forest GridSearchCV`, la importancia se calculó con el método `permutation_importance`.\n"
      ],
      "text/plain": [
       "<IPython.core.display.Markdown object>"
      ]
     },
     "metadata": {},
     "output_type": "display_data"
    }
   ],
   "source": [
    "# ===================================\n",
    "# 2. Cálculo y visualización de la importancia de variables (versión universal)\n",
    "# ===================================\n",
    "\n",
    "from sklearn.inspection import permutation_importance\n",
    "import numpy as np\n",
    "\n",
    "display(Markdown(\"### 📊 **Importancia de variables (automática según tipo de modelo)**\"))\n",
    "\n",
    "try:\n",
    "    # --- Modelos con feature_importances_ ---\n",
    "    if hasattr(model_final, \"feature_importances_\"):\n",
    "        importance = model_final.feature_importances_\n",
    "        importance_method = \"feature_importances_\"\n",
    "    \n",
    "    # --- Modelos lineales ---\n",
    "    elif hasattr(model_final, \"coef_\"):\n",
    "        importance = np.abs(model_final.coef_).flatten()\n",
    "        importance_method = \"coef_\"\n",
    "    \n",
    "    # --- Modelos sin atributos internos (KNN, SVM no lineales, etc.) ---\n",
    "    else:\n",
    "        display(Markdown(\"⚙️ **Calculando importancia de variables mediante Permutation Importance...**\"))\n",
    "        perm_importance = permutation_importance(\n",
    "            model_final, X_test, y_test, n_repeats=10, random_state=42, n_jobs=-1\n",
    "        )\n",
    "        importance = perm_importance.importances_mean\n",
    "        importance_method = \"permutation_importance\"\n",
    "\n",
    "except Exception as e:\n",
    "    raise RuntimeError(f\"❌ Error al calcular la importancia de variables: {e}\")\n",
    "\n",
    "# --- Crear DataFrame con resultados ---\n",
    "feature_importance = pd.DataFrame({\n",
    "    \"Feature\": X_train.columns,\n",
    "    \"Importance\": importance\n",
    "}).sort_values(by=\"Importance\", ascending=False)\n",
    "\n",
    "# --- Mostrar método usado ---\n",
    "display(Markdown(f\"🔍 **Método de cálculo usado:** `{importance_method}`\"))\n",
    "\n",
    "# --- Top 10 variables ---\n",
    "top10_features = feature_importance.head(10)\n",
    "\n",
    "# --- Visualización ---\n",
    "plt.figure(figsize=(8, 6))\n",
    "sns.barplot(\n",
    "    data=top10_features,\n",
    "    y=\"Feature\",\n",
    "    x=\"Importance\",\n",
    "    hue=\"Feature\",\n",
    "    palette=\"coolwarm\",\n",
    "    dodge=False,\n",
    "    legend=False,\n",
    "    order=top10_features[\"Feature\"]  # <--- mantiene el orden del DataFrame (de mayor a menor)\n",
    ")\n",
    "\n",
    "plt.title(f\"Top 10 Variables Más Importantes — {best_model_name}\", fontsize=13, color=\"#0D47A1\")\n",
    "plt.xlabel(\"Importancia\")\n",
    "plt.ylabel(\"Variable\")\n",
    "plt.tight_layout()\n",
    "plt.show()\n",
    "\n",
    "# --- Guardado ---\n",
    "os.makedirs(\"../reports/feature_importance\", exist_ok=True)\n",
    "feature_importance.to_csv(\"../reports/feature_importance/feature_importance_full.csv\", index=False)\n",
    "top10_features.to_csv(\"../reports/feature_importance/top10_feature_importance.csv\", index=False)\n",
    "\n",
    "display(Markdown(f\"\"\"\n",
    "✅ **Importancia de variables guardada en:**\n",
    "- `../reports/feature_importance/feature_importance_full.csv`\n",
    "- `../reports/feature_importance/top10_feature_importance.csv`\n",
    "\n",
    "💬 **Nota:** Para el modelo `{best_model_name}`, la importancia se calculó con el método `{importance_method}`.\n",
    "\"\"\"))\n"
   ]
  },
  {
   "cell_type": "markdown",
   "id": "e54521ee",
   "metadata": {},
   "source": [
    "## **Paso 3: Reentrenamiento del modelo con las 10 variables más importantes**\n",
    "\n",
    "En este paso se entrena nuevamente el **modelo ganador** utilizando únicamente las  \n",
    "**10 variables más relevantes** identificadas en el análisis anterior.\n",
    "\n",
    "El objetivo es evaluar si el modelo mantiene un rendimiento similar —o incluso mejor—  \n",
    "cuando se simplifica el conjunto de variables, lo cual aporta ventajas como:\n",
    "\n",
    "- Mayor interpretabilidad del modelo.  \n",
    "- Menor complejidad computacional.  \n",
    "- Reducción del riesgo de *overfitting*.  \n",
    "\n",
    "Se entrenará una nueva instancia del mismo algoritmo ganador y se evaluará su  \n",
    "rendimiento sobre el conjunto de **test** utilizando solo esas 10 variables.\n"
   ]
  },
  {
   "cell_type": "code",
   "execution_count": 18,
   "id": "095b9255",
   "metadata": {},
   "outputs": [
    {
     "data": {
      "text/markdown": [
       "### ⚙️ **Entrenando el modelo con las 10 variables más importantes...**"
      ],
      "text/plain": [
       "<IPython.core.display.Markdown object>"
      ]
     },
     "metadata": {},
     "output_type": "display_data"
    },
    {
     "name": "stdout",
     "output_type": "stream",
     "text": [
      "Fitting 5 folds for each of 16 candidates, totalling 80 fits\n"
     ]
    },
    {
     "data": {
      "text/markdown": [
       "### 📊 **Rendimiento con las 10 variables más importantes:**"
      ],
      "text/plain": [
       "<IPython.core.display.Markdown object>"
      ]
     },
     "metadata": {},
     "output_type": "display_data"
    },
    {
     "name": "stdout",
     "output_type": "stream",
     "text": [
      "Accuracy: 0.954\n",
      "Precision: 0.952\n",
      "Recall: 0.941\n",
      "F1-score: 0.946\n",
      "ROC-AUC: 0.992\n"
     ]
    },
    {
     "data": {
      "image/png": "[encoded data removed]",
      "text/plain": [
       "<Figure size 800x500 with 1 Axes>"
      ]
     },
     "metadata": {},
     "output_type": "display_data"
    },
    {
     "data": {
      "text/markdown": [
       "\n",
       "✅ **Modelo reducido guardado correctamente en:**  \n",
       "📁 `../models/deployed/model_random_forest_gridsearchcv_deployed.pkl`\n",
       "\n",
       "💬 **Nota:** Este modelo usa solo las 10 variables más importantes y está listo para su despliegue o integración en producción.\n"
      ],
      "text/plain": [
       "<IPython.core.display.Markdown object>"
      ]
     },
     "metadata": {},
     "output_type": "display_data"
    }
   ],
   "source": [
    "# ===================================\n",
    "# 3. Reentrenamiento del modelo con las 10 variables más importantes\n",
    "# ===================================\n",
    "\n",
    "from sklearn.base import clone\n",
    "from sklearn.metrics import (\n",
    "    accuracy_score, precision_score, recall_score,\n",
    "    f1_score, roc_auc_score\n",
    ")\n",
    "\n",
    "display(Markdown(\"### ⚙️ **Entrenando el modelo con las 10 variables más importantes...**\"))\n",
    "\n",
    "# --- Verificar si existen métricas del modelo original ---\n",
    "if \"metrics_test\" not in locals():\n",
    "    metrics_path = \"../reports/results/model_comparison_summary.json\"\n",
    "    if os.path.exists(metrics_path):\n",
    "        with open(metrics_path, \"r\") as f:\n",
    "            metrics_summary = json.load(f)\n",
    "        df_metrics_summary = pd.DataFrame(metrics_summary)\n",
    "        # Localizar métricas del modelo ganador\n",
    "        metrics_test = df_metrics_summary[df_metrics_summary[\"Model\"] == best_model_name].iloc[0].to_dict()\n",
    "        metrics_test = {k: v for k, v in metrics_test.items() if k in [\"Accuracy\", \"Precision\", \"Recall\", \"F1-score\", \"ROC-AUC\"]}\n",
    "        display(Markdown(\"📄 **Métricas originales cargadas desde `model_comparison_summary.json`.**\"))\n",
    "    else:\n",
    "        raise FileNotFoundError(\"❌ No se encontraron las métricas del modelo original. Ejecuta el notebook 05_Test_Set_Final primero.\")\n",
    "\n",
    "# --- Selección de las 10 variables top ---\n",
    "top_features = top10_features[\"Feature\"].tolist()\n",
    "\n",
    "# --- Subconjunto de datos ---\n",
    "X_train_top = X_train[top_features]\n",
    "X_test_top = X_test[top_features]\n",
    "\n",
    "# --- Clonamos el modelo ganador para reentrenarlo desde cero ---\n",
    "model_retrained = clone(model_final)\n",
    "model_retrained.fit(X_train_top, y_train)\n",
    "\n",
    "# --- Predicciones y evaluación ---\n",
    "y_pred_top = model_retrained.predict(X_test_top)\n",
    "y_proba_top = (\n",
    "    model_retrained.predict_proba(X_test_top)[:, 1]\n",
    "    if hasattr(model_retrained, \"predict_proba\")\n",
    "    else None\n",
    ")\n",
    "\n",
    "# --- Métricas con top 10 variables ---\n",
    "metrics_top10 = {\n",
    "    \"Accuracy\": accuracy_score(y_test, y_pred_top),\n",
    "    \"Precision\": precision_score(y_test, y_pred_top),\n",
    "    \"Recall\": recall_score(y_test, y_pred_top),\n",
    "    \"F1-score\": f1_score(y_test, y_pred_top),\n",
    "    \"ROC-AUC\": roc_auc_score(y_test, y_proba_top) if y_proba_top is not None else np.nan\n",
    "}\n",
    "\n",
    "# --- Mostrar métricas ---\n",
    "display(Markdown(\"### 📊 **Rendimiento con las 10 variables más importantes:**\"))\n",
    "for k, v in metrics_top10.items():\n",
    "    print(f\"{k}: {v:.3f}\")\n",
    "\n",
    "# --- Comparativa visual entre modelo original y reducido ---\n",
    "comparison_metrics = pd.DataFrame({\n",
    "    \"Métrica\": list(metrics_test.keys()),\n",
    "    \"Original (todas)\": list(metrics_test.values()),\n",
    "    \"Top 10 variables\": list(metrics_top10.values())\n",
    "})\n",
    "\n",
    "plt.figure(figsize=(8, 5))\n",
    "df_melted = comparison_metrics.melt(id_vars=\"Métrica\", var_name=\"Modelo\", value_name=\"Valor\")\n",
    "sns.barplot(\n",
    "    data=df_melted,\n",
    "    x=\"Métrica\",\n",
    "    y=\"Valor\",\n",
    "    hue=\"Modelo\",\n",
    "    palette=\"coolwarm\",\n",
    "    dodge=True\n",
    ")\n",
    "plt.title(f\"Comparación de rendimiento — {best_model_name}\", fontsize=13, color=\"#0D47A1\")\n",
    "plt.ylim(0, 1.05)\n",
    "plt.xlabel(\"\")\n",
    "plt.ylabel(\"Valor de la métrica\")\n",
    "plt.legend(title=\"Modelo\")\n",
    "plt.tight_layout()\n",
    "plt.show()\n",
    "\n",
    "# --- Guardar el nuevo modelo reducido ---\n",
    "os.makedirs(\"../models/deployed\", exist_ok=True)\n",
    "model_name_simplified = f\"model_{best_model_name.replace(' ', '_').lower()}_deployed.pkl\"\n",
    "save_path = f\"../models/deployed/{model_name_simplified}\"\n",
    "\n",
    "# Borrar versiones anteriores\n",
    "if os.path.exists(save_path):\n",
    "    os.remove(save_path)\n",
    "\n",
    "joblib.dump(model_retrained, save_path)\n",
    "\n",
    "display(Markdown(f\"\"\"\n",
    "✅ **Modelo reducido guardado correctamente en:**  \n",
    "📁 `{save_path}`\n",
    "\n",
    "💬 **Nota:** Este modelo usa solo las 10 variables más importantes y está listo para su despliegue o integración en producción.\n",
    "\"\"\"))\n"
   ]
  },
  {
   "cell_type": "markdown",
   "id": "8fe4c54e",
   "metadata": {},
   "source": [
    "## **Paso 4: Conclusiones finales y selección del modelo para producción**\n",
    "\n",
    "En este paso se comparan los resultados obtenidos con el **modelo original**  \n",
    "(entrenado con todas las variables) frente al **modelo reducido**  \n",
    "(entrenado con las 10 variables más importantes).\n",
    "\n",
    "El objetivo es determinar si la reducción del número de variables:\n",
    "- Mantiene un rendimiento competitivo.  \n",
    "- Mejora la interpretabilidad del modelo.  \n",
    "- Reduce la complejidad y el tiempo de predicción.  \n",
    "\n",
    "> Si el modelo con las 10 variables conserva un rendimiento similar  \n",
    "> (diferencias < 2% en F1-score o ROC-AUC), se considera más adecuado  \n",
    "> para su **despliegue en producción** por su simplicidad y eficiencia.\n"
   ]
  },
  {
   "cell_type": "code",
   "execution_count": 19,
   "id": "5621aaa4",
   "metadata": {},
   "outputs": [
    {
     "data": {
      "text/markdown": [
       "### 📋 **Comparativa de métricas — Modelo original vs reducido**"
      ],
      "text/plain": [
       "<IPython.core.display.Markdown object>"
      ]
     },
     "metadata": {},
     "output_type": "display_data"
    },
    {
     "data": {
      "text/html": [
       "<style type=\"text/css\">\n",
       "</style>\n",
       "<table id=\"T_7fcf0\">\n",
       "  <thead>\n",
       "    <tr>\n",
       "      <th class=\"blank level0\" >&nbsp;</th>\n",
       "      <th id=\"T_7fcf0_level0_col0\" class=\"col_heading level0 col0\" >Métrica</th>\n",
       "      <th id=\"T_7fcf0_level0_col1\" class=\"col_heading level0 col1\" >Original (todas las variables)</th>\n",
       "      <th id=\"T_7fcf0_level0_col2\" class=\"col_heading level0 col2\" >Top 10 variables</th>\n",
       "      <th id=\"T_7fcf0_level0_col3\" class=\"col_heading level0 col3\" >Diferencia (%)</th>\n",
       "    </tr>\n",
       "  </thead>\n",
       "  <tbody>\n",
       "    <tr>\n",
       "      <th id=\"T_7fcf0_level0_row0\" class=\"row_heading level0 row0\" >0</th>\n",
       "      <td id=\"T_7fcf0_row0_col0\" class=\"data row0 col0\" >Accuracy</td>\n",
       "      <td id=\"T_7fcf0_row0_col1\" class=\"data row0 col1\" >0.962</td>\n",
       "      <td id=\"T_7fcf0_row0_col2\" class=\"data row0 col2\" >0.954</td>\n",
       "      <td id=\"T_7fcf0_row0_col3\" class=\"data row0 col3\" >-0.82%</td>\n",
       "    </tr>\n",
       "    <tr>\n",
       "      <th id=\"T_7fcf0_level0_row1\" class=\"row_heading level0 row1\" >1</th>\n",
       "      <td id=\"T_7fcf0_row1_col0\" class=\"data row1 col0\" >Precision</td>\n",
       "      <td id=\"T_7fcf0_row1_col1\" class=\"data row1 col1\" >0.964</td>\n",
       "      <td id=\"T_7fcf0_row1_col2\" class=\"data row1 col2\" >0.952</td>\n",
       "      <td id=\"T_7fcf0_row1_col3\" class=\"data row1 col3\" >-1.29%</td>\n",
       "    </tr>\n",
       "    <tr>\n",
       "      <th id=\"T_7fcf0_level0_row2\" class=\"row_heading level0 row2\" >2</th>\n",
       "      <td id=\"T_7fcf0_row2_col0\" class=\"data row2 col0\" >Recall</td>\n",
       "      <td id=\"T_7fcf0_row2_col1\" class=\"data row2 col1\" >0.946</td>\n",
       "      <td id=\"T_7fcf0_row2_col2\" class=\"data row2 col2\" >0.941</td>\n",
       "      <td id=\"T_7fcf0_row2_col3\" class=\"data row2 col3\" >-0.60%</td>\n",
       "    </tr>\n",
       "    <tr>\n",
       "      <th id=\"T_7fcf0_level0_row3\" class=\"row_heading level0 row3\" >3</th>\n",
       "      <td id=\"T_7fcf0_row3_col0\" class=\"data row3 col0\" >F1-score</td>\n",
       "      <td id=\"T_7fcf0_row3_col1\" class=\"data row3 col1\" >0.955</td>\n",
       "      <td id=\"T_7fcf0_row3_col2\" class=\"data row3 col2\" >0.946</td>\n",
       "      <td id=\"T_7fcf0_row3_col3\" class=\"data row3 col3\" >-0.94%</td>\n",
       "    </tr>\n",
       "    <tr>\n",
       "      <th id=\"T_7fcf0_level0_row4\" class=\"row_heading level0 row4\" >4</th>\n",
       "      <td id=\"T_7fcf0_row4_col0\" class=\"data row4 col0\" >ROC-AUC</td>\n",
       "      <td id=\"T_7fcf0_row4_col1\" class=\"data row4 col1\" >0.994</td>\n",
       "      <td id=\"T_7fcf0_row4_col2\" class=\"data row4 col2\" >0.992</td>\n",
       "      <td id=\"T_7fcf0_row4_col3\" class=\"data row4 col3\" >-0.22%</td>\n",
       "    </tr>\n",
       "  </tbody>\n",
       "</table>\n"
      ],
      "text/plain": [
       "<pandas.io.formats.style.Styler at 0x1a550ec9ad0>"
      ]
     },
     "metadata": {},
     "output_type": "display_data"
    },
    {
     "data": {
      "text/markdown": [
       "### 💬 **Interpretación automática:**"
      ],
      "text/plain": [
       "<IPython.core.display.Markdown object>"
      ]
     },
     "metadata": {},
     "output_type": "display_data"
    },
    {
     "data": {
      "text/markdown": [
       "✅ **Conclusión:** El modelo reducido mantiene un rendimiento prácticamente idéntico al modelo original (**ΔF1 = -0.94%**, **ΔROC-AUC = -0.22%**). Se recomienda desplegar **el modelo con las 10 variables más importantes**, ubicado en `../models/deployed/model_random_forest_gridsearchcv_deployed.pkl`."
      ],
      "text/plain": [
       "<IPython.core.display.Markdown object>"
      ]
     },
     "metadata": {},
     "output_type": "display_data"
    },
    {
     "data": {
      "image/png": "[encoded data removed]",
      "text/plain": [
       "<Figure size 800x500 with 1 Axes>"
      ]
     },
     "metadata": {},
     "output_type": "display_data"
    }
   ],
   "source": [
    "# ===================================\n",
    "# 4. Conclusiones finales y recomendación de modelo para despliegue\n",
    "# ===================================\n",
    "\n",
    "# --- Comparativa tabular de métricas ---\n",
    "comparison_df = pd.DataFrame({\n",
    "    \"Métrica\": metrics_test.keys(),\n",
    "    \"Original (todas las variables)\": metrics_test.values(),\n",
    "    \"Top 10 variables\": metrics_top10.values()\n",
    "})\n",
    "\n",
    "# --- Cálculo de diferencia porcentual ---\n",
    "comparison_df[\"Diferencia (%)\"] = (\n",
    "    (comparison_df[\"Top 10 variables\"] - comparison_df[\"Original (todas las variables)\"])\n",
    "    / comparison_df[\"Original (todas las variables)\"] * 100\n",
    ").round(2)\n",
    "\n",
    "display(Markdown(\"### 📋 **Comparativa de métricas — Modelo original vs reducido**\"))\n",
    "display(comparison_df.style.format({\n",
    "    \"Original (todas las variables)\": \"{:.3f}\",\n",
    "    \"Top 10 variables\": \"{:.3f}\",\n",
    "    \"Diferencia (%)\": \"{:+.2f}%\"\n",
    "}))\n",
    "\n",
    "# --- Evaluación de diferencias clave ---\n",
    "f1_diff = comparison_df.loc[comparison_df[\"Métrica\"] == \"F1-score\", \"Diferencia (%)\"].values[0]\n",
    "roc_diff = comparison_df.loc[comparison_df[\"Métrica\"] == \"ROC-AUC\", \"Diferencia (%)\"].values[0]\n",
    "\n",
    "display(Markdown(\"### 💬 **Interpretación automática:**\"))\n",
    "\n",
    "if abs(f1_diff) <= 2 and abs(roc_diff) <= 2:\n",
    "    recommendation = \"✅ **Conclusión:** El modelo reducido mantiene un rendimiento prácticamente idéntico \" \\\n",
    "                     f\"al modelo original (**ΔF1 = {f1_diff:+.2f}%**, **ΔROC-AUC = {roc_diff:+.2f}%**). \" \\\n",
    "                     \"Se recomienda desplegar **el modelo con las 10 variables más importantes**, \" \\\n",
    "                     f\"ubicado en `../models/deployed/model_{best_model_name.replace(' ', '_').lower()}_deployed.pkl`.\"\n",
    "else:\n",
    "    recommendation = \"⚠️ **Conclusión:** El modelo reducido presenta una caída apreciable en el rendimiento \" \\\n",
    "                     f\"(**ΔF1 = {f1_diff:+.2f}%**, **ΔROC-AUC = {roc_diff:+.2f}%**). \" \\\n",
    "                     \"Se recomienda mantener el **modelo original completo**, \" \\\n",
    "                     f\"ubicado en `../models/final/model_final_{best_model_name.replace(' ', '_').lower()}.pkl`.\"\n",
    "\n",
    "display(Markdown(recommendation))\n",
    "\n",
    "# --- Visualización final de comparación ---\n",
    "plt.figure(figsize=(8, 5))\n",
    "df_melted = comparison_df.melt(\n",
    "    id_vars=\"Métrica\",\n",
    "    value_vars=[\"Original (todas las variables)\", \"Top 10 variables\"],\n",
    "    var_name=\"Modelo\",\n",
    "    value_name=\"Valor\"\n",
    ")\n",
    "sns.barplot(\n",
    "    data=df_melted,\n",
    "    x=\"Métrica\",\n",
    "    y=\"Valor\",\n",
    "    hue=\"Modelo\",\n",
    "    palette=\"coolwarm\",\n",
    "    dodge=True\n",
    ")\n",
    "plt.title(\"Comparación final de rendimiento — Original vs Top 10 Variables\", fontsize=13, color=\"#0D47A1\")\n",
    "plt.ylim(0, 1.05)\n",
    "plt.xlabel(\"\")\n",
    "plt.ylabel(\"Valor de la métrica\")\n",
    "plt.legend(title=\"Modelo\")\n",
    "plt.tight_layout()\n",
    "plt.show()\n"
   ]
  },
  {
   "cell_type": "markdown",
   "id": "01fd2d94",
   "metadata": {},
   "source": [
    "## **Paso 5: Exportación final de resultados y registro del modelo seleccionado**\n",
    "\n",
    "En este paso se exportan los resultados finales del análisis comparativo entre el  \n",
    "**modelo original** y el **modelo reducido (Top 10 variables)**.  \n",
    "\n",
    "Además, se guarda una copia de los resultados en formato **CSV** y **JSON** dentro de  \n",
    "`../reports/results/`, junto con el nombre del modelo finalmente **recomendado para producción**.\n",
    "\n",
    "De este modo, se completa el ciclo del proyecto:\n",
    "1. Entrenamiento y ajuste de modelos.  \n",
    "2. Evaluación y comparación.  \n",
    "3. Selección del mejor modelo.  \n",
    "4. Reducción e interpretación de variables clave.  \n",
    "5. Despliegue del modelo óptimo en producción.\n",
    "\n"
   ]
  },
  {
   "cell_type": "code",
   "execution_count": 20,
   "id": "879275c0",
   "metadata": {},
   "outputs": [
    {
     "data": {
      "text/markdown": [
       "\n",
       "✅ **Exportación completada con éxito.**\n",
       "\n",
       "Los archivos generados son:\n",
       "- 📊 Comparativa CSV: `../reports/results/model_feature_reduction_comparison.csv`  \n",
       "- 🧾 Comparativa JSON: `../reports/results/model_feature_reduction_comparison.json`  \n",
       "- 🏁 Resumen de despliegue: `../reports/results/model_deployment_summary.txt`  \n",
       "\n",
       "El modelo listo para producción se encuentra en:\n",
       "- 📦 `../models/deployed/model_random_forest_gridsearchcv_deployed.pkl`\n"
      ],
      "text/plain": [
       "<IPython.core.display.Markdown object>"
      ]
     },
     "metadata": {},
     "output_type": "display_data"
    },
    {
     "data": {
      "text/markdown": [
       "\n",
       "### 💬 **Interpretación final:**\n",
       "El modelo seleccionado (reducido o completo) ha sido registrado formalmente  \n",
       "como el modelo de referencia para producción.  \n",
       "Las métricas, comparación y trazabilidad quedan documentadas  \n",
       "en los archivos generados para auditoría o integración futura.\n"
      ],
      "text/plain": [
       "<IPython.core.display.Markdown object>"
      ]
     },
     "metadata": {},
     "output_type": "display_data"
    }
   ],
   "source": [
    "# ===================================\n",
    "# 5. Exportación final de resultados y registro del modelo seleccionado\n",
    "# ===================================\n",
    "\n",
    "import json\n",
    "from datetime import datetime\n",
    "\n",
    "# --- Directorios de salida ---\n",
    "os.makedirs(\"../reports/results\", exist_ok=True)\n",
    "os.makedirs(\"../models/deployed\", exist_ok=True)\n",
    "\n",
    "# --- Archivo de resumen ---\n",
    "export_csv = \"../reports/results/model_feature_reduction_comparison.csv\"\n",
    "export_json = \"../reports/results/model_feature_reduction_comparison.json\"\n",
    "summary_txt = \"../reports/results/model_deployment_summary.txt\"\n",
    "\n",
    "# --- Guardar resultados comparativos ---\n",
    "comparison_df.to_csv(export_csv, index=False)\n",
    "comparison_df.to_json(export_json, orient=\"records\", indent=4)\n",
    "\n",
    "# --- Registrar recomendación final ---\n",
    "timestamp = datetime.now().strftime(\"%Y-%m-%d %H:%M:%S\")\n",
    "\n",
    "with open(summary_txt, \"w\", encoding=\"utf-8\") as f:\n",
    "    f.write(\"=========================================\\n\")\n",
    "    f.write(\"📦 PROYECTO: Satisfacción de Clientes - Modelo Final\\n\")\n",
    "    f.write(\"=========================================\\n\\n\")\n",
    "    f.write(f\"🕒 Fecha de ejecución: {timestamp}\\n\")\n",
    "    f.write(f\"🏆 Modelo ganador original: {best_model_name}\\n\")\n",
    "    f.write(f\"📁 Modelo desplegado: ../models/deployed/model_{best_model_name.replace(' ', '_').lower()}_deployed.pkl\\n\\n\")\n",
    "    f.write(\"🔍 COMPARATIVA DE MÉTRICAS:\\n\")\n",
    "    f.write(comparison_df.to_string(index=False))\n",
    "    f.write(\"\\n\\n\")\n",
    "    f.write(\"📋 CONCLUSIÓN AUTOMÁTICA:\\n\")\n",
    "    f.write(recommendation)\n",
    "    f.write(\"\\n\")\n",
    "\n",
    "display(Markdown(f\"\"\"\n",
    "✅ **Exportación completada con éxito.**\n",
    "\n",
    "Los archivos generados son:\n",
    "- 📊 Comparativa CSV: `{export_csv}`  \n",
    "- 🧾 Comparativa JSON: `{export_json}`  \n",
    "- 🏁 Resumen de despliegue: `{summary_txt}`  \n",
    "\n",
    "El modelo listo para producción se encuentra en:\n",
    "- 📦 `../models/deployed/model_{best_model_name.replace(' ', '_').lower()}_deployed.pkl`\n",
    "\"\"\"))\n",
    "\n",
    "display(Markdown(\"\"\"\n",
    "### 💬 **Interpretación final:**\n",
    "El modelo seleccionado (reducido o completo) ha sido registrado formalmente  \n",
    "como el modelo de referencia para producción.  \n",
    "Las métricas, comparación y trazabilidad quedan documentadas  \n",
    "en los archivos generados para auditoría o integración futura.\n",
    "\"\"\"))\n"
   ]
  },
  {
   "cell_type": "code",
   "execution_count": null,
   "id": "0e7e156f",
   "metadata": {},
   "outputs": [],
   "source": []
  }
 ],
 "metadata": {
  "kernelspec": {
   "display_name": "venv",
   "language": "python",
   "name": "python3"
  },
  "language_info": {
   "codemirror_mode": {
    "name": "ipython",
    "version": 3
   },
   "file_extension": ".py",
   "mimetype": "text/x-python",
   "name": "python",
   "nbconvert_exporter": "python",
   "pygments_lexer": "ipython3",
   "version": "3.11.9"
  }
 },
 "nbformat": 4,
 "nbformat_minor": 5
}
