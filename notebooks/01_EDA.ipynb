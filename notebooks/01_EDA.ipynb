{
 "cells": [
  {
   "cell_type": "markdown",
   "id": "5366b4e3",
   "metadata": {},
   "source": [
    "# EDA Airline Passenger Satisfaction✈️ — Clasificación con ML"
   ]
  }
 ],
 "metadata": {
  "language_info": {
   "name": "python"
  }
 },
 "nbformat": 4,
 "nbformat_minor": 5
}
