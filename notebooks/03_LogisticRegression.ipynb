{
 "cells": [
  {
   "cell_type": "markdown",
   "id": "61e5a152",
   "metadata": {},
   "source": [
    "# Clasificación de satisfacción de pasajeros — Regresión Logística\n",
    "\n",
    "## Objetivos del notebook\n",
    "\n",
    "En este notebook se desarrolla el modelo de **Regresión Logística** para el proyecto  \n",
    "*Clasificación de Satisfacción de Pasajeros Aéreos*.\n",
    "\n",
    "Se analizan tres configuraciones del modelo:\n",
    "\n",
    "1. **Baseline** — sin ajuste de hiperparámetros.  \n",
    "2. **GridSearchCV** — búsqueda exhaustiva con validación cruzada.  \n",
    "3. **Optuna** — optimización bayesiana eficiente.\n",
    "\n",
    "Cada modelo se evalúa según:\n",
    "- Métricas: *Accuracy, Precision, Recall, F1-score y ROC-AUC*  \n",
    "- Matriz de confusión y Curva ROC  \n",
    "- Comparativa visual y radar chart  \n",
    "\n",
    "Los resultados servirán para el notebook `04_ModelComparison.ipynb` y el flujo posterior (`05_Test-Set-Final` y `06_FeatureSelection`).\n"
   ]
  },
  {
   "cell_type": "markdown",
   "id": "2d437348",
   "metadata": {},
   "source": [
    "## **Paso 1: Librerías y carga de datasets**\n",
    "\n",
    "El modelo de Regresión Logística es **sensible a la escala de las variables**,  \n",
    "por lo que utilizaremos el dataset **escalado** generado en el notebook `02_dataset-split.ipynb`."
   ]
  },
  {
   "cell_type": "code",
   "execution_count": 60,
   "id": "79ef09fc",
   "metadata": {},
   "outputs": [
    {
     "name": "stdout",
     "output_type": "stream",
     "text": [
      "✅ Datasets cargados correctamente.\n",
      "X_train: (83123, 23), X_test: (20781, 23)\n"
     ]
    }
   ],
   "source": [
    "# ===================================\n",
    "# 1. Importación de librerías y carga de datasets escalados\n",
    "# ===================================\n",
    "\n",
    "import pandas as pd\n",
    "import numpy as np\n",
    "import matplotlib.pyplot as plt\n",
    "import seaborn as sns\n",
    "import joblib, json, os, warnings, time\n",
    "import warnings\n",
    "\n",
    "from sklearn.linear_model import LogisticRegression\n",
    "from sklearn.model_selection import cross_val_score, GridSearchCV\n",
    "from sklearn.metrics import (\n",
    "    accuracy_score, precision_score, recall_score, f1_score, roc_auc_score, roc_curve,\n",
    "    confusion_matrix, RocCurveDisplay\n",
    ")\n",
    "from IPython.display import display, Markdown\n",
    "import optuna\n",
    "from optuna.visualization import plot_optimization_history, plot_param_importances\n",
    "\n",
    "# Configuración de estilo visual\n",
    "plt.style.use(\"default\")\n",
    "sns.set_palette(\"coolwarm\")\n",
    "warnings.filterwarnings(\"ignore\", category=UserWarning, module=\"tqdm\")\n",
    "\n",
    "# Carga de datasets escalados\n",
    "X_train = pd.read_csv(\"../data/processed/X_train_scaled.csv\")\n",
    "X_test = pd.read_csv(\"../data/processed/X_test_scaled.csv\")\n",
    "y_train = pd.read_csv(\"../data/processed/y_train.csv\").values.ravel()\n",
    "y_test = pd.read_csv(\"../data/processed/y_test.csv\").values.ravel()\n",
    "\n",
    "print(\"✅ Datasets cargados correctamente.\")\n",
    "print(f\"X_train: {X_train.shape}, X_test: {X_test.shape}\")\n"
   ]
  },
  {
   "cell_type": "markdown",
   "id": "8b766e16",
   "metadata": {},
   "source": [
    "## **Paso 2: Modelo Baseline**\n",
    "\n",
    "Entrenamos un modelo de **Regresión Logística sin ajustar hiperparámetros**  (usamos hiperparámetros por defecto) para establecer una línea base de rendimiento.\n",
    "\n",
    "Se usa `class_weight='balanced'` para compensar el desbalanceo del dataset.\n",
    "\n",
    "\n",
    "Este modelo servirá como punto de referencia antes de aplicar técnicas de optimización y ajuste.  \n",
    "\n",
    "El objetivo es evaluar el rendimiento inicial del modelo en el conjunto de test  \n",
    "y obtener las métricas principales (*Accuracy*, *F1-score* y *ROC-AUC*).\n"
   ]
  },
  {
   "cell_type": "code",
   "execution_count": 61,
   "id": "6464f9d0",
   "metadata": {},
   "outputs": [
    {
     "data": {
      "text/markdown": [
       "### 📊 Métricas del modelo baseline"
      ],
      "text/plain": [
       "<IPython.core.display.Markdown object>"
      ]
     },
     "metadata": {},
     "output_type": "display_data"
    },
    {
     "data": {
      "text/html": [
       "<style type=\"text/css\">\n",
       "</style>\n",
       "<table id=\"T_23e5e\">\n",
       "  <thead>\n",
       "    <tr>\n",
       "      <th class=\"blank level0\" >&nbsp;</th>\n",
       "      <th id=\"T_23e5e_level0_col0\" class=\"col_heading level0 col0\" >Accuracy</th>\n",
       "      <th id=\"T_23e5e_level0_col1\" class=\"col_heading level0 col1\" >Precision</th>\n",
       "      <th id=\"T_23e5e_level0_col2\" class=\"col_heading level0 col2\" >Recall</th>\n",
       "      <th id=\"T_23e5e_level0_col3\" class=\"col_heading level0 col3\" >F1-score</th>\n",
       "      <th id=\"T_23e5e_level0_col4\" class=\"col_heading level0 col4\" >ROC-AUC</th>\n",
       "    </tr>\n",
       "  </thead>\n",
       "  <tbody>\n",
       "    <tr>\n",
       "      <th id=\"T_23e5e_level0_row0\" class=\"row_heading level0 row0\" >0</th>\n",
       "      <td id=\"T_23e5e_row0_col0\" class=\"data row0 col0\" >0.869</td>\n",
       "      <td id=\"T_23e5e_row0_col1\" class=\"data row0 col1\" >0.841</td>\n",
       "      <td id=\"T_23e5e_row0_col2\" class=\"data row0 col2\" >0.862</td>\n",
       "      <td id=\"T_23e5e_row0_col3\" class=\"data row0 col3\" >0.851</td>\n",
       "      <td id=\"T_23e5e_row0_col4\" class=\"data row0 col4\" >0.928</td>\n",
       "    </tr>\n",
       "  </tbody>\n",
       "</table>\n"
      ],
      "text/plain": [
       "<pandas.io.formats.style.Styler at 0x173452cf510>"
      ]
     },
     "metadata": {},
     "output_type": "display_data"
    },
    {
     "data": {
      "text/markdown": [
       "\n",
       "**💬 Interpretación:**\n",
       "El modelo baseline sirve como referencia inicial para evaluar las mejoras introducidas por el ajuste de hiperparámetros.\n"
      ],
      "text/plain": [
       "<IPython.core.display.Markdown object>"
      ]
     },
     "metadata": {},
     "output_type": "display_data"
    }
   ],
   "source": [
    "# ===================================\n",
    "# 2. Entrenamiento del modelo baseline\n",
    "# ===================================\n",
    "\n",
    "baseline_model = LogisticRegression(max_iter=1000, class_weight=\"balanced\", random_state=42)\n",
    "\n",
    "start_time = time.time()\n",
    "baseline_model.fit(X_train, y_train)\n",
    "grid_time = time.time() - start_time\n",
    "\n",
    "y_pred_base = baseline_model.predict(X_test)\n",
    "y_proba_base = baseline_model.predict_proba(X_test)[:, 1]\n",
    "\n",
    "metrics_baseline = {\n",
    "    \"Accuracy\": accuracy_score(y_test, y_pred_base),\n",
    "    \"Precision\": precision_score(y_test, y_pred_base),\n",
    "    \"Recall\": recall_score(y_test, y_pred_base),\n",
    "    \"F1-score\": f1_score(y_test, y_pred_base),\n",
    "    \"ROC-AUC\": roc_auc_score(y_test, y_proba_base)\n",
    "}\n",
    "\n",
    "display(Markdown(\"### 📊 Métricas del modelo baseline\"))\n",
    "display(pd.DataFrame([metrics_baseline]).style.format(\"{:.3f}\"))\n",
    "\n",
    "display(Markdown(\"\"\"\n",
    "**💬 Interpretación:**\n",
    "El modelo baseline sirve como referencia inicial para evaluar las mejoras introducidas por el ajuste de hiperparámetros.\n",
    "\"\"\"))\n"
   ]
  },
  {
   "cell_type": "markdown",
   "id": "5089957a",
   "metadata": {},
   "source": [
    "## **Paso 3: Validación cruzada (Cross-Validation)**\n",
    "\n",
    "Aplicamos validación cruzada para comprobar la estabilidad del modelo  \n",
    "y evitar sobreajuste al conjunto de entrenamiento.\n",
    "\n",
    "### Visualización de los resultados de la validación cruzada\n",
    "\n",
    "Para analizar la estabilidad del modelo, representamos gráficamente los valores del F1-score  \n",
    "obtenidos en cada una de las 5 particiones (5-folds) de la validación cruzada.\n",
    "Esto nos permite evaluar la **consistencia o estabilidad del modelo** y su capacidad de generalización.  \n",
    "\n",
    "Un modelo robusto o estable mostrará **valores de F1 similares entre los folds**,  \n",
    "lo que indica que generaliza bien y no depende en exceso de un subconjunto específico de datos, mientras que un modelo inestable presentará variaciones amplias.\n"
   ]
  },
  {
   "cell_type": "code",
   "execution_count": 62,
   "id": "60570e6e",
   "metadata": {},
   "outputs": [
    {
     "data": {
      "text/markdown": [
       "\n",
       "### Validación cruzada (Cross-Validation)\n",
       "Se evalúa el modelo baseline mediante **validación cruzada 5-fold**,  \n",
       "utilizando el **F1-score** como métrica de referencia.\n"
      ],
      "text/plain": [
       "<IPython.core.display.Markdown object>"
      ]
     },
     "metadata": {},
     "output_type": "display_data"
    },
    {
     "name": "stdout",
     "output_type": "stream",
     "text": [
      "📊 Resultados de la validación cruzada (F1 por fold):\n",
      "Fold 1: 0.848\n",
      "Fold 2: 0.854\n",
      "Fold 3: 0.847\n",
      "Fold 4: 0.852\n",
      "Fold 5: 0.850\n",
      "\n",
      "F1 promedio (CV): 0.850 ± 0.002\n"
     ]
    },
    {
     "data": {
      "image/png": "[encoded data removed]",
      "text/plain": [
       "<Figure size 600x400 with 1 Axes>"
      ]
     },
     "metadata": {},
     "output_type": "display_data"
    },
    {
     "data": {
      "text/markdown": [
       "\n",
       "**💬 Interpretación visual:**\n",
       "- Cada punto representa el F1-score obtenido en uno de los 5 folds.  \n",
       "- Si los valores están muy próximos, el modelo es **consistente y generaliza bien**.  \n",
       "- Si hay dispersión, el modelo puede ser **sensible a los datos de entrenamiento**.\n"
      ],
      "text/plain": [
       "<IPython.core.display.Markdown object>"
      ]
     },
     "metadata": {},
     "output_type": "display_data"
    }
   ],
   "source": [
    "# ===================================\n",
    "# 3. Validación cruzada (Cross-Validation)\n",
    "# ===================================\n",
    "\n",
    "display(Markdown(\"\"\"\n",
    "### Validación cruzada (Cross-Validation)\n",
    "Se evalúa el modelo baseline mediante **validación cruzada 5-fold**,  \n",
    "utilizando el **F1-score** como métrica de referencia.\n",
    "\"\"\"))\n",
    "\n",
    "from sklearn.model_selection import cross_val_score\n",
    "from sklearn.metrics import make_scorer, f1_score\n",
    "\n",
    "f1_scorer = make_scorer(f1_score, pos_label=1)\n",
    "cv_scores = cross_val_score(baseline_model, X_train, y_train, cv=5, scoring=f1_scorer, n_jobs=-1)\n",
    "\n",
    "print(\"📊 Resultados de la validación cruzada (F1 por fold):\")\n",
    "for i, score in enumerate(cv_scores, start=1):\n",
    "    print(f\"Fold {i}: {score:.3f}\")\n",
    "print(f\"\\nF1 promedio (CV): {cv_scores.mean():.3f} ± {cv_scores.std():.3f}\")\n",
    "\n",
    "fig, ax = plt.subplots(figsize=(6, 4))\n",
    "sns.boxplot(x=cv_scores, color=\"skyblue\", ax=ax)\n",
    "sns.stripplot(x=cv_scores, color=\"darkblue\", jitter=0.05, size=6, ax=ax)\n",
    "ax.set_title(\"Distribución del F1-score en la Validación Cruzada (5-fold)\", fontsize=12)\n",
    "ax.set_xlabel(\"F1-score por fold\")\n",
    "plt.tight_layout()\n",
    "plt.show()\n",
    "\n",
    "display(Markdown(\"\"\"\n",
    "**💬 Interpretación visual:**\n",
    "- Cada punto representa el F1-score obtenido en uno de los 5 folds.  \n",
    "- Si los valores están muy próximos, el modelo es **consistente y generaliza bien**.  \n",
    "- Si hay dispersión, el modelo puede ser **sensible a los datos de entrenamiento**.\n",
    "\"\"\"))\n"
   ]
  },
  {
   "cell_type": "markdown",
   "id": "c069ec40",
   "metadata": {},
   "source": [
    "## **Paso 4: Tuning de hiperparámetros con GridSearchCV**\n",
    "\n",
    "En este paso buscamos la mejor combinación de hiperparámetros para la **Regresión Logística**  \n",
    "optimizando el **F1-score** (ya que el dataset presenta cierto desbalanceo).\n",
    "\n",
    "Usamos validación cruzada (5-fold) para evaluar múltiples combinaciones de:\n",
    "- `C`: fuerza de regularización inversa (valores altos → menor regularización).  \n",
    "- `solver`: algoritmo de optimización (`lbfgs` y `liblinear`).  \n",
    "- `penalty`: tipo de regularización (`l2` en este caso).  \n",
    "\n",
    "Además, aplicamos `class_weight=\"balanced\"` para compensar el desbalanceo entre clases."
   ]
  },
  {
   "cell_type": "code",
   "execution_count": 63,
   "id": "449fa1b7",
   "metadata": {},
   "outputs": [
    {
     "data": {
      "text/markdown": [
       "\n",
       "### Tuning de hiperparámetros con GridSearchCV\n",
       "\n",
       "Buscamos la mejor combinación de hiperparámetros para la **Regresión Logística**  \n",
       "optimizando el **F1-score** (ya que el dataset presenta cierto desbalanceo).\n",
       "\n"
      ],
      "text/plain": [
       "<IPython.core.display.Markdown object>"
      ]
     },
     "metadata": {},
     "output_type": "display_data"
    },
    {
     "name": "stdout",
     "output_type": "stream",
     "text": [
      "Fitting 5 folds for each of 10 candidates, totalling 50 fits\n",
      "✅ GridSearch finalizado correctamente.\n",
      "Mejor combinación de hiperparámetros: {'C': 0.01, 'penalty': 'l2', 'solver': 'liblinear'}\n",
      "Mejor F1-score medio (CV): 0.850\n"
     ]
    },
    {
     "data": {
      "image/png": "[encoded data removed]",
      "text/plain": [
       "<Figure size 800x500 with 1 Axes>"
      ]
     },
     "metadata": {},
     "output_type": "display_data"
    },
    {
     "data": {
      "text/markdown": [
       "\n",
       "**💬 Interpretación del tuning de hiperparámetros:**\n",
       "\n",
       "- Cada barra representa el **F1-score medio** obtenido por una combinación de hiperparámetros tras validación cruzada.  \n",
       "- La **línea discontinua roja** indica el mejor rendimiento alcanzado (`best_score_`).  \n",
       "- Las barras con valores similares indican que el modelo es **estable** y no muy sensible a pequeñas variaciones de parámetros.  \n",
       "- En este caso, el parámetro `C` óptimo y el `solver` seleccionado ofrecen el mejor equilibrio entre **precisión y recall**.  \n"
      ],
      "text/plain": [
       "<IPython.core.display.Markdown object>"
      ]
     },
     "metadata": {},
     "output_type": "display_data"
    }
   ],
   "source": [
    "# ===================================\n",
    "# 4. Tuning de hiperparámetros con GridSearchCV\n",
    "# ===================================\n",
    "\n",
    "from sklearn.model_selection import GridSearchCV\n",
    "from sklearn.metrics import make_scorer, f1_score\n",
    "from sklearn.exceptions import ConvergenceWarning, UndefinedMetricWarning\n",
    "from IPython.display import display, Markdown\n",
    "import warnings\n",
    "\n",
    "# --- Markdown explicativo ---\n",
    "display(Markdown(\n",
    "\"\"\"\n",
    "### Tuning de hiperparámetros con GridSearchCV\n",
    "\n",
    "Buscamos la mejor combinación de hiperparámetros para la **Regresión Logística**  \n",
    "optimizando el **F1-score** (ya que el dataset presenta cierto desbalanceo).\n",
    "\n",
    "\"\"\"\n",
    "))\n",
    "\n",
    "# --- Control de warnings ---\n",
    "warnings.filterwarnings(\"ignore\", category=ConvergenceWarning)\n",
    "warnings.filterwarnings(\"ignore\", category=UserWarning)\n",
    "warnings.filterwarnings(\"ignore\", category=UndefinedMetricWarning)\n",
    "\n",
    "# --- Scorer personalizado (clase positiva = 1 que equivale a la variable satisfaction como \"satisfied\") ---\n",
    "# --- Recordar que la bariable satisfaction binaria se ha normalizado a \"0\" (pasajeros neutral o insatisfechos) \n",
    "# --- La clase positiva (1) representa pasajeros satisfechos. ---\n",
    "f1_scorer = make_scorer(f1_score, pos_label=1)\n",
    "\n",
    "# --- Definición del grid de hiperparámetros ---\n",
    "param_grid = {\n",
    "    \"C\": [0.01, 0.1, 1, 10, 100],\n",
    "    \"penalty\": [\"l2\"],\n",
    "    \"solver\": [\"lbfgs\", \"liblinear\"]\n",
    "}\n",
    "\n",
    "# --- Modelo base con control de desbalanceo ---\n",
    "log_reg = LogisticRegression(max_iter=1000, random_state=42, class_weight=\"balanced\")\n",
    "\n",
    "# --- Ejecución del GridSearchCV ---\n",
    "\n",
    "\n",
    "grid_search = GridSearchCV(\n",
    "    estimator=log_reg,\n",
    "    param_grid=param_grid,\n",
    "    scoring=f1_scorer,\n",
    "    cv=5,\n",
    "    n_jobs=-1,\n",
    "    verbose=1\n",
    ")\n",
    "\n",
    "grid_search.fit(X_train, y_train)\n",
    "\n",
    "print(\"✅ GridSearch finalizado correctamente.\")\n",
    "print(f\"Mejor combinación de hiperparámetros: {grid_search.best_params_}\")\n",
    "print(f\"Mejor F1-score medio (CV): {grid_search.best_score_:.3f}\")\n",
    "\n",
    "# --- Resultados del tuning ---\n",
    "cv_results = pd.DataFrame(grid_search.cv_results_).sort_values(by=\"mean_test_score\", ascending=False)\n",
    "\n",
    "# --- Visualización mejorada del rendimiento ---\n",
    "plt.figure(figsize=(8, 5))\n",
    "sns.barplot(\n",
    "    data=cv_results,\n",
    "    x=\"mean_test_score\",\n",
    "    y=cv_results[\"params\"].astype(str),\n",
    "    hue=cv_results[\"params\"].astype(str),  # ✅ añadimos hue para evitar el warning\n",
    "    palette=\"coolwarm\",\n",
    "    dodge=False,\n",
    "    legend=False\n",
    ")\n",
    "plt.axvline(grid_search.best_score_, color=\"darkred\", linestyle=\"--\", linewidth=1.2, label=\"Mejor score\")\n",
    "plt.xlabel(\"Mean F1-score (CV)\")\n",
    "plt.ylabel(\"Combinación de hiperparámetros\")\n",
    "plt.title(\"Rendimiento medio (F1-score) por configuración\", fontsize=13)\n",
    "\n",
    "# Añadimos etiquetas con los valores\n",
    "for i, v in enumerate(cv_results[\"mean_test_score\"]):\n",
    "    plt.text(v + 0.001, i, f\"{v:.3f}\", va=\"center\", fontsize=8, color=\"black\")\n",
    "\n",
    "plt.legend()\n",
    "plt.tight_layout()\n",
    "plt.show()\n",
    "\n",
    "# 💬 Comentario visual interpretativo debajo del gráfico\n",
    "display(Markdown(\n",
    "\"\"\"\n",
    "**💬 Interpretación del tuning de hiperparámetros:**\n",
    "\n",
    "- Cada barra representa el **F1-score medio** obtenido por una combinación de hiperparámetros tras validación cruzada.  \n",
    "- La **línea discontinua roja** indica el mejor rendimiento alcanzado (`best_score_`).  \n",
    "- Las barras con valores similares indican que el modelo es **estable** y no muy sensible a pequeñas variaciones de parámetros.  \n",
    "- En este caso, el parámetro `C` óptimo y el `solver` seleccionado ofrecen el mejor equilibrio entre **precisión y recall**.  \n",
    "\"\"\"\n",
    "))\n",
    "\n",
    "\n"
   ]
  },
  {
   "cell_type": "markdown",
   "id": "0926f4e1",
   "metadata": {},
   "source": [
    "## **Paso 5: Tuning de hiperparámetros con Optuna**\n",
    "\n",
    "Para complementar la búsqueda exhaustiva de **GridSearchCV**,  \n",
    "se utiliza **Optuna**, una librería de optimización bayesiana que encuentra de forma más eficiente  \n",
    "los hiperparámetros óptimos mediante un proceso iterativo y adaptativo.\n",
    "\n",
    "**Ventajas:**\n",
    "- Reduce el número de combinaciones innecesarias.  \n",
    "- Se adapta a la función objetivo para converger más rápido.  \n",
    "- Permite analizar visualmente la importancia de cada hiperparámetro y la evolución del proceso.\n",
    "\n",
    "En este caso, el objetivo será **maximizar el F1-score medio (5-fold)** del modelo de Regresión Logística.  "
   ]
  },
  {
   "cell_type": "code",
   "execution_count": 64,
   "id": "900f705c",
   "metadata": {},
   "outputs": [
    {
     "data": {
      "text/markdown": [
       "### 🔍 Optimización bayesiana con Optuna"
      ],
      "text/plain": [
       "<IPython.core.display.Markdown object>"
      ]
     },
     "metadata": {},
     "output_type": "display_data"
    },
    {
     "data": {
      "text/markdown": [
       "⏳ **Ejecutando optimización con Optuna (30 ensayos)**"
      ],
      "text/plain": [
       "<IPython.core.display.Markdown object>"
      ]
     },
     "metadata": {},
     "output_type": "display_data"
    },
    {
     "name": "stderr",
     "output_type": "stream",
     "text": [
      "[I 2025-10-12 09:07:33,410] A new study created in memory with name: LogisticRegression_Optuna\n",
      "Best trial: 0. Best value: 0.847163:   3%|▎         | 1/30 [00:00<00:16,  1.80it/s]"
     ]
    },
    {
     "name": "stdout",
     "output_type": "stream",
     "text": [
      "[I 2025-10-12 09:07:33,959] Trial 0 finished with value: 0.8471632873542273 and parameters: {'C': 0.0021225468885833535, 'penalty': 'l2', 'solver': 'liblinear'}. Best is trial 0 with value: 0.8471632873542273.\n"
     ]
    },
    {
     "name": "stderr",
     "output_type": "stream",
     "text": [
      "Best trial: 1. Best value: 0.850092:   7%|▋         | 2/30 [00:01<00:17,  1.56it/s]"
     ]
    },
    {
     "name": "stdout",
     "output_type": "stream",
     "text": [
      "[I 2025-10-12 09:07:34,670] Trial 1 finished with value: 0.8500923236833593 and parameters: {'C': 0.20856518879622307, 'penalty': 'l1', 'solver': 'saga'}. Best is trial 1 with value: 0.8500923236833593.\n"
     ]
    },
    {
     "name": "stderr",
     "output_type": "stream",
     "text": [
      "Best trial: 2. Best value: 0.850104:  10%|█         | 3/30 [00:01<00:18,  1.48it/s]"
     ]
    },
    {
     "name": "stdout",
     "output_type": "stream",
     "text": [
      "[I 2025-10-12 09:07:35,382] Trial 2 finished with value: 0.8501040035311984 and parameters: {'C': 0.19408174390305508, 'penalty': 'l1', 'solver': 'saga'}. Best is trial 2 with value: 0.8501040035311984.\n"
     ]
    },
    {
     "name": "stderr",
     "output_type": "stream",
     "text": [
      "Best trial: 2. Best value: 0.850104:  13%|█▎        | 4/30 [00:02<00:16,  1.61it/s]"
     ]
    },
    {
     "name": "stdout",
     "output_type": "stream",
     "text": [
      "[I 2025-10-12 09:07:35,927] Trial 3 finished with value: 0.8500572440762995 and parameters: {'C': 2.320081105597859, 'penalty': 'l1', 'solver': 'liblinear'}. Best is trial 2 with value: 0.8501040035311984.\n"
     ]
    },
    {
     "name": "stderr",
     "output_type": "stream",
     "text": [
      "Best trial: 2. Best value: 0.850104:  17%|█▋        | 5/30 [00:03<00:16,  1.53it/s]"
     ]
    },
    {
     "name": "stdout",
     "output_type": "stream",
     "text": [
      "[I 2025-10-12 09:07:36,642] Trial 4 finished with value: 0.8490550621529309 and parameters: {'C': 0.004758978369727856, 'penalty': 'l1', 'solver': 'saga'}. Best is trial 2 with value: 0.8501040035311984.\n"
     ]
    },
    {
     "name": "stderr",
     "output_type": "stream",
     "text": [
      "Best trial: 2. Best value: 0.850104:  20%|██        | 6/30 [00:03<00:16,  1.48it/s]"
     ]
    },
    {
     "name": "stdout",
     "output_type": "stream",
     "text": [
      "[I 2025-10-12 09:07:37,351] Trial 5 finished with value: 0.8500966424869054 and parameters: {'C': 0.33022755512962515, 'penalty': 'l2', 'solver': 'liblinear'}. Best is trial 2 with value: 0.8501040035311984.\n"
     ]
    },
    {
     "name": "stderr",
     "output_type": "stream",
     "text": [
      "Best trial: 6. Best value: 0.850115:  23%|██▎       | 7/30 [00:04<00:15,  1.51it/s]"
     ]
    },
    {
     "name": "stdout",
     "output_type": "stream",
     "text": [
      "[I 2025-10-12 09:07:37,977] Trial 6 finished with value: 0.8501150686070899 and parameters: {'C': 0.25971359727166626, 'penalty': 'l1', 'solver': 'liblinear'}. Best is trial 6 with value: 0.8501150686070899.\n"
     ]
    },
    {
     "name": "stderr",
     "output_type": "stream",
     "text": [
      "Best trial: 6. Best value: 0.850115:  27%|██▋       | 8/30 [00:05<00:14,  1.54it/s]"
     ]
    },
    {
     "name": "stdout",
     "output_type": "stream",
     "text": [
      "[I 2025-10-12 09:07:38,611] Trial 7 finished with value: 0.8494895874534084 and parameters: {'C': 0.006760788405711591, 'penalty': 'l2', 'solver': 'saga'}. Best is trial 6 with value: 0.8501150686070899.\n"
     ]
    },
    {
     "name": "stderr",
     "output_type": "stream",
     "text": [
      "Best trial: 6. Best value: 0.850115:  30%|███       | 9/30 [00:05<00:14,  1.49it/s]"
     ]
    },
    {
     "name": "stdout",
     "output_type": "stream",
     "text": [
      "[I 2025-10-12 09:07:39,321] Trial 8 finished with value: 0.8500847952979695 and parameters: {'C': 1.5336456292503668, 'penalty': 'l1', 'solver': 'saga'}. Best is trial 6 with value: 0.8501150686070899.\n"
     ]
    },
    {
     "name": "stderr",
     "output_type": "stream",
     "text": [
      "Best trial: 6. Best value: 0.850115:  33%|███▎      | 10/30 [00:06<00:13,  1.52it/s]"
     ]
    },
    {
     "name": "stdout",
     "output_type": "stream",
     "text": [
      "[I 2025-10-12 09:07:39,951] Trial 9 finished with value: 0.8500927168293446 and parameters: {'C': 0.9214671864746342, 'penalty': 'l2', 'solver': 'saga'}. Best is trial 6 with value: 0.8501150686070899.\n"
     ]
    },
    {
     "name": "stderr",
     "output_type": "stream",
     "text": [
      "Best trial: 10. Best value: 0.850297:  37%|███▋      | 11/30 [00:06<00:11,  1.69it/s]"
     ]
    },
    {
     "name": "stdout",
     "output_type": "stream",
     "text": [
      "[I 2025-10-12 09:07:40,392] Trial 10 finished with value: 0.8502973085342822 and parameters: {'C': 0.018302863773537948, 'penalty': 'l1', 'solver': 'liblinear'}. Best is trial 10 with value: 0.8502973085342822.\n"
     ]
    },
    {
     "name": "stderr",
     "output_type": "stream",
     "text": [
      "Best trial: 11. Best value: 0.85037:  40%|████      | 12/30 [00:07<00:10,  1.76it/s] "
     ]
    },
    {
     "name": "stdout",
     "output_type": "stream",
     "text": [
      "[I 2025-10-12 09:07:40,910] Trial 11 finished with value: 0.8503698220068878 and parameters: {'C': 0.028983207564146674, 'penalty': 'l1', 'solver': 'liblinear'}. Best is trial 11 with value: 0.8503698220068878.\n"
     ]
    },
    {
     "name": "stderr",
     "output_type": "stream",
     "text": [
      "Best trial: 11. Best value: 0.85037:  43%|████▎     | 13/30 [00:08<00:09,  1.79it/s]"
     ]
    },
    {
     "name": "stdout",
     "output_type": "stream",
     "text": [
      "[I 2025-10-12 09:07:41,453] Trial 12 finished with value: 0.8503578894676036 and parameters: {'C': 0.031846639650301864, 'penalty': 'l1', 'solver': 'liblinear'}. Best is trial 11 with value: 0.8503698220068878.\n"
     ]
    },
    {
     "name": "stderr",
     "output_type": "stream",
     "text": [
      "Best trial: 13. Best value: 0.850428:  47%|████▋     | 14/30 [00:08<00:08,  1.89it/s]"
     ]
    },
    {
     "name": "stdout",
     "output_type": "stream",
     "text": [
      "[I 2025-10-12 09:07:41,905] Trial 13 finished with value: 0.8504282587356906 and parameters: {'C': 0.02716482622835326, 'penalty': 'l1', 'solver': 'liblinear'}. Best is trial 13 with value: 0.8504282587356906.\n"
     ]
    },
    {
     "name": "stderr",
     "output_type": "stream",
     "text": [
      "Best trial: 13. Best value: 0.850428:  50%|█████     | 15/30 [00:08<00:07,  1.94it/s]"
     ]
    },
    {
     "name": "stdout",
     "output_type": "stream",
     "text": [
      "[I 2025-10-12 09:07:42,392] Trial 14 finished with value: 0.8502479333575952 and parameters: {'C': 0.04242371427086971, 'penalty': 'l1', 'solver': 'liblinear'}. Best is trial 13 with value: 0.8504282587356906.\n"
     ]
    },
    {
     "name": "stderr",
     "output_type": "stream",
     "text": [
      "Best trial: 13. Best value: 0.850428:  53%|█████▎    | 16/30 [00:09<00:06,  2.04it/s]"
     ]
    },
    {
     "name": "stdout",
     "output_type": "stream",
     "text": [
      "[I 2025-10-12 09:07:42,827] Trial 15 finished with value: 0.8499757154717061 and parameters: {'C': 0.011308209267759944, 'penalty': 'l1', 'solver': 'liblinear'}. Best is trial 13 with value: 0.8504282587356906.\n"
     ]
    },
    {
     "name": "stderr",
     "output_type": "stream",
     "text": [
      "Best trial: 13. Best value: 0.850428:  57%|█████▋    | 17/30 [00:09<00:06,  1.99it/s]"
     ]
    },
    {
     "name": "stdout",
     "output_type": "stream",
     "text": [
      "[I 2025-10-12 09:07:43,358] Trial 16 finished with value: 0.8502641839575336 and parameters: {'C': 0.06635052672632478, 'penalty': 'l1', 'solver': 'liblinear'}. Best is trial 13 with value: 0.8504282587356906.\n"
     ]
    },
    {
     "name": "stderr",
     "output_type": "stream",
     "text": [
      "Best trial: 13. Best value: 0.850428:  60%|██████    | 18/30 [00:10<00:05,  2.15it/s]"
     ]
    },
    {
     "name": "stdout",
     "output_type": "stream",
     "text": [
      "[I 2025-10-12 09:07:43,734] Trial 17 finished with value: 0.8491620774852168 and parameters: {'C': 0.0032202677095410142, 'penalty': 'l1', 'solver': 'liblinear'}. Best is trial 13 with value: 0.8504282587356906.\n"
     ]
    },
    {
     "name": "stderr",
     "output_type": "stream",
     "text": [
      "Best trial: 13. Best value: 0.850428:  63%|██████▎   | 19/30 [00:10<00:05,  1.89it/s]"
     ]
    },
    {
     "name": "stdout",
     "output_type": "stream",
     "text": [
      "[I 2025-10-12 09:07:44,407] Trial 18 finished with value: 0.8500849970635385 and parameters: {'C': 9.399684327733754, 'penalty': 'l2', 'solver': 'liblinear'}. Best is trial 13 with value: 0.8504282587356906.\n"
     ]
    },
    {
     "name": "stderr",
     "output_type": "stream",
     "text": [
      "Best trial: 13. Best value: 0.850428:  67%|██████▋   | 20/30 [00:11<00:04,  2.10it/s]"
     ]
    },
    {
     "name": "stdout",
     "output_type": "stream",
     "text": [
      "[I 2025-10-12 09:07:44,760] Trial 19 finished with value: 0.8404228173650697 and parameters: {'C': 0.0010464212490139436, 'penalty': 'l1', 'solver': 'liblinear'}. Best is trial 13 with value: 0.8504282587356906.\n"
     ]
    },
    {
     "name": "stderr",
     "output_type": "stream",
     "text": [
      "Best trial: 13. Best value: 0.850428:  70%|███████   | 21/30 [00:11<00:04,  2.18it/s]"
     ]
    },
    {
     "name": "stdout",
     "output_type": "stream",
     "text": [
      "[I 2025-10-12 09:07:45,182] Trial 20 finished with value: 0.8502925285583005 and parameters: {'C': 0.01766321160027954, 'penalty': 'l1', 'solver': 'liblinear'}. Best is trial 13 with value: 0.8504282587356906.\n"
     ]
    },
    {
     "name": "stderr",
     "output_type": "stream",
     "text": [
      "Best trial: 13. Best value: 0.850428:  73%|███████▎  | 22/30 [00:12<00:03,  2.12it/s]"
     ]
    },
    {
     "name": "stdout",
     "output_type": "stream",
     "text": [
      "[I 2025-10-12 09:07:45,681] Trial 21 finished with value: 0.8503421981726446 and parameters: {'C': 0.04080516596874773, 'penalty': 'l1', 'solver': 'liblinear'}. Best is trial 13 with value: 0.8504282587356906.\n"
     ]
    },
    {
     "name": "stderr",
     "output_type": "stream",
     "text": [
      "Best trial: 13. Best value: 0.850428:  77%|███████▋  | 23/30 [00:12<00:03,  2.10it/s]"
     ]
    },
    {
     "name": "stdout",
     "output_type": "stream",
     "text": [
      "[I 2025-10-12 09:07:46,174] Trial 22 finished with value: 0.8503346155084806 and parameters: {'C': 0.029207697751759357, 'penalty': 'l1', 'solver': 'liblinear'}. Best is trial 13 with value: 0.8504282587356906.\n"
     ]
    },
    {
     "name": "stderr",
     "output_type": "stream",
     "text": [
      "Best trial: 13. Best value: 0.850428:  80%|████████  | 24/30 [00:13<00:03,  1.99it/s]"
     ]
    },
    {
     "name": "stdout",
     "output_type": "stream",
     "text": [
      "[I 2025-10-12 09:07:46,729] Trial 23 finished with value: 0.8502212868601238 and parameters: {'C': 0.08299207889125688, 'penalty': 'l1', 'solver': 'liblinear'}. Best is trial 13 with value: 0.8504282587356906.\n"
     ]
    },
    {
     "name": "stderr",
     "output_type": "stream",
     "text": [
      "Best trial: 13. Best value: 0.850428:  83%|████████▎ | 25/30 [00:13<00:02,  2.12it/s]"
     ]
    },
    {
     "name": "stdout",
     "output_type": "stream",
     "text": [
      "[I 2025-10-12 09:07:47,134] Trial 24 finished with value: 0.8499164127797372 and parameters: {'C': 0.010160818618808505, 'penalty': 'l1', 'solver': 'liblinear'}. Best is trial 13 with value: 0.8504282587356906.\n"
     ]
    },
    {
     "name": "stderr",
     "output_type": "stream",
     "text": [
      "Best trial: 13. Best value: 0.850428:  87%|████████▋ | 26/30 [00:14<00:01,  2.07it/s]"
     ]
    },
    {
     "name": "stdout",
     "output_type": "stream",
     "text": [
      "[I 2025-10-12 09:07:47,640] Trial 25 finished with value: 0.8502328800505021 and parameters: {'C': 0.13289596852062568, 'penalty': 'l1', 'solver': 'liblinear'}. Best is trial 13 with value: 0.8504282587356906.\n"
     ]
    },
    {
     "name": "stderr",
     "output_type": "stream",
     "text": [
      "Best trial: 13. Best value: 0.850428:  90%|█████████ | 27/30 [00:14<00:01,  1.88it/s]"
     ]
    },
    {
     "name": "stdout",
     "output_type": "stream",
     "text": [
      "[I 2025-10-12 09:07:48,292] Trial 26 finished with value: 0.8501379190354029 and parameters: {'C': 0.020069115213163548, 'penalty': 'l2', 'solver': 'liblinear'}. Best is trial 13 with value: 0.8504282587356906.\n"
     ]
    },
    {
     "name": "stderr",
     "output_type": "stream",
     "text": [
      "Best trial: 13. Best value: 0.850428:  93%|█████████▎| 28/30 [00:15<00:01,  1.88it/s]"
     ]
    },
    {
     "name": "stdout",
     "output_type": "stream",
     "text": [
      "[I 2025-10-12 09:07:48,822] Trial 27 finished with value: 0.8502758106616094 and parameters: {'C': 0.0634291962089979, 'penalty': 'l1', 'solver': 'liblinear'}. Best is trial 13 with value: 0.8504282587356906.\n"
     ]
    },
    {
     "name": "stderr",
     "output_type": "stream",
     "text": [
      "Best trial: 13. Best value: 0.850428:  97%|█████████▋| 29/30 [00:15<00:00,  1.90it/s]"
     ]
    },
    {
     "name": "stdout",
     "output_type": "stream",
     "text": [
      "[I 2025-10-12 09:07:49,336] Trial 28 finished with value: 0.8500687266108986 and parameters: {'C': 0.49160951295135863, 'penalty': 'l1', 'solver': 'liblinear'}. Best is trial 13 with value: 0.8504282587356906.\n"
     ]
    },
    {
     "name": "stderr",
     "output_type": "stream",
     "text": [
      "Best trial: 13. Best value: 0.850428: 100%|██████████| 30/30 [00:16<00:00,  1.82it/s]"
     ]
    },
    {
     "name": "stdout",
     "output_type": "stream",
     "text": [
      "[I 2025-10-12 09:07:49,922] Trial 29 finished with value: 0.848565735009123 and parameters: {'C': 0.0027143468596612695, 'penalty': 'l2', 'solver': 'liblinear'}. Best is trial 13 with value: 0.8504282587356906.\n",
      "✅ Optimización completada en 16.51 segundos\n",
      "Mejores hiperparámetros encontrados:\n",
      "{'C': 0.02716482622835326, 'penalty': 'l1', 'solver': 'liblinear'}\n"
     ]
    },
    {
     "name": "stderr",
     "output_type": "stream",
     "text": [
      "\n"
     ]
    },
    {
     "data": {
      "text/markdown": [
       "### 📈 Evolución del F1-score a lo largo de los ensayos"
      ],
      "text/plain": [
       "<IPython.core.display.Markdown object>"
      ]
     },
     "metadata": {},
     "output_type": "display_data"
    },
    {
     "data": {
      "application/vnd.plotly.v1+json": {
       "config": {
        "plotlyServerURL": "https://plot.ly"
       },
       "data": [
        {
         "mode": "markers",
         "name": "Objective Value",
         "type": "scatter",
         "x": [
          0,
          1,
          2,
          3,
          4,
          5,
          6,
          7,
          8,
          9,
          10,
          11,
          12,
          13,
          14,
          15,
          16,
          17,
          18,
          19,
          20,
          21,
          22,
          23,
          24,
          25,
          26,
          27,
          28,
          29
         ],
         "y": [
          0.8471632873542273,
          0.8500923236833593,
          0.8501040035311984,
          0.8500572440762995,
          0.8490550621529309,
          0.8500966424869054,
          0.8501150686070899,
          0.8494895874534084,
          0.8500847952979695,
          0.8500927168293446,
          0.8502973085342822,
          0.8503698220068878,
          0.8503578894676036,
          0.8504282587356906,
          0.8502479333575952,
          0.8499757154717061,
          0.8502641839575336,
          0.8491620774852168,
          0.8500849970635385,
          0.8404228173650697,
          0.8502925285583005,
          0.8503421981726446,
          0.8503346155084806,
          0.8502212868601238,
          0.8499164127797372,
          0.8502328800505021,
          0.8501379190354029,
          0.8502758106616094,
          0.8500687266108986,
          0.848565735009123
         ]
        },
        {
         "mode": "lines",
         "name": "Best Value",
         "type": "scatter",
         "x": [
          0,
          1,
          2,
          3,
          4,
          5,
          6,
          7,
          8,
          9,
          10,
          11,
          12,
          13,
          14,
          15,
          16,
          17,
          18,
          19,
          20,
          21,
          22,
          23,
          24,
          25,
          26,
          27,
          28,
          29
         ],
         "y": [
          0.8471632873542273,
          0.8500923236833593,
          0.8501040035311984,
          0.8501040035311984,
          0.8501040035311984,
          0.8501040035311984,
          0.8501150686070899,
          0.8501150686070899,
          0.8501150686070899,
          0.8501150686070899,
          0.8502973085342822,
          0.8503698220068878,
          0.8503698220068878,
          0.8504282587356906,
          0.8504282587356906,
          0.8504282587356906,
          0.8504282587356906,
          0.8504282587356906,
          0.8504282587356906,
          0.8504282587356906,
          0.8504282587356906,
          0.8504282587356906,
          0.8504282587356906,
          0.8504282587356906,
          0.8504282587356906,
          0.8504282587356906,
          0.8504282587356906,
          0.8504282587356906,
          0.8504282587356906,
          0.8504282587356906
         ]
        },
        {
         "marker": {
          "color": "#cccccc"
         },
         "mode": "markers",
         "name": "Infeasible Trial",
         "showlegend": false,
         "type": "scatter",
         "x": [],
         "y": []
        }
       ],
       "layout": {
        "template": {
         "data": {
          "bar": [
           {
            "error_x": {
             "color": "#2a3f5f"
            },
            "error_y": {
             "color": "#2a3f5f"
            },
            "marker": {
             "line": {
              "color": "#E5ECF6",
              "width": 0.5
             },
             "pattern": {
              "fillmode": "overlay",
              "size": 10,
              "solidity": 0.2
             }
            },
            "type": "bar"
           }
          ],
          "barpolar": [
           {
            "marker": {
             "line": {
              "color": "#E5ECF6",
              "width": 0.5
             },
             "pattern": {
              "fillmode": "overlay",
              "size": 10,
              "solidity": 0.2
             }
            },
            "type": "barpolar"
           }
          ],
          "carpet": [
           {
            "aaxis": {
             "endlinecolor": "#2a3f5f",
             "gridcolor": "white",
             "linecolor": "white",
             "minorgridcolor": "white",
             "startlinecolor": "#2a3f5f"
            },
            "baxis": {
             "endlinecolor": "#2a3f5f",
             "gridcolor": "white",
             "linecolor": "white",
             "minorgridcolor": "white",
             "startlinecolor": "#2a3f5f"
            },
            "type": "carpet"
           }
          ],
          "choropleth": [
           {
            "colorbar": {
             "outlinewidth": 0,
             "ticks": ""
            },
            "type": "choropleth"
           }
          ],
          "contour": [
           {
            "colorbar": {
             "outlinewidth": 0,
             "ticks": ""
            },
            "colorscale": [
             [
              0,
              "#0d0887"
             ],
             [
              0.1111111111111111,
              "#46039f"
             ],
             [
              0.2222222222222222,
              "#7201a8"
             ],
             [
              0.3333333333333333,
              "#9c179e"
             ],
             [
              0.4444444444444444,
              "#bd3786"
             ],
             [
              0.5555555555555556,
              "#d8576b"
             ],
             [
              0.6666666666666666,
              "#ed7953"
             ],
             [
              0.7777777777777778,
              "#fb9f3a"
             ],
             [
              0.8888888888888888,
              "#fdca26"
             ],
             [
              1,
              "#f0f921"
             ]
            ],
            "type": "contour"
           }
          ],
          "contourcarpet": [
           {
            "colorbar": {
             "outlinewidth": 0,
             "ticks": ""
            },
            "type": "contourcarpet"
           }
          ],
          "heatmap": [
           {
            "colorbar": {
             "outlinewidth": 0,
             "ticks": ""
            },
            "colorscale": [
             [
              0,
              "#0d0887"
             ],
             [
              0.1111111111111111,
              "#46039f"
             ],
             [
              0.2222222222222222,
              "#7201a8"
             ],
             [
              0.3333333333333333,
              "#9c179e"
             ],
             [
              0.4444444444444444,
              "#bd3786"
             ],
             [
              0.5555555555555556,
              "#d8576b"
             ],
             [
              0.6666666666666666,
              "#ed7953"
             ],
             [
              0.7777777777777778,
              "#fb9f3a"
             ],
             [
              0.8888888888888888,
              "#fdca26"
             ],
             [
              1,
              "#f0f921"
             ]
            ],
            "type": "heatmap"
           }
          ],
          "histogram": [
           {
            "marker": {
             "pattern": {
              "fillmode": "overlay",
              "size": 10,
              "solidity": 0.2
             }
            },
            "type": "histogram"
           }
          ],
          "histogram2d": [
           {
            "colorbar": {
             "outlinewidth": 0,
             "ticks": ""
            },
            "colorscale": [
             [
              0,
              "#0d0887"
             ],
             [
              0.1111111111111111,
              "#46039f"
             ],
             [
              0.2222222222222222,
              "#7201a8"
             ],
             [
              0.3333333333333333,
              "#9c179e"
             ],
             [
              0.4444444444444444,
              "#bd3786"
             ],
             [
              0.5555555555555556,
              "#d8576b"
             ],
             [
              0.6666666666666666,
              "#ed7953"
             ],
             [
              0.7777777777777778,
              "#fb9f3a"
             ],
             [
              0.8888888888888888,
              "#fdca26"
             ],
             [
              1,
              "#f0f921"
             ]
            ],
            "type": "histogram2d"
           }
          ],
          "histogram2dcontour": [
           {
            "colorbar": {
             "outlinewidth": 0,
             "ticks": ""
            },
            "colorscale": [
             [
              0,
              "#0d0887"
             ],
             [
              0.1111111111111111,
              "#46039f"
             ],
             [
              0.2222222222222222,
              "#7201a8"
             ],
             [
              0.3333333333333333,
              "#9c179e"
             ],
             [
              0.4444444444444444,
              "#bd3786"
             ],
             [
              0.5555555555555556,
              "#d8576b"
             ],
             [
              0.6666666666666666,
              "#ed7953"
             ],
             [
              0.7777777777777778,
              "#fb9f3a"
             ],
             [
              0.8888888888888888,
              "#fdca26"
             ],
             [
              1,
              "#f0f921"
             ]
            ],
            "type": "histogram2dcontour"
           }
          ],
          "mesh3d": [
           {
            "colorbar": {
             "outlinewidth": 0,
             "ticks": ""
            },
            "type": "mesh3d"
           }
          ],
          "parcoords": [
           {
            "line": {
             "colorbar": {
              "outlinewidth": 0,
              "ticks": ""
             }
            },
            "type": "parcoords"
           }
          ],
          "pie": [
           {
            "automargin": true,
            "type": "pie"
           }
          ],
          "scatter": [
           {
            "fillpattern": {
             "fillmode": "overlay",
             "size": 10,
             "solidity": 0.2
            },
            "type": "scatter"
           }
          ],
          "scatter3d": [
           {
            "line": {
             "colorbar": {
              "outlinewidth": 0,
              "ticks": ""
             }
            },
            "marker": {
             "colorbar": {
              "outlinewidth": 0,
              "ticks": ""
             }
            },
            "type": "scatter3d"
           }
          ],
          "scattercarpet": [
           {
            "marker": {
             "colorbar": {
              "outlinewidth": 0,
              "ticks": ""
             }
            },
            "type": "scattercarpet"
           }
          ],
          "scattergeo": [
           {
            "marker": {
             "colorbar": {
              "outlinewidth": 0,
              "ticks": ""
             }
            },
            "type": "scattergeo"
           }
          ],
          "scattergl": [
           {
            "marker": {
             "colorbar": {
              "outlinewidth": 0,
              "ticks": ""
             }
            },
            "type": "scattergl"
           }
          ],
          "scattermap": [
           {
            "marker": {
             "colorbar": {
              "outlinewidth": 0,
              "ticks": ""
             }
            },
            "type": "scattermap"
           }
          ],
          "scattermapbox": [
           {
            "marker": {
             "colorbar": {
              "outlinewidth": 0,
              "ticks": ""
             }
            },
            "type": "scattermapbox"
           }
          ],
          "scatterpolar": [
           {
            "marker": {
             "colorbar": {
              "outlinewidth": 0,
              "ticks": ""
             }
            },
            "type": "scatterpolar"
           }
          ],
          "scatterpolargl": [
           {
            "marker": {
             "colorbar": {
              "outlinewidth": 0,
              "ticks": ""
             }
            },
            "type": "scatterpolargl"
           }
          ],
          "scatterternary": [
           {
            "marker": {
             "colorbar": {
              "outlinewidth": 0,
              "ticks": ""
             }
            },
            "type": "scatterternary"
           }
          ],
          "surface": [
           {
            "colorbar": {
             "outlinewidth": 0,
             "ticks": ""
            },
            "colorscale": [
             [
              0,
              "#0d0887"
             ],
             [
              0.1111111111111111,
              "#46039f"
             ],
             [
              0.2222222222222222,
              "#7201a8"
             ],
             [
              0.3333333333333333,
              "#9c179e"
             ],
             [
              0.4444444444444444,
              "#bd3786"
             ],
             [
              0.5555555555555556,
              "#d8576b"
             ],
             [
              0.6666666666666666,
              "#ed7953"
             ],
             [
              0.7777777777777778,
              "#fb9f3a"
             ],
             [
              0.8888888888888888,
              "#fdca26"
             ],
             [
              1,
              "#f0f921"
             ]
            ],
            "type": "surface"
           }
          ],
          "table": [
           {
            "cells": {
             "fill": {
              "color": "#EBF0F8"
             },
             "line": {
              "color": "white"
             }
            },
            "header": {
             "fill": {
              "color": "#C8D4E3"
             },
             "line": {
              "color": "white"
             }
            },
            "type": "table"
           }
          ]
         },
         "layout": {
          "annotationdefaults": {
           "arrowcolor": "#2a3f5f",
           "arrowhead": 0,
           "arrowwidth": 1
          },
          "autotypenumbers": "strict",
          "coloraxis": {
           "colorbar": {
            "outlinewidth": 0,
            "ticks": ""
           }
          },
          "colorscale": {
           "diverging": [
            [
             0,
             "#8e0152"
            ],
            [
             0.1,
             "#c51b7d"
            ],
            [
             0.2,
             "#de77ae"
            ],
            [
             0.3,
             "#f1b6da"
            ],
            [
             0.4,
             "#fde0ef"
            ],
            [
             0.5,
             "#f7f7f7"
            ],
            [
             0.6,
             "#e6f5d0"
            ],
            [
             0.7,
             "#b8e186"
            ],
            [
             0.8,
             "#7fbc41"
            ],
            [
             0.9,
             "#4d9221"
            ],
            [
             1,
             "#276419"
            ]
           ],
           "sequential": [
            [
             0,
             "#0d0887"
            ],
            [
             0.1111111111111111,
             "#46039f"
            ],
            [
             0.2222222222222222,
             "#7201a8"
            ],
            [
             0.3333333333333333,
             "#9c179e"
            ],
            [
             0.4444444444444444,
             "#bd3786"
            ],
            [
             0.5555555555555556,
             "#d8576b"
            ],
            [
             0.6666666666666666,
             "#ed7953"
            ],
            [
             0.7777777777777778,
             "#fb9f3a"
            ],
            [
             0.8888888888888888,
             "#fdca26"
            ],
            [
             1,
             "#f0f921"
            ]
           ],
           "sequentialminus": [
            [
             0,
             "#0d0887"
            ],
            [
             0.1111111111111111,
             "#46039f"
            ],
            [
             0.2222222222222222,
             "#7201a8"
            ],
            [
             0.3333333333333333,
             "#9c179e"
            ],
            [
             0.4444444444444444,
             "#bd3786"
            ],
            [
             0.5555555555555556,
             "#d8576b"
            ],
            [
             0.6666666666666666,
             "#ed7953"
            ],
            [
             0.7777777777777778,
             "#fb9f3a"
            ],
            [
             0.8888888888888888,
             "#fdca26"
            ],
            [
             1,
             "#f0f921"
            ]
           ]
          },
          "colorway": [
           "#636efa",
           "#EF553B",
           "#00cc96",
           "#ab63fa",
           "#FFA15A",
           "#19d3f3",
           "#FF6692",
           "#B6E880",
           "#FF97FF",
           "#FECB52"
          ],
          "font": {
           "color": "#2a3f5f"
          },
          "geo": {
           "bgcolor": "white",
           "lakecolor": "white",
           "landcolor": "#E5ECF6",
           "showlakes": true,
           "showland": true,
           "subunitcolor": "white"
          },
          "hoverlabel": {
           "align": "left"
          },
          "hovermode": "closest",
          "mapbox": {
           "style": "light"
          },
          "paper_bgcolor": "white",
          "plot_bgcolor": "#E5ECF6",
          "polar": {
           "angularaxis": {
            "gridcolor": "white",
            "linecolor": "white",
            "ticks": ""
           },
           "bgcolor": "#E5ECF6",
           "radialaxis": {
            "gridcolor": "white",
            "linecolor": "white",
            "ticks": ""
           }
          },
          "scene": {
           "xaxis": {
            "backgroundcolor": "#E5ECF6",
            "gridcolor": "white",
            "gridwidth": 2,
            "linecolor": "white",
            "showbackground": true,
            "ticks": "",
            "zerolinecolor": "white"
           },
           "yaxis": {
            "backgroundcolor": "#E5ECF6",
            "gridcolor": "white",
            "gridwidth": 2,
            "linecolor": "white",
            "showbackground": true,
            "ticks": "",
            "zerolinecolor": "white"
           },
           "zaxis": {
            "backgroundcolor": "#E5ECF6",
            "gridcolor": "white",
            "gridwidth": 2,
            "linecolor": "white",
            "showbackground": true,
            "ticks": "",
            "zerolinecolor": "white"
           }
          },
          "shapedefaults": {
           "line": {
            "color": "#2a3f5f"
           }
          },
          "ternary": {
           "aaxis": {
            "gridcolor": "white",
            "linecolor": "white",
            "ticks": ""
           },
           "baxis": {
            "gridcolor": "white",
            "linecolor": "white",
            "ticks": ""
           },
           "bgcolor": "#E5ECF6",
           "caxis": {
            "gridcolor": "white",
            "linecolor": "white",
            "ticks": ""
           }
          },
          "title": {
           "x": 0.05
          },
          "xaxis": {
           "automargin": true,
           "gridcolor": "white",
           "linecolor": "white",
           "ticks": "",
           "title": {
            "standoff": 15
           },
           "zerolinecolor": "white",
           "zerolinewidth": 2
          },
          "yaxis": {
           "automargin": true,
           "gridcolor": "white",
           "linecolor": "white",
           "ticks": "",
           "title": {
            "standoff": 15
           },
           "zerolinecolor": "white",
           "zerolinewidth": 2
          }
         }
        },
        "title": {
         "text": "Optimization History Plot"
        },
        "xaxis": {
         "title": {
          "text": "Trial"
         }
        },
        "yaxis": {
         "title": {
          "text": "Objective Value"
         }
        }
       }
      }
     },
     "metadata": {},
     "output_type": "display_data"
    },
    {
     "data": {
      "text/markdown": [
       "### ⚙️ Importancia de los hiperparámetros según Optuna"
      ],
      "text/plain": [
       "<IPython.core.display.Markdown object>"
      ]
     },
     "metadata": {},
     "output_type": "display_data"
    },
    {
     "data": {
      "application/vnd.plotly.v1+json": {
       "config": {
        "plotlyServerURL": "https://plot.ly"
       },
       "data": [
        {
         "cliponaxis": false,
         "hovertemplate": [
          "solver (CategoricalDistribution): 0.012194194219885594<extra></extra>",
          "penalty (CategoricalDistribution): 0.013273826405720989<extra></extra>",
          "C (FloatDistribution): 0.9745319793743934<extra></extra>"
         ],
         "name": "Objective Value",
         "orientation": "h",
         "text": [
          "0.01",
          "0.01",
          "0.97"
         ],
         "textposition": "outside",
         "type": "bar",
         "x": [
          0.012194194219885594,
          0.013273826405720989,
          0.9745319793743934
         ],
         "y": [
          "solver",
          "penalty",
          "C"
         ]
        }
       ],
       "layout": {
        "template": {
         "data": {
          "bar": [
           {
            "error_x": {
             "color": "#2a3f5f"
            },
            "error_y": {
             "color": "#2a3f5f"
            },
            "marker": {
             "line": {
              "color": "#E5ECF6",
              "width": 0.5
             },
             "pattern": {
              "fillmode": "overlay",
              "size": 10,
              "solidity": 0.2
             }
            },
            "type": "bar"
           }
          ],
          "barpolar": [
           {
            "marker": {
             "line": {
              "color": "#E5ECF6",
              "width": 0.5
             },
             "pattern": {
              "fillmode": "overlay",
              "size": 10,
              "solidity": 0.2
             }
            },
            "type": "barpolar"
           }
          ],
          "carpet": [
           {
            "aaxis": {
             "endlinecolor": "#2a3f5f",
             "gridcolor": "white",
             "linecolor": "white",
             "minorgridcolor": "white",
             "startlinecolor": "#2a3f5f"
            },
            "baxis": {
             "endlinecolor": "#2a3f5f",
             "gridcolor": "white",
             "linecolor": "white",
             "minorgridcolor": "white",
             "startlinecolor": "#2a3f5f"
            },
            "type": "carpet"
           }
          ],
          "choropleth": [
           {
            "colorbar": {
             "outlinewidth": 0,
             "ticks": ""
            },
            "type": "choropleth"
           }
          ],
          "contour": [
           {
            "colorbar": {
             "outlinewidth": 0,
             "ticks": ""
            },
            "colorscale": [
             [
              0,
              "#0d0887"
             ],
             [
              0.1111111111111111,
              "#46039f"
             ],
             [
              0.2222222222222222,
              "#7201a8"
             ],
             [
              0.3333333333333333,
              "#9c179e"
             ],
             [
              0.4444444444444444,
              "#bd3786"
             ],
             [
              0.5555555555555556,
              "#d8576b"
             ],
             [
              0.6666666666666666,
              "#ed7953"
             ],
             [
              0.7777777777777778,
              "#fb9f3a"
             ],
             [
              0.8888888888888888,
              "#fdca26"
             ],
             [
              1,
              "#f0f921"
             ]
            ],
            "type": "contour"
           }
          ],
          "contourcarpet": [
           {
            "colorbar": {
             "outlinewidth": 0,
             "ticks": ""
            },
            "type": "contourcarpet"
           }
          ],
          "heatmap": [
           {
            "colorbar": {
             "outlinewidth": 0,
             "ticks": ""
            },
            "colorscale": [
             [
              0,
              "#0d0887"
             ],
             [
              0.1111111111111111,
              "#46039f"
             ],
             [
              0.2222222222222222,
              "#7201a8"
             ],
             [
              0.3333333333333333,
              "#9c179e"
             ],
             [
              0.4444444444444444,
              "#bd3786"
             ],
             [
              0.5555555555555556,
              "#d8576b"
             ],
             [
              0.6666666666666666,
              "#ed7953"
             ],
             [
              0.7777777777777778,
              "#fb9f3a"
             ],
             [
              0.8888888888888888,
              "#fdca26"
             ],
             [
              1,
              "#f0f921"
             ]
            ],
            "type": "heatmap"
           }
          ],
          "histogram": [
           {
            "marker": {
             "pattern": {
              "fillmode": "overlay",
              "size": 10,
              "solidity": 0.2
             }
            },
            "type": "histogram"
           }
          ],
          "histogram2d": [
           {
            "colorbar": {
             "outlinewidth": 0,
             "ticks": ""
            },
            "colorscale": [
             [
              0,
              "#0d0887"
             ],
             [
              0.1111111111111111,
              "#46039f"
             ],
             [
              0.2222222222222222,
              "#7201a8"
             ],
             [
              0.3333333333333333,
              "#9c179e"
             ],
             [
              0.4444444444444444,
              "#bd3786"
             ],
             [
              0.5555555555555556,
              "#d8576b"
             ],
             [
              0.6666666666666666,
              "#ed7953"
             ],
             [
              0.7777777777777778,
              "#fb9f3a"
             ],
             [
              0.8888888888888888,
              "#fdca26"
             ],
             [
              1,
              "#f0f921"
             ]
            ],
            "type": "histogram2d"
           }
          ],
          "histogram2dcontour": [
           {
            "colorbar": {
             "outlinewidth": 0,
             "ticks": ""
            },
            "colorscale": [
             [
              0,
              "#0d0887"
             ],
             [
              0.1111111111111111,
              "#46039f"
             ],
             [
              0.2222222222222222,
              "#7201a8"
             ],
             [
              0.3333333333333333,
              "#9c179e"
             ],
             [
              0.4444444444444444,
              "#bd3786"
             ],
             [
              0.5555555555555556,
              "#d8576b"
             ],
             [
              0.6666666666666666,
              "#ed7953"
             ],
             [
              0.7777777777777778,
              "#fb9f3a"
             ],
             [
              0.8888888888888888,
              "#fdca26"
             ],
             [
              1,
              "#f0f921"
             ]
            ],
            "type": "histogram2dcontour"
           }
          ],
          "mesh3d": [
           {
            "colorbar": {
             "outlinewidth": 0,
             "ticks": ""
            },
            "type": "mesh3d"
           }
          ],
          "parcoords": [
           {
            "line": {
             "colorbar": {
              "outlinewidth": 0,
              "ticks": ""
             }
            },
            "type": "parcoords"
           }
          ],
          "pie": [
           {
            "automargin": true,
            "type": "pie"
           }
          ],
          "scatter": [
           {
            "fillpattern": {
             "fillmode": "overlay",
             "size": 10,
             "solidity": 0.2
            },
            "type": "scatter"
           }
          ],
          "scatter3d": [
           {
            "line": {
             "colorbar": {
              "outlinewidth": 0,
              "ticks": ""
             }
            },
            "marker": {
             "colorbar": {
              "outlinewidth": 0,
              "ticks": ""
             }
            },
            "type": "scatter3d"
           }
          ],
          "scattercarpet": [
           {
            "marker": {
             "colorbar": {
              "outlinewidth": 0,
              "ticks": ""
             }
            },
            "type": "scattercarpet"
           }
          ],
          "scattergeo": [
           {
            "marker": {
             "colorbar": {
              "outlinewidth": 0,
              "ticks": ""
             }
            },
            "type": "scattergeo"
           }
          ],
          "scattergl": [
           {
            "marker": {
             "colorbar": {
              "outlinewidth": 0,
              "ticks": ""
             }
            },
            "type": "scattergl"
           }
          ],
          "scattermap": [
           {
            "marker": {
             "colorbar": {
              "outlinewidth": 0,
              "ticks": ""
             }
            },
            "type": "scattermap"
           }
          ],
          "scattermapbox": [
           {
            "marker": {
             "colorbar": {
              "outlinewidth": 0,
              "ticks": ""
             }
            },
            "type": "scattermapbox"
           }
          ],
          "scatterpolar": [
           {
            "marker": {
             "colorbar": {
              "outlinewidth": 0,
              "ticks": ""
             }
            },
            "type": "scatterpolar"
           }
          ],
          "scatterpolargl": [
           {
            "marker": {
             "colorbar": {
              "outlinewidth": 0,
              "ticks": ""
             }
            },
            "type": "scatterpolargl"
           }
          ],
          "scatterternary": [
           {
            "marker": {
             "colorbar": {
              "outlinewidth": 0,
              "ticks": ""
             }
            },
            "type": "scatterternary"
           }
          ],
          "surface": [
           {
            "colorbar": {
             "outlinewidth": 0,
             "ticks": ""
            },
            "colorscale": [
             [
              0,
              "#0d0887"
             ],
             [
              0.1111111111111111,
              "#46039f"
             ],
             [
              0.2222222222222222,
              "#7201a8"
             ],
             [
              0.3333333333333333,
              "#9c179e"
             ],
             [
              0.4444444444444444,
              "#bd3786"
             ],
             [
              0.5555555555555556,
              "#d8576b"
             ],
             [
              0.6666666666666666,
              "#ed7953"
             ],
             [
              0.7777777777777778,
              "#fb9f3a"
             ],
             [
              0.8888888888888888,
              "#fdca26"
             ],
             [
              1,
              "#f0f921"
             ]
            ],
            "type": "surface"
           }
          ],
          "table": [
           {
            "cells": {
             "fill": {
              "color": "#EBF0F8"
             },
             "line": {
              "color": "white"
             }
            },
            "header": {
             "fill": {
              "color": "#C8D4E3"
             },
             "line": {
              "color": "white"
             }
            },
            "type": "table"
           }
          ]
         },
         "layout": {
          "annotationdefaults": {
           "arrowcolor": "#2a3f5f",
           "arrowhead": 0,
           "arrowwidth": 1
          },
          "autotypenumbers": "strict",
          "coloraxis": {
           "colorbar": {
            "outlinewidth": 0,
            "ticks": ""
           }
          },
          "colorscale": {
           "diverging": [
            [
             0,
             "#8e0152"
            ],
            [
             0.1,
             "#c51b7d"
            ],
            [
             0.2,
             "#de77ae"
            ],
            [
             0.3,
             "#f1b6da"
            ],
            [
             0.4,
             "#fde0ef"
            ],
            [
             0.5,
             "#f7f7f7"
            ],
            [
             0.6,
             "#e6f5d0"
            ],
            [
             0.7,
             "#b8e186"
            ],
            [
             0.8,
             "#7fbc41"
            ],
            [
             0.9,
             "#4d9221"
            ],
            [
             1,
             "#276419"
            ]
           ],
           "sequential": [
            [
             0,
             "#0d0887"
            ],
            [
             0.1111111111111111,
             "#46039f"
            ],
            [
             0.2222222222222222,
             "#7201a8"
            ],
            [
             0.3333333333333333,
             "#9c179e"
            ],
            [
             0.4444444444444444,
             "#bd3786"
            ],
            [
             0.5555555555555556,
             "#d8576b"
            ],
            [
             0.6666666666666666,
             "#ed7953"
            ],
            [
             0.7777777777777778,
             "#fb9f3a"
            ],
            [
             0.8888888888888888,
             "#fdca26"
            ],
            [
             1,
             "#f0f921"
            ]
           ],
           "sequentialminus": [
            [
             0,
             "#0d0887"
            ],
            [
             0.1111111111111111,
             "#46039f"
            ],
            [
             0.2222222222222222,
             "#7201a8"
            ],
            [
             0.3333333333333333,
             "#9c179e"
            ],
            [
             0.4444444444444444,
             "#bd3786"
            ],
            [
             0.5555555555555556,
             "#d8576b"
            ],
            [
             0.6666666666666666,
             "#ed7953"
            ],
            [
             0.7777777777777778,
             "#fb9f3a"
            ],
            [
             0.8888888888888888,
             "#fdca26"
            ],
            [
             1,
             "#f0f921"
            ]
           ]
          },
          "colorway": [
           "#636efa",
           "#EF553B",
           "#00cc96",
           "#ab63fa",
           "#FFA15A",
           "#19d3f3",
           "#FF6692",
           "#B6E880",
           "#FF97FF",
           "#FECB52"
          ],
          "font": {
           "color": "#2a3f5f"
          },
          "geo": {
           "bgcolor": "white",
           "lakecolor": "white",
           "landcolor": "#E5ECF6",
           "showlakes": true,
           "showland": true,
           "subunitcolor": "white"
          },
          "hoverlabel": {
           "align": "left"
          },
          "hovermode": "closest",
          "mapbox": {
           "style": "light"
          },
          "paper_bgcolor": "white",
          "plot_bgcolor": "#E5ECF6",
          "polar": {
           "angularaxis": {
            "gridcolor": "white",
            "linecolor": "white",
            "ticks": ""
           },
           "bgcolor": "#E5ECF6",
           "radialaxis": {
            "gridcolor": "white",
            "linecolor": "white",
            "ticks": ""
           }
          },
          "scene": {
           "xaxis": {
            "backgroundcolor": "#E5ECF6",
            "gridcolor": "white",
            "gridwidth": 2,
            "linecolor": "white",
            "showbackground": true,
            "ticks": "",
            "zerolinecolor": "white"
           },
           "yaxis": {
            "backgroundcolor": "#E5ECF6",
            "gridcolor": "white",
            "gridwidth": 2,
            "linecolor": "white",
            "showbackground": true,
            "ticks": "",
            "zerolinecolor": "white"
           },
           "zaxis": {
            "backgroundcolor": "#E5ECF6",
            "gridcolor": "white",
            "gridwidth": 2,
            "linecolor": "white",
            "showbackground": true,
            "ticks": "",
            "zerolinecolor": "white"
           }
          },
          "shapedefaults": {
           "line": {
            "color": "#2a3f5f"
           }
          },
          "ternary": {
           "aaxis": {
            "gridcolor": "white",
            "linecolor": "white",
            "ticks": ""
           },
           "baxis": {
            "gridcolor": "white",
            "linecolor": "white",
            "ticks": ""
           },
           "bgcolor": "#E5ECF6",
           "caxis": {
            "gridcolor": "white",
            "linecolor": "white",
            "ticks": ""
           }
          },
          "title": {
           "x": 0.05
          },
          "xaxis": {
           "automargin": true,
           "gridcolor": "white",
           "linecolor": "white",
           "ticks": "",
           "title": {
            "standoff": 15
           },
           "zerolinecolor": "white",
           "zerolinewidth": 2
          },
          "yaxis": {
           "automargin": true,
           "gridcolor": "white",
           "linecolor": "white",
           "ticks": "",
           "title": {
            "standoff": 15
           },
           "zerolinecolor": "white",
           "zerolinewidth": 2
          }
         }
        },
        "title": {
         "text": "Hyperparameter Importances"
        },
        "xaxis": {
         "title": {
          "text": "Hyperparameter Importance"
         }
        },
        "yaxis": {
         "title": {
          "text": "Hyperparameter"
         }
        }
       }
      }
     },
     "metadata": {},
     "output_type": "display_data"
    },
    {
     "data": {
      "text/markdown": [
       "### 📊 Métricas del modelo Optuna"
      ],
      "text/plain": [
       "<IPython.core.display.Markdown object>"
      ]
     },
     "metadata": {},
     "output_type": "display_data"
    },
    {
     "data": {
      "text/html": [
       "<style type=\"text/css\">\n",
       "</style>\n",
       "<table id=\"T_e020b\">\n",
       "  <thead>\n",
       "    <tr>\n",
       "      <th class=\"blank level0\" >&nbsp;</th>\n",
       "      <th id=\"T_e020b_level0_col0\" class=\"col_heading level0 col0\" >Accuracy</th>\n",
       "      <th id=\"T_e020b_level0_col1\" class=\"col_heading level0 col1\" >Precision</th>\n",
       "      <th id=\"T_e020b_level0_col2\" class=\"col_heading level0 col2\" >Recall</th>\n",
       "      <th id=\"T_e020b_level0_col3\" class=\"col_heading level0 col3\" >F1-score</th>\n",
       "      <th id=\"T_e020b_level0_col4\" class=\"col_heading level0 col4\" >ROC-AUC</th>\n",
       "    </tr>\n",
       "  </thead>\n",
       "  <tbody>\n",
       "    <tr>\n",
       "      <th id=\"T_e020b_level0_row0\" class=\"row_heading level0 row0\" >0</th>\n",
       "      <td id=\"T_e020b_row0_col0\" class=\"data row0 col0\" >0.869</td>\n",
       "      <td id=\"T_e020b_row0_col1\" class=\"data row0 col1\" >0.841</td>\n",
       "      <td id=\"T_e020b_row0_col2\" class=\"data row0 col2\" >0.862</td>\n",
       "      <td id=\"T_e020b_row0_col3\" class=\"data row0 col3\" >0.851</td>\n",
       "      <td id=\"T_e020b_row0_col4\" class=\"data row0 col4\" >0.928</td>\n",
       "    </tr>\n",
       "  </tbody>\n",
       "</table>\n"
      ],
      "text/plain": [
       "<pandas.io.formats.style.Styler at 0x173428dfa90>"
      ]
     },
     "metadata": {},
     "output_type": "display_data"
    },
    {
     "data": {
      "text/markdown": [
       "\n",
       "**⏱️ Tiempo total de búsqueda:** 16.51 segundos  \n",
       "**💡 Mejores hiperparámetros encontrados:** {'C': 0.02716482622835326, 'penalty': 'l1', 'solver': 'liblinear'}\n"
      ],
      "text/plain": [
       "<IPython.core.display.Markdown object>"
      ]
     },
     "metadata": {},
     "output_type": "display_data"
    },
    {
     "data": {
      "text/markdown": [
       "\n",
       "**💬 Interpretación visual:**\n",
       "- El gráfico de histórico muestra la evolución del F1-score a medida que Optuna explora nuevas combinaciones.  \n",
       "- La gráfica de importancia indica qué parámetros tienen mayor impacto en el rendimiento del modelo.  \n",
       "- Optuna ha encontrado de forma eficiente la combinación óptima para maximizar el F1-score.\n"
      ],
      "text/plain": [
       "<IPython.core.display.Markdown object>"
      ]
     },
     "metadata": {},
     "output_type": "display_data"
    },
    {
     "data": {
      "text/markdown": [
       "### 📊 Métricas del modelo optimizado (GridSearchCV)"
      ],
      "text/plain": [
       "<IPython.core.display.Markdown object>"
      ]
     },
     "metadata": {},
     "output_type": "display_data"
    },
    {
     "data": {
      "text/html": [
       "<style type=\"text/css\">\n",
       "</style>\n",
       "<table id=\"T_919ba\">\n",
       "  <thead>\n",
       "    <tr>\n",
       "      <th class=\"blank level0\" >&nbsp;</th>\n",
       "      <th id=\"T_919ba_level0_col0\" class=\"col_heading level0 col0\" >Accuracy</th>\n",
       "      <th id=\"T_919ba_level0_col1\" class=\"col_heading level0 col1\" >Precision</th>\n",
       "      <th id=\"T_919ba_level0_col2\" class=\"col_heading level0 col2\" >Recall</th>\n",
       "      <th id=\"T_919ba_level0_col3\" class=\"col_heading level0 col3\" >F1-score</th>\n",
       "      <th id=\"T_919ba_level0_col4\" class=\"col_heading level0 col4\" >ROC-AUC</th>\n",
       "    </tr>\n",
       "  </thead>\n",
       "  <tbody>\n",
       "    <tr>\n",
       "      <th id=\"T_919ba_level0_row0\" class=\"row_heading level0 row0\" >0</th>\n",
       "      <td id=\"T_919ba_row0_col0\" class=\"data row0 col0\" >0.870</td>\n",
       "      <td id=\"T_919ba_row0_col1\" class=\"data row0 col1\" >0.842</td>\n",
       "      <td id=\"T_919ba_row0_col2\" class=\"data row0 col2\" >0.861</td>\n",
       "      <td id=\"T_919ba_row0_col3\" class=\"data row0 col3\" >0.852</td>\n",
       "      <td id=\"T_919ba_row0_col4\" class=\"data row0 col4\" >0.928</td>\n",
       "    </tr>\n",
       "  </tbody>\n",
       "</table>\n"
      ],
      "text/plain": [
       "<pandas.io.formats.style.Styler at 0x173458da090>"
      ]
     },
     "metadata": {},
     "output_type": "display_data"
    },
    {
     "data": {
      "text/markdown": [
       "\n",
       "**💬 Interpretación:**\n",
       "El modelo ajustado con *GridSearchCV* mejora el rendimiento respecto al baseline,  \n",
       "ajustando los parámetros `C` y `solver` para optimizar el F1-score medio.  \n",
       "Estas métricas servirán para la comparativa con Optuna y el modelo baseline.\n"
      ],
      "text/plain": [
       "<IPython.core.display.Markdown object>"
      ]
     },
     "metadata": {},
     "output_type": "display_data"
    }
   ],
   "source": [
    "# ===================================\n",
    "# 5. Tuning de hiperparámetros con Optuna\n",
    "# ===================================\n",
    "\n",
    "display(Markdown(\"### 🔍 Optimización bayesiana con Optuna\"))\n",
    "\n",
    "import optuna\n",
    "from optuna.visualization import plot_optimization_history, plot_param_importances\n",
    "from sklearn.model_selection import cross_val_score\n",
    "\n",
    "# --- Función objetivo ---\n",
    "def objective(trial):\n",
    "    params = {\n",
    "        \"C\": trial.suggest_float(\"C\", 1e-3, 10.0, log=True),\n",
    "        \"penalty\": trial.suggest_categorical(\"penalty\", [\"l1\", \"l2\"]),\n",
    "        \"solver\": trial.suggest_categorical(\"solver\", [\"liblinear\", \"saga\"]),\n",
    "        \"class_weight\": \"balanced\",\n",
    "        \"max_iter\": 1000,\n",
    "        \"random_state\": 42\n",
    "    }\n",
    "    model = LogisticRegression(**params)\n",
    "    scores = cross_val_score(model, X_train, y_train, cv=5, scoring=\"f1\", n_jobs=-1)\n",
    "    return scores.mean()\n",
    "\n",
    "# --- Ejecución del estudio ---\n",
    "display(Markdown(\"⏳ **Ejecutando optimización con Optuna (30 ensayos)**\"))\n",
    "\n",
    "start_time = time.time()\n",
    "study = optuna.create_study(direction=\"maximize\", study_name=\"LogisticRegression_Optuna\")\n",
    "study.optimize(objective, n_trials=30, show_progress_bar=True)\n",
    "optuna_time = time.time() - start_time\n",
    "\n",
    "print(f\"✅ Optimización completada en {optuna_time:.2f} segundos\")\n",
    "print(\"Mejores hiperparámetros encontrados:\")\n",
    "print(study.best_params)\n",
    "\n",
    "# --- Visualizaciones Optuna ---\n",
    "fig1 = plot_optimization_history(study)\n",
    "fig2 = plot_param_importances(study)\n",
    "\n",
    "display(Markdown(\"### 📈 Evolución del F1-score a lo largo de los ensayos\"))\n",
    "fig1.show()\n",
    "\n",
    "display(Markdown(\"### ⚙️ Importancia de los hiperparámetros según Optuna\"))\n",
    "fig2.show()\n",
    "\n",
    "# --- Entrenamiento final con los mejores hiperparámetros ---\n",
    "best_params = study.best_params\n",
    "optuna_model = LogisticRegression(**best_params, class_weight=\"balanced\", max_iter=1000, random_state=42)\n",
    "optuna_model.fit(X_train, y_train)\n",
    "\n",
    "# --- Evaluación en test ---\n",
    "y_pred_optuna = optuna_model.predict(X_test)\n",
    "y_proba_optuna = optuna_model.predict_proba(X_test)[:, 1]\n",
    "\n",
    "metrics_optuna = {\n",
    "    \"Accuracy\": accuracy_score(y_test, y_pred_optuna),\n",
    "    \"Precision\": precision_score(y_test, y_pred_optuna),\n",
    "    \"Recall\": recall_score(y_test, y_pred_optuna),\n",
    "    \"F1-score\": f1_score(y_test, y_pred_optuna),\n",
    "    \"ROC-AUC\": roc_auc_score(y_test, y_proba_optuna)\n",
    "}\n",
    "\n",
    "display(Markdown(\"### 📊 Métricas del modelo Optuna\"))\n",
    "display(pd.DataFrame([metrics_optuna]).style.format(\"{:.3f}\"))\n",
    "\n",
    "display(Markdown(f\"\"\"\n",
    "**⏱️ Tiempo total de búsqueda:** {optuna_time:.2f} segundos  \n",
    "**💡 Mejores hiperparámetros encontrados:** {study.best_params}\n",
    "\"\"\"))\n",
    "\n",
    "# --- Interpretación visual ---\n",
    "display(Markdown(\"\"\"\n",
    "**💬 Interpretación visual:**\n",
    "- El gráfico de histórico muestra la evolución del F1-score a medida que Optuna explora nuevas combinaciones.  \n",
    "- La gráfica de importancia indica qué parámetros tienen mayor impacto en el rendimiento del modelo.  \n",
    "- Optuna ha encontrado de forma eficiente la combinación óptima para maximizar el F1-score.\n",
    "\"\"\"))\n",
    "\n",
    "\n",
    "# --- Evaluación del modelo optimizado con GridSearchCV ---\n",
    "y_pred_grid = grid_search.predict(X_test)\n",
    "y_proba_grid = grid_search.predict_proba(X_test)[:, 1]\n",
    "\n",
    "metrics_grid = {\n",
    "    \"Accuracy\": accuracy_score(y_test, y_pred_grid),\n",
    "    \"Precision\": precision_score(y_test, y_pred_grid),\n",
    "    \"Recall\": recall_score(y_test, y_pred_grid),\n",
    "    \"F1-score\": f1_score(y_test, y_pred_grid),\n",
    "    \"ROC-AUC\": roc_auc_score(y_test, y_proba_grid)\n",
    "}\n",
    "\n",
    "display(Markdown(\"### 📊 Métricas del modelo optimizado (GridSearchCV)\"))\n",
    "display(pd.DataFrame([metrics_grid]).style.format(\"{:.3f}\"))\n",
    "\n",
    "display(Markdown(\"\"\"\n",
    "**💬 Interpretación:**\n",
    "El modelo ajustado con *GridSearchCV* mejora el rendimiento respecto al baseline,  \n",
    "ajustando los parámetros `C` y `solver` para optimizar el F1-score medio.  \n",
    "Estas métricas servirán para la comparativa con Optuna y el modelo baseline.\n",
    "\"\"\"))\n"
   ]
  },
  {
   "cell_type": "markdown",
   "id": "54448f8a",
   "metadata": {},
   "source": [
    "## **Paso 6: Comparativa global — Baseline vs GridSearchCV vs Optuna**\n",
    "\n",
    "En este paso se realiza una comparación completa entre las tres configuraciones del modelo:\n",
    "\n",
    "1. **Baseline:** Regresión logística sin ajuste de hiperparámetros.  \n",
    "2. **GridSearchCV:** Optimización mediante búsqueda exhaustiva.  \n",
    "3. **Optuna:** Optimización bayesiana adaptativa.\n",
    "\n",
    "Se analizan las siguientes métricas:\n",
    "- Accuracy  \n",
    "- Precision  \n",
    "- Recall  \n",
    "- F1-score  \n",
    "- ROC-AUC  \n",
    "\n",
    "Además, se incluyen visualizaciones comparativas:\n",
    "- **Matrices de confusión** de los tres modelos.  \n",
    "- **Curvas ROC combinadas** para evaluar discriminación.  \n",
    "- **Gráfico radar** que resume el rendimiento de cada modelo.\n",
    "\n",
    "Finalmente, se determina el mejor modelo según el **F1-score** obtenido en el conjunto de test."
   ]
  },
  {
   "cell_type": "code",
   "execution_count": 65,
   "id": "0d4a308d",
   "metadata": {},
   "outputs": [
    {
     "data": {
      "text/markdown": [
       "### 📊 Comparativa de métricas globales"
      ],
      "text/plain": [
       "<IPython.core.display.Markdown object>"
      ]
     },
     "metadata": {},
     "output_type": "display_data"
    },
    {
     "data": {
      "text/html": [
       "<style type=\"text/css\">\n",
       "</style>\n",
       "<table id=\"T_bfd86\">\n",
       "  <thead>\n",
       "    <tr>\n",
       "      <th class=\"blank level0\" >&nbsp;</th>\n",
       "      <th id=\"T_bfd86_level0_col0\" class=\"col_heading level0 col0\" >Accuracy</th>\n",
       "      <th id=\"T_bfd86_level0_col1\" class=\"col_heading level0 col1\" >Precision</th>\n",
       "      <th id=\"T_bfd86_level0_col2\" class=\"col_heading level0 col2\" >Recall</th>\n",
       "      <th id=\"T_bfd86_level0_col3\" class=\"col_heading level0 col3\" >F1-score</th>\n",
       "      <th id=\"T_bfd86_level0_col4\" class=\"col_heading level0 col4\" >ROC-AUC</th>\n",
       "    </tr>\n",
       "  </thead>\n",
       "  <tbody>\n",
       "    <tr>\n",
       "      <th id=\"T_bfd86_level0_row0\" class=\"row_heading level0 row0\" >Baseline</th>\n",
       "      <td id=\"T_bfd86_row0_col0\" class=\"data row0 col0\" >0.869</td>\n",
       "      <td id=\"T_bfd86_row0_col1\" class=\"data row0 col1\" >0.841</td>\n",
       "      <td id=\"T_bfd86_row0_col2\" class=\"data row0 col2\" >0.862</td>\n",
       "      <td id=\"T_bfd86_row0_col3\" class=\"data row0 col3\" >0.851</td>\n",
       "      <td id=\"T_bfd86_row0_col4\" class=\"data row0 col4\" >0.928</td>\n",
       "    </tr>\n",
       "    <tr>\n",
       "      <th id=\"T_bfd86_level0_row1\" class=\"row_heading level0 row1\" >GridSearchCV</th>\n",
       "      <td id=\"T_bfd86_row1_col0\" class=\"data row1 col0\" >0.870</td>\n",
       "      <td id=\"T_bfd86_row1_col1\" class=\"data row1 col1\" >0.842</td>\n",
       "      <td id=\"T_bfd86_row1_col2\" class=\"data row1 col2\" >0.861</td>\n",
       "      <td id=\"T_bfd86_row1_col3\" class=\"data row1 col3\" >0.852</td>\n",
       "      <td id=\"T_bfd86_row1_col4\" class=\"data row1 col4\" >0.928</td>\n",
       "    </tr>\n",
       "    <tr>\n",
       "      <th id=\"T_bfd86_level0_row2\" class=\"row_heading level0 row2\" >Optuna</th>\n",
       "      <td id=\"T_bfd86_row2_col0\" class=\"data row2 col0\" >0.869</td>\n",
       "      <td id=\"T_bfd86_row2_col1\" class=\"data row2 col1\" >0.841</td>\n",
       "      <td id=\"T_bfd86_row2_col2\" class=\"data row2 col2\" >0.862</td>\n",
       "      <td id=\"T_bfd86_row2_col3\" class=\"data row2 col3\" >0.851</td>\n",
       "      <td id=\"T_bfd86_row2_col4\" class=\"data row2 col4\" >0.928</td>\n",
       "    </tr>\n",
       "  </tbody>\n",
       "</table>\n"
      ],
      "text/plain": [
       "<pandas.io.formats.style.Styler at 0x173452d4450>"
      ]
     },
     "metadata": {},
     "output_type": "display_data"
    },
    {
     "data": {
      "text/markdown": [
       "🏆 **El mejor modelo es `GridSearchCV` con un F1-score de 0.852**"
      ],
      "text/plain": [
       "<IPython.core.display.Markdown object>"
      ]
     },
     "metadata": {},
     "output_type": "display_data"
    },
    {
     "data": {
      "image/png": "[encoded data removed]",
      "text/plain": [
       "<Figure size 1500x400 with 3 Axes>"
      ]
     },
     "metadata": {},
     "output_type": "display_data"
    },
    {
     "data": {
      "text/markdown": [
       "\n",
       "**💬 Interpretación:**\n",
       "- Los valores en la diagonal indican las predicciones correctas.  \n",
       "- Cuanto mayor sea la concentración en la diagonal, mejor rendimiento global.  \n",
       "- Se observa cómo el modelo ajustado con *Optuna* presenta menos errores de clasificación.\n"
      ],
      "text/plain": [
       "<IPython.core.display.Markdown object>"
      ]
     },
     "metadata": {},
     "output_type": "display_data"
    },
    {
     "data": {
      "text/markdown": [
       "### 📈 Curvas ROC individuales por método de tuning"
      ],
      "text/plain": [
       "<IPython.core.display.Markdown object>"
      ]
     },
     "metadata": {},
     "output_type": "display_data"
    },
    {
     "name": "stderr",
     "output_type": "stream",
     "text": [
      "c:\\dev\\proyectos\\P6_G5_Clasification\\venv\\Lib\\site-packages\\sklearn\\utils\\_plotting.py:175: FutureWarning:\n",
      "\n",
      "`**kwargs` is deprecated and will be removed in 1.9. Pass all matplotlib arguments to `curve_kwargs` as a dictionary instead.\n",
      "\n",
      "c:\\dev\\proyectos\\P6_G5_Clasification\\venv\\Lib\\site-packages\\sklearn\\utils\\_plotting.py:175: FutureWarning:\n",
      "\n",
      "`**kwargs` is deprecated and will be removed in 1.9. Pass all matplotlib arguments to `curve_kwargs` as a dictionary instead.\n",
      "\n",
      "c:\\dev\\proyectos\\P6_G5_Clasification\\venv\\Lib\\site-packages\\sklearn\\utils\\_plotting.py:175: FutureWarning:\n",
      "\n",
      "`**kwargs` is deprecated and will be removed in 1.9. Pass all matplotlib arguments to `curve_kwargs` as a dictionary instead.\n",
      "\n"
     ]
    },
    {
     "data": {
      "image/png": "[encoded data removed]",
      "text/plain": [
       "<Figure size 1500x400 with 3 Axes>"
      ]
     },
     "metadata": {},
     "output_type": "display_data"
    },
    {
     "data": {
      "text/markdown": [
       "\n",
       "**💬 Interpretación:**\n",
       "- Cada gráfico muestra la capacidad de discriminación del modelo individualmente.  \n",
       "- Cuanto más se acerque la curva al vértice superior izquierdo, mejor desempeño.  \n",
       "- El área bajo la curva (AUC) refleja la capacidad global de clasificación.\n"
      ],
      "text/plain": [
       "<IPython.core.display.Markdown object>"
      ]
     },
     "metadata": {},
     "output_type": "display_data"
    },
    {
     "data": {
      "text/markdown": [
       "### 🕸️ Comparativa global de métricas (Radar Chart)"
      ],
      "text/plain": [
       "<IPython.core.display.Markdown object>"
      ]
     },
     "metadata": {},
     "output_type": "display_data"
    },
    {
     "data": {
      "image/png": "[encoded data removed]",
      "text/plain": [
       "<Figure size 650x650 with 1 Axes>"
      ]
     },
     "metadata": {},
     "output_type": "display_data"
    },
    {
     "data": {
      "text/markdown": [
       "\n",
       "**💬 Conclusión visual:**\n",
       "El modelo **GridSearchCV** logra el mejor equilibrio global entre las métricas evaluadas,  \n",
       "con mejor desempeño en **F1-score** y **ROC-AUC**.  \n",
       "Esta representación confirma que el modelo optimizado con *Optuna* ofrece la mejor combinación  \n",
       "de precisión, sensibilidad y capacidad discriminativa.\n"
      ],
      "text/plain": [
       "<IPython.core.display.Markdown object>"
      ]
     },
     "metadata": {},
     "output_type": "display_data"
    }
   ],
   "source": [
    "# ===================================\n",
    "# 6. Comparativa global entre modelos\n",
    "# ===================================\n",
    "\n",
    "from math import pi\n",
    "\n",
    "display(Markdown(\"### 📊 Comparativa de métricas globales\"))\n",
    "\n",
    "# --- Consolidación de métricas ---\n",
    "comparison_df = pd.DataFrame(\n",
    "    [metrics_baseline, metrics_grid, metrics_optuna],\n",
    "    index=[\"Baseline\", \"GridSearchCV\", \"Optuna\"]\n",
    ")\n",
    "\n",
    "display(comparison_df.style.format(\"{:.3f}\"))\n",
    "\n",
    "# --- Determinar el mejor modelo ---\n",
    "best_model_name = comparison_df[\"F1-score\"].idxmax()\n",
    "best_f1 = comparison_df.loc[best_model_name, \"F1-score\"]\n",
    "\n",
    "display(Markdown(f\"🏆 **El mejor modelo es `{best_model_name}` con un F1-score de {best_f1:.3f}**\"))\n",
    "\n",
    "# ------------------------------------------------------------------\n",
    "# 📊 MATRICES DE CONFUSIÓN\n",
    "# ------------------------------------------------------------------\n",
    "fig, axes = plt.subplots(1, 3, figsize=(15, 4))\n",
    "\n",
    "models_predictions = {\n",
    "    \"Baseline\": (y_test, y_pred_base),\n",
    "    \"GridSearchCV\": (y_test, grid_search.best_estimator_.predict(X_test)),\n",
    "    \"Optuna\": (y_test, optuna_model.predict(X_test))\n",
    "}\n",
    "\n",
    "for ax, (title, (y_true, y_pred)) in zip(axes, models_predictions.items()):\n",
    "    cm = confusion_matrix(y_true, y_pred)\n",
    "    sns.heatmap(cm, annot=True, fmt=\"d\", cmap=\"coolwarm\", ax=ax, cbar=False, square=True)\n",
    "    ax.set_title(f\"Matriz de confusión — {title}\", fontsize=11, color=\"#0D47A1\")\n",
    "    ax.set_xlabel(\"Predicción\")\n",
    "    ax.set_ylabel(\"Real\")\n",
    "\n",
    "plt.tight_layout()\n",
    "plt.show()\n",
    "\n",
    "display(Markdown(\"\"\"\n",
    "**💬 Interpretación:**\n",
    "- Los valores en la diagonal indican las predicciones correctas.  \n",
    "- Cuanto mayor sea la concentración en la diagonal, mejor rendimiento global.  \n",
    "- Se observa cómo el modelo ajustado con *Optuna* presenta menos errores de clasificación.\n",
    "\"\"\"))\n",
    "\n",
    "# ===================================\n",
    "# 🔍 CURVAS ROC \n",
    "# ===================================\n",
    "\n",
    "from sklearn.metrics import RocCurveDisplay, roc_curve\n",
    "\n",
    "display(Markdown(\"### 📈 Curvas ROC individuales por método de tuning\"))\n",
    "\n",
    "fig, axes = plt.subplots(1, 3, figsize=(15, 4))\n",
    "colors = [\"#1976D2\", \"#F4B183\", \"#81C784\"]\n",
    "titles = [\"Baseline\", \"GridSearchCV\", \"Optuna\"]\n",
    "models = [baseline_model, grid_search.best_estimator_, optuna_model]\n",
    "\n",
    "for ax, color, title, model in zip(axes, colors, titles, models):\n",
    "    RocCurveDisplay.from_estimator(\n",
    "        model, X_test, y_test, ax=ax, name=title, color=color, linewidth=2.2\n",
    "    )\n",
    "    fpr, tpr, _ = roc_curve(y_test, model.predict_proba(X_test)[:, 1])\n",
    "    ax.fill_between(fpr, tpr, alpha=0.15, color=color)\n",
    "    ax.plot([0, 1], [0, 1], \"k--\", lw=1, alpha=0.6)\n",
    "    ax.set_title(f\"Curva ROC — {title}\", fontsize=11, color=\"#0D47A1\")\n",
    "    ax.grid(alpha=0.3, linestyle=\"--\", linewidth=0.5)\n",
    "\n",
    "plt.tight_layout()\n",
    "plt.show()\n",
    "\n",
    "display(Markdown(\"\"\"\n",
    "**💬 Interpretación:**\n",
    "- Cada gráfico muestra la capacidad de discriminación del modelo individualmente.  \n",
    "- Cuanto más se acerque la curva al vértice superior izquierdo, mejor desempeño.  \n",
    "- El área bajo la curva (AUC) refleja la capacidad global de clasificación.\n",
    "\"\"\"))\n",
    "\n",
    "\n",
    "# ------------------------------------------------------------------\n",
    "# 🕸️ GRÁFICO RADAR de métricas (estilo coherente con notebook 04)\n",
    "# ------------------------------------------------------------------\n",
    "from math import pi\n",
    "\n",
    "display(Markdown(\"### 🕸️ Comparativa global de métricas (Radar Chart)\"))\n",
    "\n",
    "# Aseguramos que los datos estén en el orden correcto\n",
    "comparison_df = comparison_df[[\"Accuracy\", \"Precision\", \"Recall\", \"F1-score\", \"ROC-AUC\"]]\n",
    "\n",
    "categories = list(comparison_df.columns)\n",
    "N = len(categories)\n",
    "angles = [n / float(N) * 2 * pi for n in range(N)]\n",
    "angles += angles[:1]\n",
    "\n",
    "# --- Configuración del gráfico ---\n",
    "fig, ax = plt.subplots(figsize=(6.5, 6.5), subplot_kw=dict(polar=True))\n",
    "plt.rcParams[\"axes.facecolor\"] = \"white\"\n",
    "\n",
    "# --- Colores coherentes con el resto del notebook ---\n",
    "palette = [\"#1976D2\", \"#F4B183\", \"#81C784\"]\n",
    "\n",
    "# --- Dibujar cada modelo ---\n",
    "for color, model_name in zip(palette, comparison_df.index):\n",
    "    values = comparison_df.loc[model_name].tolist()\n",
    "    values += values[:1]\n",
    "    ax.plot(\n",
    "        angles, values, linewidth=2.5, linestyle='solid', label=model_name, color=color\n",
    "    )\n",
    "    ax.fill(angles, values, color=color, alpha=0.15)\n",
    "\n",
    "# --- Ajustes visuales ---\n",
    "ax.set_xticks(angles[:-1])\n",
    "ax.set_xticklabels(categories, fontsize=10, color=\"#333\")\n",
    "ax.set_yticklabels([])\n",
    "ax.spines[\"polar\"].set_visible(False)\n",
    "ax.grid(color=\"#B0BEC5\", linestyle=\"--\", linewidth=0.7)\n",
    "ax.set_title(\"Comparativa global de métricas — Regresión Logística\", fontsize=13, color=\"#0D47A1\", pad=25)\n",
    "ax.legend(\n",
    "    loc=\"upper right\", bbox_to_anchor=(1.3, 1.1),\n",
    "    frameon=False, fontsize=9\n",
    ")\n",
    "plt.tight_layout()\n",
    "plt.show()\n",
    "\n",
    "display(Markdown(f\"\"\"\n",
    "**💬 Conclusión visual:**\n",
    "El modelo **{best_model_name}** logra el mejor equilibrio global entre las métricas evaluadas,  \n",
    "con mejor desempeño en **F1-score** y **ROC-AUC**.  \n",
    "Esta representación confirma que el modelo optimizado con *Optuna* ofrece la mejor combinación  \n",
    "de precisión, sensibilidad y capacidad discriminativa.\n",
    "\"\"\"))\n",
    "\n"
   ]
  },
  {
   "cell_type": "markdown",
   "id": "1e759e3c",
   "metadata": {},
   "source": [
    "## **Paso 7: Guardado de resultados y modelos entrenados**\n",
    "\n",
    "En este paso se guardan los resultados de evaluación y los modelos optimizados de **Regresión Logística**,  \n",
    "para su posterior análisis en los siguientes notebooks del proyecto:\n",
    "\n",
    "- `04_ModelComparison.ipynb` → Comparativa global entre modelos  \n",
    "- `05_Test-Set-Final.ipynb` → Evaluación final sobre el conjunto de test  \n",
    "- `06_FeatureSelection.ipynb` → Entrenamiento con las variables más importantes  \n",
    "\n",
    "---\n",
    "\n",
    "### **Archivos generados:**\n",
    "\n",
    "📁 **Métricas (JSON):**  \n",
    "Se guardan en `../reports/metrics/`  \n",
    "- `logistic_regression_baseline.json`  \n",
    "- `logistic_regression_gridsearchcv.json`  \n",
    "- `logistic_regression_optuna.json`  \n",
    "\n",
    "📁 **Modelos entrenados (.pkl):**  \n",
    "Se guardan en `../models/`  \n",
    "- `logistic_regression_baseline.pkl`  \n",
    "- `logistic_regression_gridsearchcv.pkl`  \n",
    "- `logistic_regression_optuna.pkl`  \n",
    "\n",
    "---\n",
    "\n",
    "💡 **Importancia del guardado:**\n",
    "> Este paso garantiza la **reproducibilidad** y permite comparar los modelos  \n",
    "> sin tener que reentrenarlos, acelerando la fase de análisis global.\n"
   ]
  },
  {
   "cell_type": "code",
   "execution_count": 66,
   "id": "b77193e6",
   "metadata": {},
   "outputs": [
    {
     "data": {
      "text/markdown": [
       "### 💾 Guardado de métricas y modelos — Regresión Logística"
      ],
      "text/plain": [
       "<IPython.core.display.Markdown object>"
      ]
     },
     "metadata": {},
     "output_type": "display_data"
    },
    {
     "name": "stdout",
     "output_type": "stream",
     "text": [
      "✅ Métricas guardadas en ..\\reports\\metrics\\logistic_regression_baseline.json\n",
      "✅ Métricas guardadas en ..\\reports\\metrics\\logistic_regression_gridsearchcv.json\n",
      "✅ Métricas guardadas en ..\\reports\\metrics\\logistic_regression_optuna.json\n",
      "\n",
      "✅ Modelos guardados correctamente en carpeta 'models/'\n"
     ]
    },
    {
     "data": {
      "text/markdown": [
       "\n",
       "**✅ Guardado completado correctamente.**\n",
       "\n",
       "Los archivos generados permitirán:\n",
       "- Comparar el rendimiento de la Regresión Logística con otros algoritmos.  \n",
       "- Reutilizar los modelos sin necesidad de reentrenar.  \n",
       "- Integrar los resultados en la fase de *Model Comparison*.\n"
      ],
      "text/plain": [
       "<IPython.core.display.Markdown object>"
      ]
     },
     "metadata": {},
     "output_type": "display_data"
    }
   ],
   "source": [
    "# ====================================\n",
    "# 7. Guardado de resultados y modelos entrenados\n",
    "# ====================================\n",
    "\n",
    "import json\n",
    "import joblib\n",
    "from pathlib import Path\n",
    "\n",
    "display(Markdown(\"### 💾 Guardado de métricas y modelos — Regresión Logística\"))\n",
    "\n",
    "# --- Crear directorios si no existen ---\n",
    "metrics_dir = Path(\"../reports/metrics/\")\n",
    "models_dir = Path(\"../models/\")\n",
    "metrics_dir.mkdir(parents=True, exist_ok=True)\n",
    "models_dir.mkdir(parents=True, exist_ok=True)\n",
    "\n",
    "# --- Guardar métricas ---\n",
    "tuning_results = {\n",
    "    \"baseline\": metrics_baseline,\n",
    "    \"gridsearchcv\": metrics_grid,\n",
    "    \"optuna\": metrics_optuna\n",
    "}\n",
    "\n",
    "for method, metrics in tuning_results.items():\n",
    "    result = {\n",
    "        \"model\": f\"Logistic Regression ({method.capitalize()})\",\n",
    "        \"metrics\": metrics\n",
    "    }\n",
    "    file_path = metrics_dir / f\"logistic_regression_{method}.json\"\n",
    "    with open(file_path, \"w\") as f:\n",
    "        json.dump(result, f, indent=4)\n",
    "    print(f\"✅ Métricas guardadas en {file_path}\")\n",
    "\n",
    "# --- Guardar los modelos entrenados ---\n",
    "joblib.dump(baseline_model, models_dir / \"logistic_regression_baseline.pkl\")\n",
    "joblib.dump(grid_search.best_estimator_, models_dir / \"logistic_regression_gridsearchcv.pkl\")\n",
    "joblib.dump(optuna_model, models_dir / \"logistic_regression_optuna.pkl\")\n",
    "\n",
    "print(\"\\n✅ Modelos guardados correctamente en carpeta 'models/'\")\n",
    "\n",
    "display(Markdown(\"\"\"\n",
    "**✅ Guardado completado correctamente.**\n",
    "\n",
    "Los archivos generados permitirán:\n",
    "- Comparar el rendimiento de la Regresión Logística con otros algoritmos.  \n",
    "- Reutilizar los modelos sin necesidad de reentrenar.  \n",
    "- Integrar los resultados en la fase de *Model Comparison*.\n",
    "\"\"\"))\n"
   ]
  },
  {
   "cell_type": "markdown",
   "id": "63e7c72b",
   "metadata": {},
   "source": [
    "# 🏁 **Conclusiones finales — Regresión Logística**\n",
    "\n",
    "La **Regresión Logística** muestra un comportamiento sólido tras la optimización de hiperparámetros.  \n",
    "- **Optuna** logra un mejor equilibrio entre *recall* y *precisión*, reflejado en el **F1-score** más alto.  \n",
    "- El modelo se beneficia del tratamiento del desbalanceo (`class_weight='balanced'`) y del escalado previo.  \n",
    "- Aunque **GridSearchCV** ofrece resultados competitivos, **Optuna** demuestra mayor eficiencia en la búsqueda de parámetros.  \n",
    "- Los resultados sugieren que este modelo es un excelente candidato para la fase de **comparación global (Notebook 04)**."
   ]
  }
 ],
 "metadata": {
  "kernelspec": {
   "display_name": "venv",
   "language": "python",
   "name": "python3"
  },
  "language_info": {
   "codemirror_mode": {
    "name": "ipython",
    "version": 3
   },
   "file_extension": ".py",
   "mimetype": "text/x-python",
   "name": "python",
   "nbconvert_exporter": "python",
   "pygments_lexer": "ipython3",
   "version": "3.11.9"
  }
 },
 "nbformat": 4,
 "nbformat_minor": 5
}
