{
 "cells": [
  {
   "cell_type": "markdown",
   "id": "d0ccb11c",
   "metadata": {},
   "source": [
    "# ✈️ 02 - Preparación del dataset: Split y Escalado\n",
    "\n",
    "En este notebook continuamos el flujo del proyecto iniciado en `01_EDA-preprocessing.ipynb`, preparando el dataset limpio (`cleaned_airline_satisfaction.csv`) para el entrenamiento de modelos supervisados.\n",
    "\n",
    "### 🎯 Objetivos:\n",
    "1. Cargar el dataset limpio generado en el EDA.  \n",
    "2. Separar las variables predictoras (`X`) de la variable objetivo (`y`).  \n",
    "3. Codificar las variables categóricas.  \n",
    "4. Dividir el dataset en subconjuntos de entrenamiento y prueba (80% / 20%).  \n",
    "5. Crear versiones **escaladas** y **no escaladas** para adaptarlas a los diferentes modelos supervisados.  \n",
    "6. Exportar los datasets listos para el modelado (notebooks 03_*).  \n",
    "\n",
    "El escalado se aplicará únicamente a las variables numéricas continuas,  \n",
    "ya que los algoritmos basados en árboles (como Random Forest o XGBoost) no lo requieren,  \n",
    "mientras que otros modelos (SVM, KNN, Regresión Logística) sí son sensibles a la escala.\n"
   ]
  },
  {
   "cell_type": "markdown",
   "id": "268c2d4e",
   "metadata": {},
   "source": [
    "## **Paso 1: Carga del dataset limpio**\n",
    "\n",
    "Se importa el dataset procesado en el EDA, que ya no contiene valores nulos, duplicados ni columnas irrelevantes.  \n",
    "Revisamos su estructura general antes de continuar."
   ]
  },
  {
   "cell_type": "code",
   "execution_count": 63,
   "id": "0142efe6",
   "metadata": {},
   "outputs": [
    {
     "name": "stdout",
     "output_type": "stream",
     "text": [
      "✅ Dataset cargado correctamente.\n",
      "Tamaño del dataset: (103904, 23)\n"
     ]
    },
    {
     "data": {
      "text/html": [
       "<div>\n",
       "<style scoped>\n",
       "    .dataframe tbody tr th:only-of-type {\n",
       "        vertical-align: middle;\n",
       "    }\n",
       "\n",
       "    .dataframe tbody tr th {\n",
       "        vertical-align: top;\n",
       "    }\n",
       "\n",
       "    .dataframe thead th {\n",
       "        text-align: right;\n",
       "    }\n",
       "</style>\n",
       "<table border=\"1\" class=\"dataframe\">\n",
       "  <thead>\n",
       "    <tr style=\"text-align: right;\">\n",
       "      <th></th>\n",
       "      <th>Gender</th>\n",
       "      <th>Customer Type</th>\n",
       "      <th>Age</th>\n",
       "      <th>Type of Travel</th>\n",
       "      <th>Class</th>\n",
       "      <th>Flight Distance</th>\n",
       "      <th>Inflight wifi service</th>\n",
       "      <th>Departure/Arrival time convenient</th>\n",
       "      <th>Ease of Online booking</th>\n",
       "      <th>Gate location</th>\n",
       "      <th>...</th>\n",
       "      <th>Inflight entertainment</th>\n",
       "      <th>On-board service</th>\n",
       "      <th>Leg room service</th>\n",
       "      <th>Baggage handling</th>\n",
       "      <th>Checkin service</th>\n",
       "      <th>Inflight service</th>\n",
       "      <th>Cleanliness</th>\n",
       "      <th>Departure Delay in Minutes</th>\n",
       "      <th>Arrival Delay in Minutes</th>\n",
       "      <th>satisfaction</th>\n",
       "    </tr>\n",
       "  </thead>\n",
       "  <tbody>\n",
       "    <tr>\n",
       "      <th>0</th>\n",
       "      <td>Male</td>\n",
       "      <td>Loyal Customer</td>\n",
       "      <td>13</td>\n",
       "      <td>Personal Travel</td>\n",
       "      <td>Eco Plus</td>\n",
       "      <td>460</td>\n",
       "      <td>3</td>\n",
       "      <td>4</td>\n",
       "      <td>3</td>\n",
       "      <td>1</td>\n",
       "      <td>...</td>\n",
       "      <td>5</td>\n",
       "      <td>4</td>\n",
       "      <td>3</td>\n",
       "      <td>4</td>\n",
       "      <td>4</td>\n",
       "      <td>5</td>\n",
       "      <td>5</td>\n",
       "      <td>25.0</td>\n",
       "      <td>18.0</td>\n",
       "      <td>neutral or dissatisfied</td>\n",
       "    </tr>\n",
       "    <tr>\n",
       "      <th>1</th>\n",
       "      <td>Male</td>\n",
       "      <td>disloyal Customer</td>\n",
       "      <td>25</td>\n",
       "      <td>Business travel</td>\n",
       "      <td>Business</td>\n",
       "      <td>235</td>\n",
       "      <td>3</td>\n",
       "      <td>2</td>\n",
       "      <td>3</td>\n",
       "      <td>3</td>\n",
       "      <td>...</td>\n",
       "      <td>1</td>\n",
       "      <td>1</td>\n",
       "      <td>5</td>\n",
       "      <td>3</td>\n",
       "      <td>1</td>\n",
       "      <td>4</td>\n",
       "      <td>1</td>\n",
       "      <td>1.0</td>\n",
       "      <td>6.0</td>\n",
       "      <td>neutral or dissatisfied</td>\n",
       "    </tr>\n",
       "    <tr>\n",
       "      <th>2</th>\n",
       "      <td>Female</td>\n",
       "      <td>Loyal Customer</td>\n",
       "      <td>26</td>\n",
       "      <td>Business travel</td>\n",
       "      <td>Business</td>\n",
       "      <td>1142</td>\n",
       "      <td>2</td>\n",
       "      <td>2</td>\n",
       "      <td>2</td>\n",
       "      <td>2</td>\n",
       "      <td>...</td>\n",
       "      <td>5</td>\n",
       "      <td>4</td>\n",
       "      <td>3</td>\n",
       "      <td>4</td>\n",
       "      <td>4</td>\n",
       "      <td>4</td>\n",
       "      <td>5</td>\n",
       "      <td>0.0</td>\n",
       "      <td>0.0</td>\n",
       "      <td>satisfied</td>\n",
       "    </tr>\n",
       "  </tbody>\n",
       "</table>\n",
       "<p>3 rows × 23 columns</p>\n",
       "</div>"
      ],
      "text/plain": [
       "   Gender      Customer Type  Age   Type of Travel     Class  Flight Distance  \\\n",
       "0    Male     Loyal Customer   13  Personal Travel  Eco Plus              460   \n",
       "1    Male  disloyal Customer   25  Business travel  Business              235   \n",
       "2  Female     Loyal Customer   26  Business travel  Business             1142   \n",
       "\n",
       "   Inflight wifi service  Departure/Arrival time convenient  \\\n",
       "0                      3                                  4   \n",
       "1                      3                                  2   \n",
       "2                      2                                  2   \n",
       "\n",
       "   Ease of Online booking  Gate location  ...  Inflight entertainment  \\\n",
       "0                       3              1  ...                       5   \n",
       "1                       3              3  ...                       1   \n",
       "2                       2              2  ...                       5   \n",
       "\n",
       "   On-board service  Leg room service  Baggage handling  Checkin service  \\\n",
       "0                 4                 3                 4                4   \n",
       "1                 1                 5                 3                1   \n",
       "2                 4                 3                 4                4   \n",
       "\n",
       "   Inflight service  Cleanliness  Departure Delay in Minutes  \\\n",
       "0                 5            5                        25.0   \n",
       "1                 4            1                         1.0   \n",
       "2                 4            5                         0.0   \n",
       "\n",
       "   Arrival Delay in Minutes             satisfaction  \n",
       "0                      18.0  neutral or dissatisfied  \n",
       "1                       6.0  neutral or dissatisfied  \n",
       "2                       0.0                satisfied  \n",
       "\n",
       "[3 rows x 23 columns]"
      ]
     },
     "execution_count": 63,
     "metadata": {},
     "output_type": "execute_result"
    }
   ],
   "source": [
    "# ===================================\n",
    "# 1. Import librerías y carga del dataset limpio en el EDA\n",
    "# ===================================\n",
    "\n",
    "\n",
    "# Librerías\n",
    "import pandas as pd\n",
    "import numpy as np\n",
    "import matplotlib.pyplot as plt\n",
    "import seaborn as sns\n",
    "from sklearn.model_selection import train_test_split\n",
    "from sklearn.preprocessing import StandardScaler\n",
    "from IPython.display import display, Markdown\n",
    "\n",
    "# Configuración visual\n",
    "plt.style.use('default')\n",
    "sns.set_palette(\"Set2\")\n",
    "plt.rcParams[\"figure.figsize\"] = (8,5)\n",
    "\n",
    "# Cargar el dataset limpio\n",
    "df = pd.read_csv(\"../data/processed/cleaned_airline_satisfaction.csv\")\n",
    "\n",
    "# Vista previa del dataset\n",
    "print(\"✅ Dataset cargado correctamente.\")\n",
    "print(f\"Tamaño del dataset: {df.shape}\")\n",
    "df.head(3)\n"
   ]
  },
  {
   "cell_type": "markdown",
   "id": "59b349f5",
   "metadata": {},
   "source": [
    "## **Paso 2: Separación de variables predictoras y objetivo**\n",
    "\n",
    "La variable objetivo es **`satisfaction`**, con dos clases:\n",
    "- `\"satisfied\"`  \n",
    "- `\"neutral or dissatisfied\"`\n",
    "\n",
    "En este paso se separa el dataset en:\n",
    "- **`X`** → Variables predictoras (todas las características usadas para predecir).  \n",
    "- **`y`** → Variable objetivo (*target*), que en este caso es la columna `satisfaction`.  \n",
    "\n",
    "Esta separación es esencial para el entrenamiento supervisado de los modelos.\n"
   ]
  },
  {
   "cell_type": "code",
   "execution_count": 64,
   "id": "d827077d",
   "metadata": {},
   "outputs": [
    {
     "name": "stdout",
     "output_type": "stream",
     "text": [
      "✅ Variables separadas correctamente.\n",
      "X shape: (103904, 22)\n",
      "y shape: (103904,)\n"
     ]
    },
    {
     "data": {
      "text/markdown": [
       "\n",
       "**💬 Interpretación:**\n",
       "\n",
       "- La variable objetivo es **`satisfaction`**, que representa la **satisfacción del pasajero**  \n",
       "  (valores: *satisfied* o *neutral/dissatisfied*).  \n",
       "- Las demás columnas conforman el conjunto de características predictoras (**X**),  \n",
       "  que serán utilizadas por los modelos para aprender patrones.  \n",
       "- La verificación de dimensiones confirma que `y` contiene una sola columna  \n",
       "  y `X` conserva todas las variables explicativas restantes.\n"
      ],
      "text/plain": [
       "<IPython.core.display.Markdown object>"
      ]
     },
     "metadata": {},
     "output_type": "display_data"
    }
   ],
   "source": [
    "# ===================================\n",
    "# 2. Separación de variables predictoras y objetivo\n",
    "# ===================================\n",
    "\n",
    "# Variable objetivo\n",
    "target_col = \"satisfaction\"\n",
    "\n",
    "# Separar variables predictoras (X) y objetivo (y)\n",
    "X = df.drop(columns=[target_col])\n",
    "y = df[target_col]\n",
    "\n",
    "# Verificar shapes\n",
    "print(f\"✅ Variables separadas correctamente.\")\n",
    "print(f\"X shape: {X.shape}\")\n",
    "print(f\"y shape: {y.shape}\")\n",
    "\n",
    "# --- Comentario interpretativo ---\n",
    "display(Markdown(\n",
    "\"\"\"\n",
    "**💬 Interpretación:**\n",
    "\n",
    "- La variable objetivo es **`satisfaction`**, que representa la **satisfacción del pasajero**  \n",
    "  (valores: *satisfied* o *neutral/dissatisfied*).  \n",
    "- Las demás columnas conforman el conjunto de características predictoras (**X**),  \n",
    "  que serán utilizadas por los modelos para aprender patrones.  \n",
    "- La verificación de dimensiones confirma que `y` contiene una sola columna  \n",
    "  y `X` conserva todas las variables explicativas restantes.\n",
    "\"\"\"\n",
    "))"
   ]
  },
  {
   "cell_type": "markdown",
   "id": "8698d7cc",
   "metadata": {},
   "source": [
    "## **Paso 2.1: Normalización de la variable objetivo (`satisfaction`)**\n",
    "\n",
    "Convertimos la variable objetivo `satisfaction` a formato **binario (0/1)** para garantizar compatibilidad con todos los modelos de clasificación supervisada.\n",
    "\n",
    "- `neutral or dissatisfied` → **0**\n",
    "- `satisfied` → **1**\n",
    "\n",
    "Esta transformación es esencial para que métricas como **ROC-AUC**, **Precision**, **Recall** o **F1-score** funcionen correctamente.\n"
   ]
  },
  {
   "cell_type": "code",
   "execution_count": 65,
   "id": "8c35e82b",
   "metadata": {},
   "outputs": [
    {
     "name": "stdout",
     "output_type": "stream",
     "text": [
      "✅ Variable objetivo normalizada correctamente.\n",
      "\n",
      "Conteo de clases:\n",
      "satisfaction\n",
      "0    58879\n",
      "1    45025\n",
      "Name: count, dtype: int64\n",
      "\n",
      "Proporción de clases (%):\n",
      "satisfaction\n",
      "0    56.67\n",
      "1    43.33\n",
      "Name: proportion, dtype: float64\n"
     ]
    },
    {
     "data": {
      "text/markdown": [
       "\n",
       "**💬 Interpretación visual:**\n",
       "- La variable `satisfaction` ha sido convertida a formato **binario (0 / 1)**.\n",
       "- Esto permite que todos los modelos de clasificación trabajen de forma coherente.\n",
       "- Facilita el cálculo de métricas como **ROC-AUC**, **F1-score** y **Precision/Recall**.\n",
       "- Los valores ahora representan:\n",
       "  - `0`: Clientes *neutros o insatisfechos*.\n",
       "  - `1`: Clientes *satisfechos*.\n"
      ],
      "text/plain": [
       "<IPython.core.display.Markdown object>"
      ]
     },
     "metadata": {},
     "output_type": "display_data"
    }
   ],
   "source": [
    "# ===================================\n",
    "# 2.1 Normalización de la variable objetivo (binaria)\n",
    "# ===================================\n",
    "\n",
    "from IPython.display import Markdown, display\n",
    "\n",
    "# Convertimos la variable 'satisfaction' a formato binario:\n",
    "# 0 → Clientes no satisfechos o neutros\n",
    "# 1 → Clientes satisfechos\n",
    "y = y.map({\n",
    "    \"neutral or dissatisfied\": 0,\n",
    "    \"satisfied\": 1\n",
    "})\n",
    "\n",
    "# Verificar la conversión y distribución de clases\n",
    "print(\"✅ Variable objetivo normalizada correctamente.\\n\")\n",
    "print(\"Conteo de clases:\")\n",
    "print(y.value_counts())\n",
    "print(\"\\nProporción de clases (%):\")\n",
    "print((y.value_counts(normalize=True) * 100).round(2))\n",
    "\n",
    "# Mostrar explicación interpretativa debajo del resultado\n",
    "display(Markdown(\"\"\"\n",
    "**💬 Interpretación visual:**\n",
    "- La variable `satisfaction` ha sido convertida a formato **binario (0 / 1)**.\n",
    "- Esto permite que todos los modelos de clasificación trabajen de forma coherente.\n",
    "- Facilita el cálculo de métricas como **ROC-AUC**, **F1-score** y **Precision/Recall**.\n",
    "- Los valores ahora representan:\n",
    "  - `0`: Clientes *neutros o insatisfechos*.\n",
    "  - `1`: Clientes *satisfechos*.\n",
    "\"\"\"))\n",
    "\n",
    "\n",
    "\n"
   ]
  },
  {
   "cell_type": "markdown",
   "id": "4024f6cf",
   "metadata": {},
   "source": [
    "## **Paso 3: Codificación de variables categóricas**\n",
    "\n",
    "Para utilizar el dataset en modelos supervisados de Machine Learning, las variables categóricas deben transformarse en formato numérico.\n",
    "\n",
    "Por ello, convertimos las variables categóricas (`Gender`, `Customer Type`, `Type of Travel`, `Class`) en variables binarias mediante **One-Hot Encoding** mediante `pd.get_dummies()`, creando una nueva columna (0/1) por cada categoría posible, pero eliminando una por variable (`drop_first=True`)  para evitar multicolinealidad.\n",
    "\n",
    "Las variables numéricas no se modifican en este paso.\n"
   ]
  },
  {
   "cell_type": "code",
   "execution_count": 66,
   "id": "cc7b0ce5",
   "metadata": {},
   "outputs": [
    {
     "name": "stdout",
     "output_type": "stream",
     "text": [
      "Variables categóricas a codificar: ['Gender', 'Customer Type', 'Type of Travel', 'Class']\n",
      "✅ Codificación completada.\n",
      "Número de columnas antes: 22, después: 23\n"
     ]
    },
    {
     "data": {
      "text/markdown": [
       "\n",
       "**💬 Interpretación:**\n",
       "\n",
       "- Las variables categóricas detectadas se han transformado a formato binario (*0/1*).  \n",
       "- El parámetro `drop_first=True` elimina una categoría de referencia para cada variable,  \n",
       "  reduciendo la redundancia (evita el problema de la “trampa de las variables ficticias”).  \n",
       "- El aumento en el número de columnas indica cuántas nuevas categorías se generaron tras la codificación.  \n",
       "- Este paso permite que **modelos basados en valores numéricos** (como Regresión Logística, SVM, o KNN)  \n",
       "  puedan interpretar correctamente estas variables.\n"
      ],
      "text/plain": [
       "<IPython.core.display.Markdown object>"
      ]
     },
     "metadata": {},
     "output_type": "display_data"
    }
   ],
   "source": [
    "# ===================================\n",
    "# 3. Codificación de variables categóricas\n",
    "# ===================================\n",
    "# Para utilizar el dataset en modelos supervisados, las variables categóricas deben transformarse en formato numérico.\n",
    "\n",
    "\n",
    "# Identificar variables categóricas\n",
    "cat_cols = X.select_dtypes(include=['object', 'category']).columns.tolist()\n",
    "print(f\"Variables categóricas a codificar: {cat_cols}\")\n",
    "\n",
    "\n",
    "# Aplicar codificación one-hot a variables categóricas\n",
    "# Codificación con get_dummies\n",
    "X_encoded = pd.get_dummies(X, drop_first=True)\n",
    "\n",
    "# Comaparar número de columnas antes y después\n",
    "print(\"✅ Codificación completada.\")\n",
    "print(f\"Número de columnas antes: {X.shape[1]}, después: {X_encoded.shape[1]}\")\n",
    "\n",
    "# --- Comentario interpretativo ---\n",
    "display(Markdown(\n",
    "\"\"\"\n",
    "**💬 Interpretación:**\n",
    "\n",
    "- Las variables categóricas detectadas se han transformado a formato binario (*0/1*).  \n",
    "- El parámetro `drop_first=True` elimina una categoría de referencia para cada variable,  \n",
    "  reduciendo la redundancia (evita el problema de la “trampa de las variables ficticias”).  \n",
    "- El aumento en el número de columnas indica cuántas nuevas categorías se generaron tras la codificación.  \n",
    "- Este paso permite que **modelos basados en valores numéricos** (como Regresión Logística, SVM, o KNN)  \n",
    "  puedan interpretar correctamente estas variables.\n",
    "\"\"\"\n",
    "))"
   ]
  },
  {
   "cell_type": "markdown",
   "id": "8dff9df1",
   "metadata": {},
   "source": [
    "## **Paso 4: División del dataset en entrenamiento y prueba**\n",
    "\n",
    "Dividimos el dataset en subconjuntos:\n",
    "- **80% entrenamiento (train)** → para ajustar los modelos.  \n",
    "- **20% prueba (test)** → para evaluar el rendimiento.  \n",
    "\n",
    "La división mantiene la proporción de clases mediante `stratify=y` para evitar que el modelo aprenda con un conjunto desbalanceado.\n",
    "\n"
   ]
  },
  {
   "cell_type": "code",
   "execution_count": 67,
   "id": "2cca7e84",
   "metadata": {},
   "outputs": [
    {
     "name": "stdout",
     "output_type": "stream",
     "text": [
      "✅ División realizada correctamente.\n",
      "X_train: (83123, 23), X_test: (20781, 23)\n",
      "y_train: (83123,), y_test: (20781,)\n"
     ]
    },
    {
     "data": {
      "text/markdown": [
       "\n",
       "**💬 Interpretación:**\n",
       "\n",
       "- La división se ha realizado correctamente manteniendo el **equilibrio de clases**  \n",
       "  gracias al parámetro `stratify=y`.  \n",
       "- `X_train` y `y_train` se usarán para **entrenar y ajustar los modelos**,  \n",
       "  mientras que `X_test` y `y_test` quedarán reservados para **la evaluación final**.  \n",
       "- Este paso garantiza que la comparación de métricas entre modelos sea **justa y fiable**.\n"
      ],
      "text/plain": [
       "<IPython.core.display.Markdown object>"
      ]
     },
     "metadata": {},
     "output_type": "display_data"
    }
   ],
   "source": [
    "# ===================================\n",
    "# 4. División del dataset en entrenamiento y prueba\n",
    "# ===================================\n",
    "\n",
    "\n",
    "# Se realiza la división en un **80% para entrenamiento** y **20% para prueba**,\n",
    "# manteniendo la proporción de clases (`stratify=y`) para evitar desbalanceo\n",
    "X_train, X_test, y_train, y_test = train_test_split(\n",
    "    X_encoded, y, test_size=0.2, random_state=42, stratify=y\n",
    ")\n",
    "\n",
    "print(\"✅ División realizada correctamente.\")\n",
    "print(f\"X_train: {X_train.shape}, X_test: {X_test.shape}\")\n",
    "print(f\"y_train: {y_train.shape}, y_test: {y_test.shape}\")\n",
    "\n",
    "# --- Interpretación visual ---\n",
    "display(Markdown(\n",
    "\"\"\"\n",
    "**💬 Interpretación:**\n",
    "\n",
    "- La división se ha realizado correctamente manteniendo el **equilibrio de clases**  \n",
    "  gracias al parámetro `stratify=y`.  \n",
    "- `X_train` y `y_train` se usarán para **entrenar y ajustar los modelos**,  \n",
    "  mientras que `X_test` y `y_test` quedarán reservados para **la evaluación final**.  \n",
    "- Este paso garantiza que la comparación de métricas entre modelos sea **justa y fiable**.\n",
    "\"\"\"\n",
    "))"
   ]
  },
  {
   "cell_type": "markdown",
   "id": "24ce8b89",
   "metadata": {},
   "source": [
    "## **Paso 5: Verificación del balanceo de clases**\n",
    "\n",
    "Antes de entrenar cualquier modelo, es fundamental **comprobar la proporción de clases**  \n",
    "en los conjuntos de *train* y *test*.  \n",
    "\n",
    "Esto nos permite asegurar que el **split estratificado** ha mantenido la misma distribución  \n",
    "de la variable objetivo (*satisfaction*) en ambos subconjuntos.  \n",
    "\n",
    "Si los conjuntos estuvieran desbalanceados, el modelo podría aprender a **favorecer la clase mayoritaria**.\n",
    "\n",
    "Comprobamos que la proporción entre pasajeros satisfechos y no satisfechos (clases `Satisfied` vs `Neutral or Dissatisfied`)  \n",
    "se mantenga similar en los conjuntos de entrenamiento y prueba.\n"
   ]
  },
  {
   "cell_type": "code",
   "execution_count": 68,
   "id": "3324a3a1",
   "metadata": {},
   "outputs": [
    {
     "data": {
      "image/png": "[encoded data removed]",
      "text/plain": [
       "<Figure size 1000x400 with 2 Axes>"
      ]
     },
     "metadata": {},
     "output_type": "display_data"
    },
    {
     "name": "stdout",
     "output_type": "stream",
     "text": [
      "Proporción de clases en Train:\n",
      "satisfaction\n",
      "0    0.566666\n",
      "1    0.433334\n",
      "Name: proportion, dtype: float64\n",
      "\n",
      "Proporción de clases en Test:\n",
      "satisfaction\n",
      "0    0.566671\n",
      "1    0.433329\n",
      "Name: proportion, dtype: float64\n"
     ]
    },
    {
     "data": {
      "text/markdown": [
       "\n",
       "**💬 Interpretación visual:**\n",
       "\n",
       "- Ambos gráficos muestran la proporción de clientes **satisfechos** e **insatisfechos**  \n",
       "  en los subconjuntos de *train* y *test*.  \n",
       "- Si las proporciones son similares, el muestreo estratificado se ha realizado correctamente.  \n",
       "- En este dataset, existe un **ligero desbalanceo** (más pasajeros *neutral/insatisfechos* que *satisfechos*),  \n",
       "  lo que será importante tener en cuenta durante el entrenamiento (por ejemplo, usando `class_weight='balanced'`).\n"
      ],
      "text/plain": [
       "<IPython.core.display.Markdown object>"
      ]
     },
     "metadata": {},
     "output_type": "display_data"
    }
   ],
   "source": [
    "# ===================================\n",
    "# 5. Verificación del balanceo de clases\n",
    "# ===================================\n",
    "\n",
    "\n",
    "# Comparación de proporciones de clases en train y test\n",
    "fig, axes = plt.subplots(1, 2, figsize=(10, 4))\n",
    "\n",
    "# Gráficas de barras para el conjunto de entrenamiento (Train)\n",
    "sns.countplot(x=y_train, hue=y_train, ax=axes[0], palette=\"Set2\", legend=False)\n",
    "axes[0].set_title(\"Distribución en Train Set\", fontsize=12)\n",
    "axes[0].set_xlabel(\"Satisfacción\")\n",
    "axes[0].set_ylabel(\"Número de pasajeros\")\n",
    "\n",
    "# Gráficas de barras para el conjunto de prueba (Test)\n",
    "sns.countplot(x=y_test, hue=y_test, ax=axes[1], palette=\"Set2\", legend=False)\n",
    "axes[1].set_title(\"Distribución en Test Set\", fontsize=12)\n",
    "axes[1].set_xlabel(\"Satisfacción\")\n",
    "axes[1].set_ylabel(\"Número de pasajeros\")\n",
    "\n",
    "\n",
    "plt.suptitle(\"Comparación del balanceo de clases\", fontsize=14)\n",
    "plt.tight_layout()\n",
    "plt.show()\n",
    "\n",
    "# Mostrar proporciones numéricas de clases en train y test\n",
    "print(\"Proporción de clases en Train:\")\n",
    "print(y_train.value_counts(normalize=True))\n",
    "print(\"\\nProporción de clases en Test:\")\n",
    "print(y_test.value_counts(normalize=True))\n",
    "\n",
    "# --- Comentario interpretativo ---\n",
    "display(Markdown(\n",
    "\"\"\"\n",
    "**💬 Interpretación visual:**\n",
    "\n",
    "- Ambos gráficos muestran la proporción de clientes **satisfechos** e **insatisfechos**  \n",
    "  en los subconjuntos de *train* y *test*.  \n",
    "- Si las proporciones son similares, el muestreo estratificado se ha realizado correctamente.  \n",
    "- En este dataset, existe un **ligero desbalanceo** (más pasajeros *neutral/insatisfechos* que *satisfechos*),  \n",
    "  lo que será importante tener en cuenta durante el entrenamiento (por ejemplo, usando `class_weight='balanced'`).\n",
    "\"\"\"\n",
    "))"
   ]
  },
  {
   "cell_type": "markdown",
   "id": "d37673eb",
   "metadata": {},
   "source": [
    "## **Paso 6: Escalado de variables numéricas**\n",
    "\n",
    "El escalado homogeniza las magnitudes de las variables numéricas continuas, garantiza que **todas las características tengan la misma escala** y ninguna domine el proceso de aprendizaje del modelo.  \n",
    " \n",
    "Se aplica **StandardScaler** de `scikit-learn`, que transforma los valores para que tengan o se centren a la media en 0 y desviación estándar a 1.\n",
    "\n",
    "- Los algoritmos basados en distancia o gradiente (**SVM, KNN, Regresión Logística**) necesitan este paso.  \n",
    "- Los modelos basados en árboles (**Random Forest, XGBoost, LightGBM**) no lo requieren.  \n",
    "\n",
    "Por ello, generaremos **dos versiones del dataset**: escalada y no escalada.\n",
    "\n",
    "Solo se escalan las variables **numéricas continuas**, mientras que las variables categóricas codificadas (dummies) permanecen sin escalar.\n"
   ]
  },
  {
   "cell_type": "code",
   "execution_count": 69,
   "id": "4cfc600f",
   "metadata": {},
   "outputs": [
    {
     "name": "stdout",
     "output_type": "stream",
     "text": [
      "✅ Escalado aplicado correctamente.\n",
      "Número de variables escaladas: 18\n"
     ]
    },
    {
     "data": {
      "text/markdown": [
       "\n",
       "**💬 Interpretación:**\n",
       "\n",
       "- El escalado se ajusta **solo con los datos de entrenamiento** (`fit_transform`)  \n",
       "  y se aplica **al conjunto de prueba** (`transform`) para evitar fugas de información (*data leakage*).  \n",
       "- Las variables numéricas quedan ahora en una escala comparable,  \n",
       "  lo que es especialmente importante para modelos que se basan en distancia  \n",
       "  (como **KNN**, **SVM**, o **Regresión Logística**).  \n",
       "- Los modelos basados en árboles (*Decision Tree, Random Forest, XGBoost*) no requieren escalado,  \n",
       "  pero mantener datasets escalados y no escalados permite usarlos indistintamente.\n"
      ],
      "text/plain": [
       "<IPython.core.display.Markdown object>"
      ]
     },
     "metadata": {},
     "output_type": "display_data"
    }
   ],
   "source": [
    "#===================================\n",
    "# 6. Escalado de variables numéricas\n",
    "#===================================\n",
    "\n",
    "\n",
    "# Identificar columnas numéricas (sólo éstas se escalan)\n",
    "num_cols = X.select_dtypes(include=[\"int64\", \"float64\"]).columns\n",
    "\n",
    "# Inicializar el escalador\n",
    "scaler = StandardScaler()\n",
    "\n",
    "# Copiar los datasets para escalado para no sobrescribir los originales\n",
    "X_train_scaled = X_train.copy()\n",
    "X_test_scaled = X_test.copy()\n",
    "\n",
    "# Aplicar escalado sólo a las columnas numéricas\n",
    "X_train_scaled[num_cols] = scaler.fit_transform(X_train[num_cols])\n",
    "X_test_scaled[num_cols] = scaler.transform(X_test[num_cols])\n",
    "\n",
    "print(\"✅ Escalado aplicado correctamente.\")\n",
    "print(f\"Número de variables escaladas: {len(num_cols)}\")\n",
    "\n",
    "# --- Comentario interpretativo ---\n",
    "display(Markdown(\n",
    "\"\"\"\n",
    "**💬 Interpretación:**\n",
    "\n",
    "- El escalado se ajusta **solo con los datos de entrenamiento** (`fit_transform`)  \n",
    "  y se aplica **al conjunto de prueba** (`transform`) para evitar fugas de información (*data leakage*).  \n",
    "- Las variables numéricas quedan ahora en una escala comparable,  \n",
    "  lo que es especialmente importante para modelos que se basan en distancia  \n",
    "  (como **KNN**, **SVM**, o **Regresión Logística**).  \n",
    "- Los modelos basados en árboles (*Decision Tree, Random Forest, XGBoost*) no requieren escalado,  \n",
    "  pero mantener datasets escalados y no escalados permite usarlos indistintamente.\n",
    "\"\"\"\n",
    "))"
   ]
  },
  {
   "cell_type": "markdown",
   "id": "aaea1e97",
   "metadata": {},
   "source": [
    "## **Paso 7: Comparación visual del escalado**\n",
    "\n",
    "Visualizamos la distribución de una variable continua, antes y después del escalado,  \n",
    "para confirmar que el `StandardScaler` ha centrado los valores en torno a 0.\n",
    "\n",
    "El escalado de variables numéricas es fundamental para garantizar que todos los atributos  \n",
    "tengan el mismo rango de valores y **no dominen el proceso de aprendizaje** de los modelos.  \n",
    "\n",
    "Aquí se muestra la diferencia en la distribución de una variable continua (*Flight Distance*)  \n",
    "antes y después del escalado.\n"
   ]
  },
  {
   "cell_type": "code",
   "execution_count": 70,
   "id": "d2ddb817",
   "metadata": {},
   "outputs": [
    {
     "data": {
      "image/png": "[encoded data removed]",
      "text/plain": [
       "<Figure size 1000x400 with 2 Axes>"
      ]
     },
     "metadata": {},
     "output_type": "display_data"
    },
    {
     "data": {
      "text/markdown": [
       "\n",
       "**💬 Interpretación visual:**\n",
       "\n",
       "- El gráfico **izquierdo** muestra la distribución original de la variable *Flight Distance*,  \n",
       "  donde los valores pueden tener una gran dispersión (por ejemplo, vuelos cortos y largos).  \n",
       "- El gráfico **derecho** representa la misma variable **tras aplicar escalado (StandardScaler)**,  \n",
       "  centrando los valores en torno a la media (0) y ajustando la desviación estándar (1).  \n",
       "- Aunque la **forma de la distribución (KDE)** se mantiene, el rango cambia:  \n",
       "  ahora todos los valores están normalizados, lo que permite que los modelos basados en distancia  \n",
       "  (como KNN o SVM) funcionen correctamente sin que una variable domine sobre las demás.\n"
      ],
      "text/plain": [
       "<IPython.core.display.Markdown object>"
      ]
     },
     "metadata": {},
     "output_type": "display_data"
    }
   ],
   "source": [
    "#===================================\n",
    "# 7. Comparación visual del escalado\n",
    "#===================================\n",
    "\n",
    "# Seleccionamos una variable continua representativa\n",
    "var = \"Flight Distance\"  # Ejemplo de variable continua\n",
    " \n",
    "# --- Gráfica de comparación ---\n",
    "fig, axes = plt.subplots(1, 2, figsize=(10, 4))\n",
    "\n",
    "# Distribución original\n",
    "sns.histplot(X_train[var], kde=True, ax=axes[0], color=\"skyblue\")\n",
    "axes[0].set_title(f\"{var} - Sin escalar\", fontsize=12)\n",
    "axes[0].set_xlabel(var)\n",
    "axes[0].set_ylabel(\"Frecuencia\")\n",
    "\n",
    "# Distribución escalada\n",
    "sns.histplot(X_train_scaled[var], kde=True, ax=axes[1], color=\"salmon\")\n",
    "axes[1].set_title(f\"{var} - Escalada\", fontsize=12)\n",
    "axes[1].set_xlabel(var)\n",
    "axes[1].set_ylabel(\"Frecuencia\")\n",
    "\n",
    "plt.suptitle(f\"Comparación de distribución: {var}\", fontsize=14)\n",
    "plt.tight_layout()\n",
    "plt.show()\n",
    "\n",
    "# --- Interpretación visual ---\n",
    "display(Markdown(\n",
    "\"\"\"\n",
    "**💬 Interpretación visual:**\n",
    "\n",
    "- El gráfico **izquierdo** muestra la distribución original de la variable *Flight Distance*,  \n",
    "  donde los valores pueden tener una gran dispersión (por ejemplo, vuelos cortos y largos).  \n",
    "- El gráfico **derecho** representa la misma variable **tras aplicar escalado (StandardScaler)**,  \n",
    "  centrando los valores en torno a la media (0) y ajustando la desviación estándar (1).  \n",
    "- Aunque la **forma de la distribución (KDE)** se mantiene, el rango cambia:  \n",
    "  ahora todos los valores están normalizados, lo que permite que los modelos basados en distancia  \n",
    "  (como KNN o SVM) funcionen correctamente sin que una variable domine sobre las demás.\n",
    "\"\"\"\n",
    "))\n"
   ]
  },
  {
   "cell_type": "markdown",
   "id": "4c0da5cd",
   "metadata": {},
   "source": [
    "## **Paso 8: Exportación de datasets para modelado**\n",
    "\n",
    "Se exportan las versiones escaladas y no escaladas del dataset,  \n",
    "así como las variables objetivo correspondientes, en la carpeta `../data/processed/`.\n",
    "\n",
    "Estos archivos se usarán en los notebooks siguientes de modelado (`03_<modelo>.ipynb`) para entrenamiento y evaluación.\n"
   ]
  },
  {
   "cell_type": "code",
   "execution_count": 71,
   "id": "6f311179",
   "metadata": {},
   "outputs": [
    {
     "name": "stdout",
     "output_type": "stream",
     "text": [
      "✅ Datasets exportados correctamente:\n",
      "- ../data/processed/X_train_unscaled.csv\n",
      "- ../data/processed/X_test_unscaled.csv\n",
      "- ../data/processed/X_train_scaled.csv\n",
      "- ../data/processed/X_test_scaled.csv\n",
      "- ../data/processed/y_train.csv\n",
      "- ../data/processed/y_test.csv\n"
     ]
    }
   ],
   "source": [
    "#===================================\n",
    "# 8. Exportación de datasets para modelado\n",
    "#===================================\n",
    "\n",
    "\n",
    "import os\n",
    "os.makedirs(\"../data/processed\", exist_ok=True)\n",
    "\n",
    "# Exportación\n",
    "X_train.to_csv(\"../data/processed/X_train_unscaled.csv\", index=False)\n",
    "X_test.to_csv(\"../data/processed/X_test_unscaled.csv\", index=False)\n",
    "X_train_scaled.to_csv(\"../data/processed/X_train_scaled.csv\", index=False)\n",
    "X_test_scaled.to_csv(\"../data/processed/X_test_scaled.csv\", index=False)\n",
    "y_train.to_csv(\"../data/processed/y_train.csv\", index=False)\n",
    "y_test.to_csv(\"../data/processed/y_test.csv\", index=False)\n",
    "\n",
    "print(\"✅ Datasets exportados correctamente:\")\n",
    "print(\"- ../data/processed/X_train_unscaled.csv\")\n",
    "print(\"- ../data/processed/X_test_unscaled.csv\")\n",
    "print(\"- ../data/processed/X_train_scaled.csv\")\n",
    "print(\"- ../data/processed/X_test_scaled.csv\")\n",
    "print(\"- ../data/processed/y_train.csv\")\n",
    "print(\"- ../data/processed/y_test.csv\")\n"
   ]
  },
  {
   "cell_type": "markdown",
   "id": "ad1c2f4e",
   "metadata": {},
   "source": [
    "# 🏁 **Conclusiones división dataset**\n",
    "\n",
    "- El dataset ha sido dividido correctamente en subconjuntos de entrenamiento (80%) y prueba (20%), manteniendo el balanceo de clases.\n",
    "- Las proporciones de clases se mantienen equilibradas.  \n",
    "\n",
    "Además, se han generado dos versiones del conjunto de datos:\n",
    "\n",
    "- **Escalado:** para algoritmos sensibles a la magnitud de las variables (SVM, KNN, Regresión Logística).  \n",
    "- **No escalado:** para modelos basados en árboles (Decision Tree, Random Forest, XGBoost, LightGBM).\n",
    "\n",
    "Estos datasets se encuentran exportados en la carpeta `../data/processed/` y listos para el modelado en los siguientes notebooks:\n",
    "\n",
    "📘 **`03_<modelo>.ipynb`** — Entrenamiento, validación cruzada y tuning de hiperparámetros.\n"
   ]
  }
 ],
 "metadata": {
  "kernelspec": {
   "display_name": "venv",
   "language": "python",
   "name": "python3"
  },
  "language_info": {
   "codemirror_mode": {
    "name": "ipython",
    "version": 3
   },
   "file_extension": ".py",
   "mimetype": "text/x-python",
   "name": "python",
   "nbconvert_exporter": "python",
   "pygments_lexer": "ipython3",
   "version": "3.11.9"
  }
 },
 "nbformat": 4,
 "nbformat_minor": 5
}
