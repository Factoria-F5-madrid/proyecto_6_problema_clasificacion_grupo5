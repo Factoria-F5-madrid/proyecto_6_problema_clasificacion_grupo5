{
 "cells": [
  {
   "cell_type": "markdown",
   "id": "a608d349",
   "metadata": {},
   "source": [
    "# 05 - Evaluación Final en Test Set\n",
    "\n",
    "En este notebook se realiza la **evaluación final del modelo ganador**,  \n",
    "seleccionado en el notebook `04_ModelComparison.ipynb`.\n",
    "\n",
    "El objetivo es validar el rendimiento real del modelo sobre un **conjunto de test independiente**,  \n",
    "asegurando que las métricas finales sean representativas y libres de sobreajuste.\n",
    "\n",
    "### 🎯 **Objetivos:**\n",
    "- Cargar el **mejor modelo** obtenido tras la comparación global.  \n",
    "- Evaluarlo sobre el **Test Set final** con métricas de clasificación.  \n",
    "- Visualizar sus resultados mediante:\n",
    "  - Matriz de confusión  \n",
    "  - Curva ROC  \n",
    "  - Gráfico radar de métricas  \n",
    "- Guardar el modelo final (`final_model.pkl`) y las métricas definitivas (`final_metrics.json`)  \n",
    "  que servirán para la **puesta en producción**.\n",
    "\n",
    "📌 **Importante:**  \n",
    "El modelo cargado corresponde al mejor de todos los algoritmos evaluados (Random Forest, XGBoost, Logistic Regression, etc.)  \n",
    "y será el utilizado en las predicciones reales.\n"
   ]
  },
  {
   "cell_type": "markdown",
   "id": "1ce9654c",
   "metadata": {},
   "source": [
    "## **Paso 1: Importación de librerías y carga de datos**\n",
    "\n",
    "En este paso se importan las librerías necesarias para evaluación y visualización,  \n",
    "además de cargar los datasets finales (`X_test.csv` y `y_test.csv`) generados previamente  \n",
    "en el notebook `02_dataset-split.ipynb`.\n",
    "\n",
    "También se configura el estilo visual de los gráficos para mantener coherencia con los notebooks anteriores.\n"
   ]
  },
  {
   "cell_type": "markdown",
   "id": "c28f5813",
   "metadata": {},
   "source": [
    "## **Paso 1: Importar librerías**\n"
   ]
  },
  {
   "cell_type": "code",
   "execution_count": 27,
   "id": "d27c2123",
   "metadata": {},
   "outputs": [
    {
     "data": {
      "text/markdown": [
       "🏆 **Modelo ganador:** `Random Forest GridSearchCV`"
      ],
      "text/plain": [
       "<IPython.core.display.Markdown object>"
      ]
     },
     "metadata": {},
     "output_type": "display_data"
    },
    {
     "data": {
      "text/markdown": [
       "📦 **Tipo de dataset usado:** `UNSCALED`"
      ],
      "text/plain": [
       "<IPython.core.display.Markdown object>"
      ]
     },
     "metadata": {},
     "output_type": "display_data"
    },
    {
     "data": {
      "text/markdown": [
       "✅ **Datos cargados correctamente:**"
      ],
      "text/plain": [
       "<IPython.core.display.Markdown object>"
      ]
     },
     "metadata": {},
     "output_type": "display_data"
    },
    {
     "name": "stdout",
     "output_type": "stream",
     "text": [
      "- X_test shape: (20781, 23)\n",
      "- y_test shape: (20781,)\n"
     ]
    }
   ],
   "source": [
    "# ===================================\n",
    "# 1. Importación de librerías y carga de datos según modelo\n",
    "# ===================================\n",
    "\n",
    "import os\n",
    "import joblib\n",
    "import json\n",
    "import pandas as pd\n",
    "import numpy as np\n",
    "import seaborn as sns\n",
    "import matplotlib.pyplot as plt\n",
    "from sklearn.metrics import (\n",
    "    accuracy_score, precision_score, recall_score, f1_score,\n",
    "    roc_auc_score, confusion_matrix, RocCurveDisplay\n",
    ")\n",
    "from math import pi\n",
    "from IPython.display import display, Markdown\n",
    "\n",
    "# --- Configuración visual ---\n",
    "plt.style.use(\"default\")\n",
    "sns.set_palette(\"coolwarm\")\n",
    "plt.rcParams[\"axes.titlesize\"] = 13\n",
    "plt.rcParams[\"axes.labelsize\"] = 11\n",
    "plt.rcParams[\"axes.facecolor\"] = \"white\"\n",
    "\n",
    "# --- Cargar resumen del mejor modelo ---\n",
    "summary_path = \"../reports/results/model_comparison_summary.json\"\n",
    "\n",
    "if not os.path.exists(summary_path):\n",
    "    raise FileNotFoundError(\"❌ No se encontró el archivo model_comparison_summary.json. Ejecuta el notebook 04 primero.\")\n",
    "\n",
    "with open(summary_path, \"r\") as f:\n",
    "    summary_data = json.load(f)\n",
    "\n",
    "df_summary = pd.DataFrame(summary_data)\n",
    "best_model_name = df_summary.loc[df_summary[\"Mean_Score\"].idxmax(), \"Model\"]\n",
    "\n",
    "# --- Determinar tipo de dataset según modelo ganador ---\n",
    "distance_based_models = [\"Logistic Regression\", \"SVM\", \"KNN\", \"Neural Network\"]\n",
    "tree_based_models = [\"Decision Tree\", \"Random Forest\", \"XGBoost\", \"LightGBM\"]\n",
    "\n",
    "# Comprobamos el tipo de modelo ganador\n",
    "dataset_type = \"scaled\" if any(m.lower() in best_model_name.lower() for m in distance_based_models) else \"unscaled\"\n",
    "\n",
    "display(Markdown(f\"🏆 **Modelo ganador:** `{best_model_name}`\"))\n",
    "display(Markdown(f\"📦 **Tipo de dataset usado:** `{dataset_type.upper()}`\"))\n",
    "\n",
    "# --- Carga del dataset correspondiente ---\n",
    "X_test_path = f\"../data/processed/X_test_{dataset_type}.csv\"\n",
    "y_test_path = \"../data/processed/y_test.csv\"\n",
    "\n",
    "if not os.path.exists(X_test_path):\n",
    "    raise FileNotFoundError(f\"❌ No se encontró el archivo: {X_test_path}\")\n",
    "\n",
    "X_test = pd.read_csv(X_test_path)\n",
    "y_test = pd.read_csv(y_test_path).squeeze()\n",
    "\n",
    "display(Markdown(\"✅ **Datos cargados correctamente:**\"))\n",
    "print(f\"- X_test shape: {X_test.shape}\")\n",
    "print(f\"- y_test shape: {y_test.shape}\")\n"
   ]
  },
  {
   "cell_type": "markdown",
   "id": "eeb907e0",
   "metadata": {},
   "source": [
    "## **Paso 2: Evaluación del modelo ganador sobre el Test Set Final**\n",
    "\n",
    "En este paso se localiza y carga el **modelo ganador** identificado en el notebook  \n",
    "`04_ModelComparison.ipynb`, a partir del archivo `../reports/results/model_comparison_summary.json`.\n",
    "\n",
    "El modelo cargado será el que obtuvo la mejor media de métricas (`Mean_Score`) y servirá  \n",
    "para generar las predicciones finales sobre el conjunto de test.  \n",
    "La ruta se detecta automáticamente según el nombre del modelo y su tipo de entrenamiento  \n",
    "(*Baseline*, *GridSearchCV*, *Optuna*, etc.).\n"
   ]
  },
  {
   "cell_type": "code",
   "execution_count": 28,
   "id": "c0480001",
   "metadata": {},
   "outputs": [
    {
     "data": {
      "text/markdown": [
       "### 📊 **Rendimiento del modelo en el conjunto de Test:**"
      ],
      "text/plain": [
       "<IPython.core.display.Markdown object>"
      ]
     },
     "metadata": {},
     "output_type": "display_data"
    },
    {
     "name": "stdout",
     "output_type": "stream",
     "text": [
      "Accuracy: 0.961\n",
      "Precision: 0.962\n",
      "Recall: 0.946\n",
      "F1-score: 0.954\n",
      "ROC-AUC: 0.994\n"
     ]
    },
    {
     "data": {
      "image/png": "[encoded data removed]",
      "text/plain": [
       "<Figure size 500x400 with 1 Axes>"
      ]
     },
     "metadata": {},
     "output_type": "display_data"
    },
    {
     "name": "stderr",
     "output_type": "stream",
     "text": [
      "c:\\dev\\proyectos\\P6_G5_Clasification\\venv\\Lib\\site-packages\\sklearn\\utils\\_plotting.py:175: FutureWarning: `**kwargs` is deprecated and will be removed in 1.9. Pass all matplotlib arguments to `curve_kwargs` as a dictionary instead.\n",
      "  warnings.warn(\n"
     ]
    },
    {
     "data": {
      "image/png": "[encoded data removed]",
      "text/plain": [
       "<Figure size 600x500 with 1 Axes>"
      ]
     },
     "metadata": {},
     "output_type": "display_data"
    },
    {
     "data": {
      "text/markdown": [
       "\n",
       "**💬 Interpretación de resultados:**\n",
       "- Las métricas cuantifican el rendimiento final del modelo sobre datos nunca vistos.  \n",
       "- La matriz de confusión muestra el balance entre verdaderos y falsos positivos/negativos.  \n",
       "- La curva ROC ilustra la capacidad del modelo para distinguir entre clases.  \n",
       "- El área sombreada naranja representa el **AUC (Área Bajo la Curva)**: cuanto mayor, mejor rendimiento.\n"
      ],
      "text/plain": [
       "<IPython.core.display.Markdown object>"
      ]
     },
     "metadata": {},
     "output_type": "display_data"
    }
   ],
   "source": [
    "# ===================================\n",
    "# 2. Evaluación del mejor modelo en el Test Set Final\n",
    "# ===================================\n",
    "\n",
    "from sklearn.metrics import (\n",
    "    accuracy_score, precision_score, recall_score,\n",
    "    f1_score, roc_auc_score, confusion_matrix, roc_curve, RocCurveDisplay\n",
    ")\n",
    "import matplotlib.pyplot as plt\n",
    "import seaborn as sns\n",
    "import numpy as np\n",
    "\n",
    "# --- Predicciones ---\n",
    "y_pred = model_final.predict(X_test)\n",
    "y_proba = model_final.predict_proba(X_test)[:, 1] if hasattr(model_final, \"predict_proba\") else None\n",
    "\n",
    "# --- Cálculo de métricas ---\n",
    "metrics_test = {\n",
    "    \"Accuracy\": accuracy_score(y_test, y_pred),\n",
    "    \"Precision\": precision_score(y_test, y_pred),\n",
    "    \"Recall\": recall_score(y_test, y_pred),\n",
    "    \"F1-score\": f1_score(y_test, y_pred),\n",
    "    \"ROC-AUC\": roc_auc_score(y_test, y_proba) if y_proba is not None else np.nan\n",
    "}\n",
    "\n",
    "# --- Mostrar métricas ---\n",
    "display(Markdown(\"### 📊 **Rendimiento del modelo en el conjunto de Test:**\"))\n",
    "for k, v in metrics_test.items():\n",
    "    print(f\"{k}: {v:.3f}\")\n",
    "\n",
    "# ============================================================\n",
    "# 📉 MATRIZ DE CONFUSIÓN (paleta coolwarm)\n",
    "# ============================================================\n",
    "plt.figure(figsize=(5, 4))\n",
    "cm = confusion_matrix(y_test, y_pred)\n",
    "sns.heatmap(\n",
    "    cm,\n",
    "    annot=True,\n",
    "    fmt=\"d\",\n",
    "    cmap=\"coolwarm\",  # 🔥 paleta azul-roja consistente\n",
    "    cbar=False,\n",
    "    square=True,\n",
    "    linewidths=0.6,\n",
    "    linecolor=\"white\"\n",
    ")\n",
    "plt.title(f\"Matriz de Confusión — {best_model_name}\", fontsize=12, color=\"#0D47A1\", pad=10)\n",
    "plt.xlabel(\"Predicción\")\n",
    "plt.ylabel(\"Valor Real\")\n",
    "plt.tight_layout()\n",
    "plt.show()\n",
    "\n",
    "# ============================================================\n",
    "# 📈 CURVA ROC (con área naranja bajo la curva)\n",
    "# ============================================================\n",
    "if y_proba is not None:\n",
    "    plt.figure(figsize=(6, 5))\n",
    "    fpr, tpr, _ = roc_curve(y_test, y_proba)\n",
    "    \n",
    "    # Área naranja bajo la curva\n",
    "    plt.fill_between(fpr, tpr, color=\"#FFA726\", alpha=0.25)\n",
    "    \n",
    "    # Curva ROC principal\n",
    "    RocCurveDisplay.from_predictions(\n",
    "        y_test,\n",
    "        y_proba,\n",
    "        name=best_model_name,\n",
    "        color=\"#EF6C00\",\n",
    "        linewidth=2.2,\n",
    "        ax=plt.gca()\n",
    "    )\n",
    "    \n",
    "    # Línea diagonal (azar)\n",
    "    plt.plot([0, 1], [0, 1], \"k--\", lw=1, alpha=0.6)\n",
    "    plt.title(f\"Curva ROC — {best_model_name}\", fontsize=13, color=\"#0D47A1\", pad=10)\n",
    "    plt.xlabel(\"Tasa de Falsos Positivos (FPR)\")\n",
    "    plt.ylabel(\"Tasa de Verdaderos Positivos (TPR)\")\n",
    "    plt.grid(alpha=0.3, linestyle=\"--\", linewidth=0.5)\n",
    "    plt.tight_layout()\n",
    "    plt.show()\n",
    "\n",
    "display(Markdown(\"\"\"\n",
    "**💬 Interpretación de resultados:**\n",
    "- Las métricas cuantifican el rendimiento final del modelo sobre datos nunca vistos.  \n",
    "- La matriz de confusión muestra el balance entre verdaderos y falsos positivos/negativos.  \n",
    "- La curva ROC ilustra la capacidad del modelo para distinguir entre clases.  \n",
    "- El área sombreada naranja representa el **AUC (Área Bajo la Curva)**: cuanto mayor, mejor rendimiento.\n",
    "\"\"\"))\n"
   ]
  },
  {
   "cell_type": "markdown",
   "id": "372cbdec",
   "metadata": {},
   "source": [
    "## **Paso 3: Guardado del modelo y resultados finales**\n",
    "\n",
    "En este paso se registran y guardan los resultados del modelo ganador,  \n",
    "junto con las métricas obtenidas sobre el conjunto de **Test**.  \n",
    "\n",
    "Esto permite:\n",
    "- Reutilizar el modelo en futuras predicciones.  \n",
    "- Incorporar los resultados al dashboard o informe final.  \n",
    "- Mantener trazabilidad y reproducibilidad del experimento.\n",
    "\n",
    "Se guardan los siguientes archivos:\n",
    "- `../reports/results/final_test_metrics.json`\n",
    "- `../reports/results/final_test_metrics.csv`\n",
    "- `../models/final_model.pkl`\n"
   ]
  },
  {
   "cell_type": "code",
   "execution_count": 29,
   "id": "7d74d01c",
   "metadata": {},
   "outputs": [
    {
     "data": {
      "text/markdown": [
       "\n",
       "✅ **Resultados finales guardados correctamente:**\n",
       "\n",
       "- 🧠 Modelo final: `model_final_random_forest_gridsearchcv.pkl`  \n",
       "- 📊 Métricas (CSV): `../reports/results/final_test_evaluation.csv`  \n",
       "- 📄 Métricas (JSON): `../reports/results/final_test_evaluation.json`  \n",
       "\n",
       "💾 Se ha reemplazado cualquier versión anterior del modelo final con el nuevo archivo actualizado.\n"
      ],
      "text/plain": [
       "<IPython.core.display.Markdown object>"
      ]
     },
     "metadata": {},
     "output_type": "display_data"
    }
   ],
   "source": [
    "# ===================================\n",
    "# 3. Guardado de resultados finales (versión mejorada)\n",
    "# ===================================\n",
    "\n",
    "import re\n",
    "import json\n",
    "import os\n",
    "import pandas as pd\n",
    "import joblib\n",
    "\n",
    "# --- Crear carpetas si no existen ---\n",
    "os.makedirs(\"../reports/results\", exist_ok=True)\n",
    "os.makedirs(\"../models/final\", exist_ok=True)\n",
    "\n",
    "# --- Normalizar nombre del modelo para el archivo ---\n",
    "def normalize_filename(name: str) -> str:\n",
    "    \"\"\"Convierte un nombre de modelo en una forma segura para archivos.\"\"\"\n",
    "    return re.sub(r'[^a-z0-9]+', '_', name.lower()).strip('_')\n",
    "\n",
    "model_filename = f\"model_final_{normalize_filename(best_model_name)}.pkl\"\n",
    "model_save_path = os.path.join(\"../models/final\", model_filename)\n",
    "\n",
    "# --- Eliminar si ya existe un modelo anterior ---\n",
    "if os.path.exists(model_save_path):\n",
    "    os.remove(model_save_path)\n",
    "    print(f\"⚠️ Archivo existente eliminado: {model_save_path}\")\n",
    "\n",
    "# --- Guardar el modelo final ---\n",
    "joblib.dump(model_final, model_save_path)\n",
    "\n",
    "# --- Guardar métricas finales ---\n",
    "results_test = {\n",
    "    \"model_name\": best_model_name,\n",
    "    \"dataset_type\": dataset_type,\n",
    "    \"metrics\": metrics_test\n",
    "}\n",
    "\n",
    "json_path = \"../reports/results/final_test_evaluation.json\"\n",
    "csv_path = \"../reports/results/final_test_evaluation.csv\"\n",
    "\n",
    "# Guardar en JSON\n",
    "with open(json_path, \"w\") as f:\n",
    "    json.dump(results_test, f, indent=4)\n",
    "\n",
    "# Guardar en CSV\n",
    "df_metrics_test = pd.DataFrame([metrics_test])\n",
    "df_metrics_test.insert(0, \"Model\", best_model_name)\n",
    "df_metrics_test.to_csv(csv_path, index=False)\n",
    "\n",
    "# --- Confirmación visual ---\n",
    "display(Markdown(f\"\"\"\n",
    "✅ **Resultados finales guardados correctamente:**\n",
    "\n",
    "- 🧠 Modelo final: `{model_filename}`  \n",
    "- 📊 Métricas (CSV): `{csv_path}`  \n",
    "- 📄 Métricas (JSON): `{json_path}`  \n",
    "\n",
    "💾 Se ha reemplazado cualquier versión anterior del modelo final con el nuevo archivo actualizado.\n",
    "\"\"\"))\n"
   ]
  },
  {
   "cell_type": "markdown",
   "id": "64b0edb4",
   "metadata": {},
   "source": [
    "## **Paso 4: Conclusiones finales y resumen de resultados**\n",
    "\n",
    "En este paso se realiza la **síntesis final del proyecto de clasificación**,  \n",
    "mostrando el modelo con mejor rendimiento sobre el conjunto de **Test**  \n",
    "y sus métricas clave.\n",
    "\n",
    "### 🧠 Contenido:\n",
    "- Identificación del **modelo ganador** y su configuración.  \n",
    "- Resumen de métricas finales obtenidas en test.  \n",
    "- Interpretación del rendimiento y pasos siguientes.  \n",
    "- Enlace hacia el análisis de **importancia de variables** en el siguiente notebook.\n",
    "\n"
   ]
  },
  {
   "cell_type": "code",
   "execution_count": 30,
   "id": "32d5873d",
   "metadata": {},
   "outputs": [
    {
     "data": {
      "text/markdown": [
       "\n",
       "# 🏁 **Conclusiones Finales**\n",
       "\n",
       "### 🧠 Modelo ganador:\n",
       "**Random Forest GridSearchCV**\n",
       "\n",
       "### 📦 Tipo de dataset:\n",
       "`UNSCALED`\n",
       "\n",
       "### 📊 Métricas finales en Test Set:\n"
      ],
      "text/plain": [
       "<IPython.core.display.Markdown object>"
      ]
     },
     "metadata": {},
     "output_type": "display_data"
    },
    {
     "data": {
      "text/html": [
       "<style type=\"text/css\">\n",
       "</style>\n",
       "<table id=\"T_12849\">\n",
       "  <caption>Resultados finales del modelo ganador</caption>\n",
       "  <thead>\n",
       "    <tr>\n",
       "      <th class=\"blank level0\" >&nbsp;</th>\n",
       "      <th id=\"T_12849_level0_col0\" class=\"col_heading level0 col0\" >Valor</th>\n",
       "    </tr>\n",
       "    <tr>\n",
       "      <th class=\"index_name level0\" >Métrica</th>\n",
       "      <th class=\"blank col0\" >&nbsp;</th>\n",
       "    </tr>\n",
       "  </thead>\n",
       "  <tbody>\n",
       "    <tr>\n",
       "      <th id=\"T_12849_level0_row0\" class=\"row_heading level0 row0\" >Accuracy</th>\n",
       "      <td id=\"T_12849_row0_col0\" class=\"data row0 col0\" >0.961</td>\n",
       "    </tr>\n",
       "    <tr>\n",
       "      <th id=\"T_12849_level0_row1\" class=\"row_heading level0 row1\" >Precision</th>\n",
       "      <td id=\"T_12849_row1_col0\" class=\"data row1 col0\" >0.962</td>\n",
       "    </tr>\n",
       "    <tr>\n",
       "      <th id=\"T_12849_level0_row2\" class=\"row_heading level0 row2\" >Recall</th>\n",
       "      <td id=\"T_12849_row2_col0\" class=\"data row2 col0\" >0.946</td>\n",
       "    </tr>\n",
       "    <tr>\n",
       "      <th id=\"T_12849_level0_row3\" class=\"row_heading level0 row3\" >F1-score</th>\n",
       "      <td id=\"T_12849_row3_col0\" class=\"data row3 col0\" >0.954</td>\n",
       "    </tr>\n",
       "    <tr>\n",
       "      <th id=\"T_12849_level0_row4\" class=\"row_heading level0 row4\" >ROC-AUC</th>\n",
       "      <td id=\"T_12849_row4_col0\" class=\"data row4 col0\" >0.994</td>\n",
       "    </tr>\n",
       "  </tbody>\n",
       "</table>\n"
      ],
      "text/plain": [
       "<pandas.io.formats.style.Styler at 0x187c7622f50>"
      ]
     },
     "metadata": {},
     "output_type": "display_data"
    },
    {
     "data": {
      "text/markdown": [
       "\n",
       "---\n",
       "\n",
       "### 💬 **Interpretación y conclusiones**\n",
       "\n",
       "El modelo **Random Forest GridSearchCV** ha demostrado el mejor equilibrio global entre **precisión y recall**,  \n",
       "obteniendo un **F1-score de 0.954** y una **ROC-AUC de 0.994**,  \n",
       "lo que indica una excelente capacidad para distinguir entre clases.\n",
       "\n",
       "- La **matriz de confusión** refleja un bajo número de falsos positivos y negativos.  \n",
       "- La **curva ROC** muestra una gran área bajo la curva, confirmando la solidez del modelo.  \n",
       "- Dado su rendimiento estable en entrenamiento, validación y test, este modelo se considera  \n",
       "  el **mejor candidato para su despliegue en producción** o integración en pipelines de predicción.\n",
       "\n",
       "---\n",
       "\n",
       "### 🚀 **Próximos pasos recomendados**\n",
       "1. Exportar el modelo como servicio (API o microservicio).  \n",
       "2. Evaluar su rendimiento sobre nuevos datos o en un entorno real.  \n",
       "3. Implementar monitorización de métricas y control de *data drift*.  \n",
       "4. Documentar las decisiones de modelado y los hiperparámetros óptimos.  \n",
       "\n",
       "---\n",
       "\n",
       "### 📊 **Avance hacia el siguiente análisis**\n",
       "En el siguiente notebook,  \n",
       "**`06_FeatureImportance.ipynb`**,  \n",
       "se estudiará el **impacto y relevancia de las 10 variables más importantes**  \n",
       "que explican las predicciones del modelo ganador.\n",
       "\n",
       "Este análisis permitirá interpretar las decisiones del modelo  \n",
       "y fortalecer la transparencia y explicabilidad del sistema predictivo.  \n",
       "\n",
       "---\n",
       "\n",
       "✅ **El modelo final ha sido guardado como:**  \n",
       "`model_final_random_forest_gridsearchcv.pkl`  \n",
       "en la carpeta `../models/final/`\n"
      ],
      "text/plain": [
       "<IPython.core.display.Markdown object>"
      ]
     },
     "metadata": {},
     "output_type": "display_data"
    }
   ],
   "source": [
    "# ===================================\n",
    "# 4. Conclusiones finales y resumen\n",
    "# ===================================\n",
    "\n",
    "import pandas as pd\n",
    "from IPython.display import display, Markdown\n",
    "\n",
    "# --- Crear resumen legible de las métricas ---\n",
    "summary_df = pd.DataFrame([metrics_test]).T\n",
    "summary_df.columns = [\"Valor\"]\n",
    "summary_df.index.name = \"Métrica\"\n",
    "summary_df[\"Valor\"] = summary_df[\"Valor\"].apply(lambda x: f\"{x:.3f}\")\n",
    "\n",
    "# --- Mostrar resumen visual ---\n",
    "display(Markdown(f\"\"\"\n",
    "# 🏁 **Conclusiones Finales**\n",
    "\n",
    "### 🧠 Modelo ganador:\n",
    "**{best_model_name}**\n",
    "\n",
    "### 📦 Tipo de dataset:\n",
    "`{dataset_type.upper()}`\n",
    "\n",
    "### 📊 Métricas finales en Test Set:\n",
    "\"\"\"))\n",
    "\n",
    "display(summary_df.style.set_caption(\"Resultados finales del modelo ganador\").background_gradient(cmap=\"coolwarm\"))\n",
    "\n",
    "# --- Interpretación textual ---\n",
    "display(Markdown(f\"\"\"\n",
    "---\n",
    "\n",
    "### 💬 **Interpretación y conclusiones**\n",
    "\n",
    "El modelo **{best_model_name}** ha demostrado el mejor equilibrio global entre **precisión y recall**,  \n",
    "obteniendo un **F1-score de {metrics_test['F1-score']:.3f}** y una **ROC-AUC de {metrics_test['ROC-AUC']:.3f}**,  \n",
    "lo que indica una excelente capacidad para distinguir entre clases.\n",
    "\n",
    "- La **matriz de confusión** refleja un bajo número de falsos positivos y negativos.  \n",
    "- La **curva ROC** muestra una gran área bajo la curva, confirmando la solidez del modelo.  \n",
    "- Dado su rendimiento estable en entrenamiento, validación y test, este modelo se considera  \n",
    "  el **mejor candidato para su despliegue en producción** o integración en pipelines de predicción.\n",
    "\n",
    "---\n",
    "\n",
    "### 🚀 **Próximos pasos recomendados**\n",
    "1. Exportar el modelo como servicio (API o microservicio).  \n",
    "2. Evaluar su rendimiento sobre nuevos datos o en un entorno real.  \n",
    "3. Implementar monitorización de métricas y control de *data drift*.  \n",
    "4. Documentar las decisiones de modelado y los hiperparámetros óptimos.  \n",
    "\n",
    "---\n",
    "\n",
    "### 📊 **Avance hacia el siguiente análisis**\n",
    "En el siguiente notebook,  \n",
    "**`06_FeatureImportance.ipynb`**,  \n",
    "se estudiará el **impacto y relevancia de las 10 variables más importantes**  \n",
    "que explican las predicciones del modelo ganador.\n",
    "\n",
    "Este análisis permitirá interpretar las decisiones del modelo  \n",
    "y fortalecer la transparencia y explicabilidad del sistema predictivo.  \n",
    "\n",
    "---\n",
    "\n",
    "✅ **El modelo final ha sido guardado como:**  \n",
    "`{model_filename}`  \n",
    "en la carpeta `../models/final/`\n",
    "\"\"\"))\n"
   ]
  }
 ],
 "metadata": {
  "kernelspec": {
   "display_name": "venv",
   "language": "python",
   "name": "python3"
  },
  "language_info": {
   "codemirror_mode": {
    "name": "ipython",
    "version": 3
   },
   "file_extension": ".py",
   "mimetype": "text/x-python",
   "name": "python",
   "nbconvert_exporter": "python",
   "pygments_lexer": "ipython3",
   "version": "3.11.9"
  }
 },
 "nbformat": 4,
 "nbformat_minor": 5
}
