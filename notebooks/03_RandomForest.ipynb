{
 "cells": [
  {
   "cell_type": "markdown",
   "id": "edb899af",
   "metadata": {},
   "source": [
    "# 03 - Modelo de Clasificación: Random Forest\n",
    "\n",
    "En este notebook entrenaremos y evaluaremos un modelo de **Random Forest Classifier**,  \n",
    "un algoritmo de **ensamble basado en árboles de decisión** que combina múltiples árboles  \n",
    "para mejorar la precisión y reducir el sobreajuste (*overfitting*).\n",
    "\n",
    "A diferencia de la Regresión Logística, **Random Forest** puede capturar relaciones no lineales  \n",
    "entre las variables y manejar interacciones complejas entre características,  \n",
    "siendo especialmente robusto ante el ruido y los outliers.\n",
    "\n",
    "---\n",
    "\n",
    "### 🎯 **Objetivos:**\n",
    "\n",
    "- Cargar los datasets procesados (**no escalados**, dado que los árboles no lo requieren).  \n",
    "- Entrenar un modelo base de **Random Forest** con parámetros por defecto.  \n",
    "- Evaluar el rendimiento inicial mediante métricas de clasificación.  \n",
    "- Aplicar **validación cruzada (Cross-Validation)** para estimar la estabilidad del modelo.  \n",
    "- Realizar **tuning de hiperparámetros** con `GridSearchCV` (búsqueda en rejilla) y **Optuna** (optimización bayesiana).  \n",
    "- Analizar el rendimiento de cada versión del modelo (Baseline, GridSearchCV, Optuna).  \n",
    "- Generar una **comparativa visual** de métricas, matrices de confusión y curvas ROC.  \n",
    "- Guardar los resultados en formato **JSON** y los modelos entrenados en formato **PKL**,  \n",
    "  para su uso posterior en los notebooks de comparación (`04_ModelComparison.ipynb`) y evaluación final (`05_Test-Set-Final.ipynb`).\n",
    "\n",
    "---\n",
    "\n",
    "📌 **Nota:**  \n",
    "Aunque Random Forest no requiere escalado de variables, en este notebook trabajaremos con los **datasets no escalados**,  \n",
    "manteniendo consistencia con el pipeline general y garantizando una comparación justa con otros modelos.  \n",
    "\n",
    "Asimismo, se aplicará **`class_weight='balanced'`** en todos los modelos  \n",
    "para compensar el **desbalanceo de clases** en la variable objetivo (*satisfaction*).\n",
    "\n"
   ]
  },
  {
   "cell_type": "markdown",
   "id": "891f8b71",
   "metadata": {},
   "source": [
    "## **Paso 1: Importación de librerías y carga de datos**\n",
    "\n",
    "En este primer paso se importan las librerías necesarias para el entrenamiento, evaluación  \n",
    "y visualización del modelo **Random Forest Classifier**, y se cargan los datasets procesados  \n",
    "generados en el notebook anterior (`02_dataset-split.ipynb`).\n",
    "\n",
    "Los datos cargados corresponden a:\n",
    "- `X_train`, `y_train` → conjunto de entrenamiento.  \n",
    "- `X_test`, `y_test` → conjunto de prueba.\n",
    "\n",
    "Estos datasets fueron previamente limpiados, codificados y normalizados durante la fase de *preprocesamiento*.\n",
    "\n",
    "---\n",
    "\n",
    "### **Nota sobre el escalado de variables**\n",
    "\n",
    "Los algoritmos **basados en árboles** (como *Random Forest*, *Decision Tree*, *XGBoost*, *LightGBM*…)  \n",
    "no dependen de distancias ni magnitudes, sino de **divisiones por umbrales**,  \n",
    "por lo que **no requieren escalado** y pueden operar directamente sobre los valores originales.  \n",
    "\n",
    "Por ello, para estos modelos se utilizarán los datasets **no escalados**:  \n",
    "`X_train_unscaled.csv` y `X_test_unscaled.csv`.\n",
    "\n",
    "En cambio, los algoritmos **lineales o basados en distancias** (como *Logistic Regression*, *SVM*, *KNN* o *Redes Neuronales*),  \n",
    "sí requieren normalización, y por tanto se entrenan con los datasets **escalados**:  \n",
    "`X_train_scaled.csv` y `X_test_scaled.csv`."
   ]
  },
  {
   "cell_type": "code",
   "execution_count": 43,
   "id": "cff8fd06",
   "metadata": {},
   "outputs": [
    {
     "name": "stdout",
     "output_type": "stream",
     "text": [
      "✅ Datasets cargados correctamente.\n",
      "X_train: (83123, 23) | X_test: (20781, 23)\n",
      "y_train: (83123,) | y_test: (20781,)\n"
     ]
    }
   ],
   "source": [
    "# ===================================\n",
    "# 1. Importación de librerías y carga de datasets no escalados\n",
    "# ===================================\n",
    "\n",
    "# --- Librerías principales ---\n",
    "import pandas as pd\n",
    "import numpy as np\n",
    "import matplotlib.pyplot as plt\n",
    "import seaborn as sns\n",
    "import json\n",
    "import warnings\n",
    "\n",
    "# --- Librerías de modelado y evaluación ---\n",
    "from sklearn.ensemble import RandomForestClassifier\n",
    "from sklearn.model_selection import train_test_split, cross_val_score, GridSearchCV\n",
    "from sklearn.metrics import (\n",
    "    accuracy_score, precision_score, recall_score, f1_score, roc_auc_score,\n",
    "    confusion_matrix, RocCurveDisplay, classification_report, roc_curve\n",
    ")\n",
    "from sklearn.utils.class_weight import compute_class_weight\n",
    "from IPython.display import display, Markdown\n",
    "\n",
    "# --- Configuración visual y supresión de warnings ---\n",
    "plt.style.use(\"default\")\n",
    "sns.set_palette(\"coolwarm\")\n",
    "warnings.filterwarnings(\"ignore\", category=UserWarning, module=\"tqdm\")\n",
    "\n",
    "# --- Carga de datasets no escalados ---\n",
    "X_train = pd.read_csv(\"../data/processed/X_train_unscaled.csv\")\n",
    "X_test = pd.read_csv(\"../data/processed/X_test_unscaled.csv\")\n",
    "y_train = pd.read_csv(\"../data/processed/y_train.csv\").squeeze()\n",
    "y_test = pd.read_csv(\"../data/processed/y_test.csv\").squeeze()\n",
    "\n",
    "# --- Confirmación de carga ---\n",
    "print(\"✅ Datasets cargados correctamente.\")\n",
    "print(f\"X_train: {X_train.shape} | X_test: {X_test.shape}\")\n",
    "print(f\"y_train: {y_train.shape} | y_test: {y_test.shape}\")\n"
   ]
  },
  {
   "cell_type": "markdown",
   "id": "5a363dfd",
   "metadata": {},
   "source": [
    "## **Paso 2: Entrenamiento del modelo base**\n",
    "\n",
    "En este paso se entrena un modelo base de **Random Forest Classifier**  \n",
    "utilizando los parámetros por defecto de *scikit-learn*, salvo el ajuste de `class_weight=\"balanced\"`  \n",
    "para compensar el **desbalanceo en la variable objetivo** (*satisfaction*).\n",
    "\n",
    "Este modelo combina múltiples árboles de decisión entrenados sobre subconjuntos de datos aleatorios  \n",
    "y características aleatorias, lo que permite mejorar la precisión y controlar el sobreajuste (*overfitting*).\n",
    "\n",
    "Este modelo baseline nos servirá como referencia inicial antes de aplicar técnicas  \n",
    "de optimización de hiperparámetros (**GridSearchCV** y **Optuna**),  \n",
    "permitiendo comparar si las mejoras obtenidas justifican el coste computacional adicional.\n",
    "\n",
    "Se evaluará el rendimiento mediante métricas de clasificación:\n",
    "- **Accuracy**: proporción total de aciertos.  \n",
    "- **Precision**: exactitud en las predicciones positivas.  \n",
    "- **Recall**: capacidad para detectar casos positivos.  \n",
    "- **F1-score**: equilibrio entre precision y recall.  \n",
    "- **ROC-AUC**: capacidad del modelo para distinguir entre clases.\n",
    "\n",
    "\n",
    "\n"
   ]
  },
  {
   "cell_type": "code",
   "execution_count": 44,
   "id": "d8d68889",
   "metadata": {},
   "outputs": [
    {
     "data": {
      "text/markdown": [
       "### 📊 Métricas del modelo baseline (Random Forest):"
      ],
      "text/plain": [
       "<IPython.core.display.Markdown object>"
      ]
     },
     "metadata": {},
     "output_type": "display_data"
    },
    {
     "name": "stdout",
     "output_type": "stream",
     "text": [
      "Accuracy: 0.961\n",
      "Precision: 0.967\n",
      "Recall: 0.943\n",
      "F1-score: 0.955\n",
      "ROC-AUC: 0.994\n"
     ]
    },
    {
     "data": {
      "text/markdown": [
       "### 🧾 Reporte de clasificación:"
      ],
      "text/plain": [
       "<IPython.core.display.Markdown object>"
      ]
     },
     "metadata": {},
     "output_type": "display_data"
    },
    {
     "name": "stdout",
     "output_type": "stream",
     "text": [
      "              precision    recall  f1-score   support\n",
      "\n",
      "           0      0.957     0.976     0.966     11776\n",
      "           1      0.967     0.943     0.955      9005\n",
      "\n",
      "    accuracy                          0.961     20781\n",
      "   macro avg      0.962     0.959     0.960     20781\n",
      "weighted avg      0.961     0.961     0.961     20781\n",
      "\n"
     ]
    },
    {
     "data": {
      "text/markdown": [
       "\n",
       "**💬 Interpretación de resultados:**\n",
       "\n",
       "- El modelo baseline ofrece un punto de partida para evaluar mejoras posteriores.  \n",
       "- Gracias al parámetro `class_weight='balanced'`, el modelo mitiga el impacto del desbalanceo.  \n",
       "- El valor de **F1-score** será la métrica principal a seguir,  \n",
       "  ya que combina precisión y recall, siendo ideal para problemas de clases desbalanceadas.  \n",
       "- En pasos posteriores se evaluará si el tuning con *GridSearchCV* u *Optuna*  \n",
       "  logra mejorar este rendimiento base.\n"
      ],
      "text/plain": [
       "<IPython.core.display.Markdown object>"
      ]
     },
     "metadata": {},
     "output_type": "display_data"
    }
   ],
   "source": [
    "# ===================================\n",
    "# 2. Entrenamiento del modelo base (Baseline)\n",
    "# ===================================\n",
    "\n",
    "# --- Definición del modelo base ---\n",
    "# --- Entrenamiento del modelo base ---\n",
    "rf_baseline = RandomForestClassifier(\n",
    "    random_state=42,\n",
    "    class_weight=\"balanced\",\n",
    "    n_jobs=-1\n",
    ")\n",
    "\n",
    "baseline_model = RandomForestClassifier(\n",
    "    random_state=42,\n",
    "    class_weight=\"balanced\",  # manejo del desbalanceo de clases\n",
    "    n_jobs=-1\n",
    ")\n",
    "\n",
    "# --- Entrenamiento ---\n",
    "baseline_model.fit(X_train, y_train)\n",
    "\n",
    "# --- Predicciones ---\n",
    "y_pred_base = baseline_model.predict(X_test)\n",
    "y_proba_base = baseline_model.predict_proba(X_test)[:, 1]\n",
    "\n",
    "# --- Cálculo de métricas ---\n",
    "metrics_baseline = {\n",
    "    \"Accuracy\": accuracy_score(y_test, y_pred_base),\n",
    "    \"Precision\": precision_score(y_test, y_pred_base),\n",
    "    \"Recall\": recall_score(y_test, y_pred_base),\n",
    "    \"F1-score\": f1_score(y_test, y_pred_base),\n",
    "    \"ROC-AUC\": roc_auc_score(y_test, y_proba_base)\n",
    "}\n",
    "\n",
    "# --- Mostrar métricas ---\n",
    "display(Markdown(\"### 📊 Métricas del modelo baseline (Random Forest):\"))\n",
    "for metric, value in metrics_baseline.items():\n",
    "    print(f\"{metric}: {value:.3f}\")\n",
    "\n",
    "# --- Reporte de clasificación ---\n",
    "display(Markdown(\"### 🧾 Reporte de clasificación:\"))\n",
    "print(classification_report(y_test, y_pred_base, digits=3))\n",
    "\n",
    "# --- Interpretación ---\n",
    "display(Markdown(\"\"\"\n",
    "**💬 Interpretación de resultados:**\n",
    "\n",
    "- El modelo baseline ofrece un punto de partida para evaluar mejoras posteriores.  \n",
    "- Gracias al parámetro `class_weight='balanced'`, el modelo mitiga el impacto del desbalanceo.  \n",
    "- El valor de **F1-score** será la métrica principal a seguir,  \n",
    "  ya que combina precisión y recall, siendo ideal para problemas de clases desbalanceadas.  \n",
    "- En pasos posteriores se evaluará si el tuning con *GridSearchCV* u *Optuna*  \n",
    "  logra mejorar este rendimiento base.\n",
    "\"\"\"))\n"
   ]
  },
  {
   "cell_type": "markdown",
   "id": "eaff15cd",
   "metadata": {},
   "source": [
    "## **Paso 3: Validación cruzada (Cross-Validation)**\n",
    "\n",
    "Aplicamos **validación cruzada 5-fold** sobre el modelo baseline para estimar su capacidad de generalización  \n",
    "y verificar la estabilidad del rendimiento antes del ajuste de hiperparámetros.\n",
    "\n",
    "Utilizaremos el **F1-score** como métrica principal, dado el leve **desbalanceo de clases** en la variable objetivo (*satisfaction*).\n",
    "\n",
    "La validación cruzada permite evaluar el modelo en diferentes subconjuntos del conjunto de entrenamiento,  \n",
    "detectando posibles problemas de **sobreajuste (overfitting)** o **inestabilidad** del modelo.\n"
   ]
  },
  {
   "cell_type": "code",
   "execution_count": 45,
   "id": "814b1fe0",
   "metadata": {},
   "outputs": [
    {
     "name": "stdout",
     "output_type": "stream",
     "text": [
      "📊 Resultados de la validación cruzada (F1 por fold):\n",
      "Fold 1: 0.953\n",
      "Fold 2: 0.955\n",
      "Fold 3: 0.953\n",
      "Fold 4: 0.955\n",
      "Fold 5: 0.952\n",
      "\n",
      "F1 promedio (CV): 0.953 ± 0.001\n"
     ]
    },
    {
     "data": {
      "image/png": "[encoded data removed]",
      "text/plain": [
       "<Figure size 600x400 with 1 Axes>"
      ]
     },
     "metadata": {},
     "output_type": "display_data"
    },
    {
     "data": {
      "text/markdown": [
       "\n",
       "**💬 Interpretación visual:**\n",
       "\n",
       "- Cada punto representa el F1-score obtenido en uno de los 5 folds.  \n",
       "- Si los valores están agrupados (caja estrecha), el modelo es **estable y generaliza bien**.  \n",
       "- Si existe mucha dispersión, el modelo podría ser **sensible a los datos** o sufrir *overfitting*.  \n",
       "- Este análisis permite validar que el modelo baseline de Random Forest tiene un rendimiento consistente  \n",
       "  antes de aplicar optimización de hiperparámetros.\n"
      ],
      "text/plain": [
       "<IPython.core.display.Markdown object>"
      ]
     },
     "metadata": {},
     "output_type": "display_data"
    }
   ],
   "source": [
    "# ===================================\n",
    "# 3. Validación cruzada (Cross-Validation)\n",
    "# ===================================\n",
    "\n",
    "from sklearn.model_selection import cross_val_score\n",
    "from sklearn.metrics import make_scorer, f1_score\n",
    "\n",
    "# --- Definición del F1-score como métrica principal ---\n",
    "f1_scorer = make_scorer(f1_score, pos_label=1)\n",
    "\n",
    "# --- Ejecución de la validación cruzada (5 folds) ---\n",
    "cv_scores = cross_val_score(\n",
    "    baseline_model,\n",
    "    X_train, y_train,\n",
    "    cv=5,\n",
    "    scoring=f1_scorer,\n",
    "    n_jobs=-1\n",
    ")\n",
    "\n",
    "# --- Resultados numéricos ---\n",
    "print(\"📊 Resultados de la validación cruzada (F1 por fold):\")\n",
    "for i, score in enumerate(cv_scores, start=1):\n",
    "    print(f\"Fold {i}: {score:.3f}\")\n",
    "print(f\"\\nF1 promedio (CV): {cv_scores.mean():.3f} ± {cv_scores.std():.3f}\")\n",
    "\n",
    "# --- Visualización de resultados ---\n",
    "fig, ax = plt.subplots(figsize=(6, 4))\n",
    "sns.boxplot(x=cv_scores, color=\"skyblue\", ax=ax)\n",
    "sns.stripplot(x=cv_scores, color=\"darkblue\", jitter=0.05, size=6, ax=ax)\n",
    "ax.set_title(\"Distribución del F1-score en la Validación Cruzada (5-fold)\", fontsize=12, color=\"#0D47A1\")\n",
    "ax.set_xlabel(\"F1-score por fold\")\n",
    "plt.tight_layout()\n",
    "plt.show()\n",
    "\n",
    "# --- Comentario visual ---\n",
    "display(Markdown(\"\"\"\n",
    "**💬 Interpretación visual:**\n",
    "\n",
    "- Cada punto representa el F1-score obtenido en uno de los 5 folds.  \n",
    "- Si los valores están agrupados (caja estrecha), el modelo es **estable y generaliza bien**.  \n",
    "- Si existe mucha dispersión, el modelo podría ser **sensible a los datos** o sufrir *overfitting*.  \n",
    "- Este análisis permite validar que el modelo baseline de Random Forest tiene un rendimiento consistente  \n",
    "  antes de aplicar optimización de hiperparámetros.\n",
    "\"\"\"))\n"
   ]
  },
  {
   "cell_type": "markdown",
   "id": "80328681",
   "metadata": {},
   "source": [
    "## **Paso 4: Tuning de hiperparámetros con GridSearchCV y RandomizedSearchCV**\n",
    "\n",
    "En este paso optimizamos los hiperparámetros del modelo **Random Forest Classifier**  \n",
    "para mejorar su rendimiento frente al modelo baseline.\n",
    "\n",
    "Se emplean tres estrategias complementarias:\n",
    "\n",
    "1. 🧩 **GridSearchCV reducida** → ejecución rápida, útil para pruebas iniciales y validación del flujo.  \n",
    "2. 🎲 **RandomizedSearchCV** → exploración más amplia y eficiente mediante muestreo aleatorio.  \n",
    "3. ⚙️ **GridSearchCV completa** → búsqueda exhaustiva (comentada por defecto por su alto coste computacional).  \n",
    "\n",
    "En todos los casos, la métrica de optimización será el **F1-score (5-fold CV)**,  \n",
    "adecuada para datasets con **clases desbalanceadas**.  \n",
    "\n",
    "Parámetros a optimizar:\n",
    "- `n_estimators`: número de árboles en el bosque  \n",
    "- `max_depth`: profundidad máxima  \n",
    "- `min_samples_split`: muestras mínimas para dividir un nodo  \n",
    "- `min_samples_leaf`: muestras mínimas en una hoja  \n",
    "- `max_features`: número de características usadas por cada árbol  \n",
    "El objetivo es encontrar el equilibrio entre **precisión**, **recobrado** y **generalización**.\n"
   ]
  },
  {
   "cell_type": "markdown",
   "id": "e3113dfe",
   "metadata": {},
   "source": [
    "\n",
    "### **Paso 4️.1: Tuning de hiperparámetros — GridSearchCV**\n",
    "\n",
    "En este paso realizamos la búsqueda exhaustiva de hiperparámetros para el modelo **Random Forest**  \n",
    "utilizando `GridSearchCV`.\n",
    "\n",
    "Este método prueba **todas las combinaciones posibles** de parámetros definidos en la malla (`param_grid`)  \n",
    "y selecciona la que obtiene el mejor **F1-score medio** mediante validación cruzada (CV=5).\n",
    "\n",
    "> ⚙️ Es más costoso computacionalmente, pero proporciona los resultados más precisos y reproducibles.\n",
    "> Si se quiere probar esta opción dejar comentada la siguiente celda que lo calcula para RandomizedSearchCV.\n"
   ]
  },
  {
   "cell_type": "code",
   "execution_count": 46,
   "id": "c4a67012",
   "metadata": {},
   "outputs": [
    {
     "data": {
      "text/markdown": [
       "### 🎲 **Ejecución con RandomizedSearchCV (búsqueda aleatoria)**"
      ],
      "text/plain": [
       "<IPython.core.display.Markdown object>"
      ]
     },
     "metadata": {},
     "output_type": "display_data"
    },
    {
     "name": "stdout",
     "output_type": "stream",
     "text": [
      "Fitting 5 folds for each of 20 candidates, totalling 100 fits\n"
     ]
    },
    {
     "data": {
      "text/markdown": [
       "\n",
       "✅ **RandomizedSearchCV completada correctamente.**\n",
       "- ⏱️ Tiempo de ejecución: 190.46 segundos  \n",
       "- **Mejores parámetros:** `{'n_estimators': 300, 'min_samples_split': 2, 'min_samples_leaf': 1, 'max_features': 'log2', 'max_depth': None}`  \n",
       "- **F1-score medio (CV):** `0.954`\n"
      ],
      "text/plain": [
       "<IPython.core.display.Markdown object>"
      ]
     },
     "metadata": {},
     "output_type": "display_data"
    },
    {
     "name": "stdout",
     "output_type": "stream",
     "text": [
      "Fitting 5 folds for each of 162 candidates, totalling 810 fits\n"
     ]
    },
    {
     "data": {
      "text/markdown": [
       "\n",
       "**GridSearchCV completa finalizada correctamente.**\n",
       "- ⏱️ Tiempo de ejecución: 190.46 segundos \n",
       "- **Mejores parámetros:** `{'max_depth': None, 'max_features': 'sqrt', 'min_samples_leaf': 1, 'min_samples_split': 2, 'n_estimators': 500}`  \n",
       "- **F1-score medio (CV):** `0.954`\n"
      ],
      "text/plain": [
       "<IPython.core.display.Markdown object>"
      ]
     },
     "metadata": {},
     "output_type": "display_data"
    },
    {
     "data": {
      "text/markdown": [
       "### 📊 **Comparativa de rendimiento: GridSearchCV vs RandomizedSearchCV**"
      ],
      "text/plain": [
       "<IPython.core.display.Markdown object>"
      ]
     },
     "metadata": {},
     "output_type": "display_data"
    },
    {
     "data": {
      "text/html": [
       "<style type=\"text/css\">\n",
       "</style>\n",
       "<table id=\"T_0fcea\">\n",
       "  <thead>\n",
       "    <tr>\n",
       "      <th class=\"blank level0\" >&nbsp;</th>\n",
       "      <th id=\"T_0fcea_level0_col0\" class=\"col_heading level0 col0\" >Método</th>\n",
       "      <th id=\"T_0fcea_level0_col1\" class=\"col_heading level0 col1\" >F1-score (CV)</th>\n",
       "      <th id=\"T_0fcea_level0_col2\" class=\"col_heading level0 col2\" >Tiempo (s)</th>\n",
       "    </tr>\n",
       "  </thead>\n",
       "  <tbody>\n",
       "    <tr>\n",
       "      <th id=\"T_0fcea_level0_row0\" class=\"row_heading level0 row0\" >0</th>\n",
       "      <td id=\"T_0fcea_row0_col0\" class=\"data row0 col0\" >GridSearchCV (ligera)</td>\n",
       "      <td id=\"T_0fcea_row0_col1\" class=\"data row0 col1\" >0.953</td>\n",
       "      <td id=\"T_0fcea_row0_col2\" class=\"data row0 col2\" >116.6</td>\n",
       "    </tr>\n",
       "    <tr>\n",
       "      <th id=\"T_0fcea_level0_row1\" class=\"row_heading level0 row1\" >1</th>\n",
       "      <td id=\"T_0fcea_row1_col0\" class=\"data row1 col0\" >RandomizedSearchCV</td>\n",
       "      <td id=\"T_0fcea_row1_col1\" class=\"data row1 col1\" >0.954</td>\n",
       "      <td id=\"T_0fcea_row1_col2\" class=\"data row1 col2\" >190.5</td>\n",
       "    </tr>\n",
       "  </tbody>\n",
       "</table>\n"
      ],
      "text/plain": [
       "<pandas.io.formats.style.Styler at 0x1b318139010>"
      ]
     },
     "metadata": {},
     "output_type": "display_data"
    },
    {
     "data": {
      "image/png": "[encoded data removed]",
      "text/plain": [
       "<Figure size 900x500 with 1 Axes>"
      ]
     },
     "metadata": {},
     "output_type": "display_data"
    },
    {
     "data": {
      "text/markdown": [
       "\n",
       "**💬 Interpretación visual:**\n",
       "\n",
       "- Cada grupo de barras compara el rendimiento medio y tiempo de ejecución entre métodos.  \n",
       "- La paleta *coolwarm* resalta diferencias de forma intuitiva: tonos cálidos indican mejor rendimiento.  \n",
       "- En general, *RandomizedSearchCV* ofrece resultados comparables a *GridSearchCV* con menor coste computacional,  \n",
       "  lo que lo convierte en una alternativa eficiente para este tipo de modelos de ensamble.\n"
      ],
      "text/plain": [
       "<IPython.core.display.Markdown object>"
      ]
     },
     "metadata": {},
     "output_type": "display_data"
    }
   ],
   "source": [
    "# ===================================\n",
    "# 4. Tuning de hiperparámetros con GridSearchCV y RandomizedSearchCV\n",
    "# ===================================\n",
    "\n",
    "from sklearn.model_selection import GridSearchCV, RandomizedSearchCV\n",
    "from sklearn.metrics import make_scorer, f1_score\n",
    "import time\n",
    "\n",
    "# --- Definición del F1-score como métrica principal ---\n",
    "f1_scorer = make_scorer(f1_score, pos_label=1)\n",
    "\n",
    "# --- Modelo base ---\n",
    "rf_model = RandomForestClassifier(random_state=42, class_weight=\"balanced\", n_jobs=-1)\n",
    "\n",
    "# =====================================================\n",
    "# 🧩 OPCIÓN 1: GRIDSEARCH REDUCIDA (ejecución ligera)\n",
    "# =====================================================\n",
    "# ===================================\n",
    "# 🚫 BLOQUE COMENTADO: GridSearchCV reducida (ejecución ligera)\n",
    "# ===================================\n",
    "# Este bloque se deja comentado para evitar ejecuciones accidentales.\n",
    "# Se puede reactivar para pruebas rápidas del modelo Random Forest.\n",
    "# Mantiene coherencia con el flujo del notebook (Paso 4).\n",
    "\n",
    "# display(Markdown(\"### 🧩 **Ejecución ligera: GridSearchCV reducida**\"))\n",
    "\n",
    "# param_grid_light = {\n",
    "#     \"n_estimators\": [100, 200],\n",
    "#     \"max_depth\": [10, 20],\n",
    "#     \"min_samples_split\": [2, 5],\n",
    "#     \"min_samples_leaf\": [1, 2],\n",
    "#     \"max_features\": [\"sqrt\"]\n",
    "# }\n",
    "\n",
    "# start_time = time.time()\n",
    "# grid_search_light = GridSearchCV(\n",
    "#     estimator=rf_model,\n",
    "#     param_grid=param_grid_light,\n",
    "#     scoring=f1_scorer,\n",
    "#     cv=5,\n",
    "#     n_jobs=-1,\n",
    "#     verbose=1\n",
    "# )\n",
    "# grid_search_light.fit(X_train, y_train)\n",
    "# light_time = time.time() - start_time\n",
    "\n",
    "# display(Markdown(f\"\"\"\n",
    "# **GridSearchCV reducida completada correctamente.**\n",
    "# - ⏱️ Tiempo de ejecución: {light_time:.2f} segundos  \n",
    "# - **Mejores parámetros:** `{grid_search_light.best_params_}`  \n",
    "# - **F1-score medio (CV):** `{grid_search_light.best_score_:.3f}`\n",
    "# \"\"\"))\n",
    "\n",
    "\n",
    "# =====================================================\n",
    "# 🎲 OPCIÓN 2: RANDOMIZEDSEARCHCV (búsqueda aleatoria)\n",
    "# =====================================================\n",
    "display(Markdown(\"### 🎲 **Ejecución con RandomizedSearchCV (búsqueda aleatoria)**\"))\n",
    "\n",
    "param_dist = {\n",
    "    \"n_estimators\": [100, 200, 300, 400, 500],\n",
    "    \"max_depth\": [10, 15, 20, 25, None],\n",
    "    \"min_samples_split\": [2, 5, 10],\n",
    "    \"min_samples_leaf\": [1, 2, 4],\n",
    "    \"max_features\": [\"sqrt\", \"log2\"]\n",
    "}\n",
    "\n",
    "start_time = time.time()\n",
    "random_search = RandomizedSearchCV(\n",
    "    estimator=rf_model,\n",
    "    param_distributions=param_dist,\n",
    "    n_iter=20,  # número de combinaciones aleatorias\n",
    "    scoring=f1_scorer,\n",
    "    cv=5,\n",
    "    random_state=42,\n",
    "    n_jobs=-1,\n",
    "    verbose=1\n",
    ")\n",
    "random_search.fit(X_train, y_train)\n",
    "random_time = time.time() - start_time\n",
    "\n",
    "display(Markdown(f\"\"\"\n",
    "✅ **RandomizedSearchCV completada correctamente.**\n",
    "- ⏱️ Tiempo de ejecución: {random_time:.2f} segundos  \n",
    "- **Mejores parámetros:** `{random_search.best_params_}`  \n",
    "- **F1-score medio (CV):** `{random_search.best_score_:.3f}`\n",
    "\"\"\"))\n",
    "\n",
    "# =====================================================\n",
    "# ⚙️ OPCIÓN 3: GRIDSEARCH COMPLETA (comentada)\n",
    "# =====================================================\n",
    "\"\"\"\n",
    "🔹 Combinaciones posibles:\n",
    "3 × 3 × 3 × 2 × 2 = 108 modelos → 108 × 5 folds = 540 entrenamientos\n",
    "⏱️ Tiempo estimado: 6–10 minutos según hardware\n",
    "\"\"\"\n",
    "\n",
    "# Para ejecutar la búsqueda completa, descomentar el bloque siguiente:\n",
    "\n",
    "\n",
    "param_grid_full = {\n",
    "     \"n_estimators\": [200, 300, 500],\n",
    "     \"max_depth\": [15, 20, None],\n",
    "     \"min_samples_split\": [2, 5, 10],\n",
    "     \"min_samples_leaf\": [1, 2, 4],\n",
    "     \"max_features\": [\"sqrt\", \"log2\"]\n",
    " }\n",
    "\n",
    "start_time = time.time()\n",
    "grid_search_full = GridSearchCV(\n",
    "     estimator=rf_model,\n",
    "     param_grid=param_grid_full,\n",
    "     scoring=f1_scorer,\n",
    "     cv=5,\n",
    "     n_jobs=-1,\n",
    "     verbose=1\n",
    ")\n",
    "grid_search_full.fit(X_train, y_train)\n",
    "\n",
    "# Resultados del GridSearch completo\n",
    "display(Markdown(f'''\n",
    "**GridSearchCV completa finalizada correctamente.**\n",
    "- ⏱️ Tiempo de ejecución: {random_time:.2f} segundos \n",
    "- **Mejores parámetros:** `{grid_search_full.best_params_}`  \n",
    "- **F1-score medio (CV):** `{grid_search_full.best_score_:.3f}`\n",
    "'''))\n",
    "\n",
    "\n",
    "\n",
    "# =====================================================\n",
    "# 📊 VISUALIZACIÓN DE RESULTADOS COMPARATIVOS (estilo coherente)\n",
    "# =====================================================\n",
    "\n",
    "# Crear DataFrame comparativo con resultados de cada búsqueda\n",
    "df_results = pd.DataFrame({\n",
    "    \"Método\": [\"GridSearchCV (ligera)\", \"RandomizedSearchCV\"],\n",
    "    \"F1-score (CV)\": [grid_search_light.best_score_, random_search.best_score_],\n",
    "    \"Tiempo (s)\": [light_time, random_time]\n",
    "})\n",
    "\n",
    "display(Markdown(\"### 📊 **Comparativa de rendimiento: GridSearchCV vs RandomizedSearchCV**\"))\n",
    "display(df_results.style.format({\"F1-score (CV)\": \"{:.3f}\", \"Tiempo (s)\": \"{:.1f}\"}))\n",
    "\n",
    "# Reformatear datos para el gráfico agrupado\n",
    "df_melted = df_results.melt(id_vars=\"Método\", var_name=\"Métrica\", value_name=\"Valor\")\n",
    "\n",
    "# --- Gráfico comparativo ---\n",
    "plt.figure(figsize=(9, 5))\n",
    "sns.barplot(\n",
    "    data=df_melted,\n",
    "    x=\"Métrica\",\n",
    "    y=\"Valor\",\n",
    "    hue=\"Método\",\n",
    "    palette=\"coolwarm\",\n",
    "    width=0.6\n",
    ")\n",
    "\n",
    "# --- Estilo visual coherente ---\n",
    "plt.title(\"Comparación de métricas de búsqueda — Random Forest\", fontsize=14, color=\"#0D47A1\", pad=10)\n",
    "plt.xlabel(\"\")\n",
    "plt.ylabel(\"Valor\")\n",
    "plt.ylim(0, max(df_melted[\"Valor\"]) * 1.1)\n",
    "plt.legend(title=\"Método\", loc=\"lower right\", frameon=False)\n",
    "plt.grid(alpha=0.3, linestyle=\"--\", linewidth=0.5)\n",
    "plt.tight_layout()\n",
    "plt.show()\n",
    "\n",
    "display(Markdown(\"\"\"\n",
    "**💬 Interpretación visual:**\n",
    "\n",
    "- Cada grupo de barras compara el rendimiento medio y tiempo de ejecución entre métodos.  \n",
    "- La paleta *coolwarm* resalta diferencias de forma intuitiva: tonos cálidos indican mejor rendimiento.  \n",
    "- En general, *RandomizedSearchCV* ofrece resultados comparables a *GridSearchCV* con menor coste computacional,  \n",
    "  lo que lo convierte en una alternativa eficiente para este tipo de modelos de ensamble.\n",
    "\"\"\"))\n",
    "\n"
   ]
  },
  {
   "cell_type": "markdown",
   "id": "2d372f9f",
   "metadata": {},
   "source": [
    "## **Paso 5: Optimización de hiperparámetros con Optuna**\n",
    "\n",
    "En este paso aplicamos **Optuna**, una herramienta de optimización bayesiana  \n",
    "que selecciona automáticamente las mejores combinaciones de hiperparámetros  \n",
    "mediante un proceso iterativo más eficiente que *GridSearchCV* o *RandomizedSearchCV*.\n",
    "\n",
    "El objetivo es **maximizar el F1-score medio (5-fold cross-validation)**  \n",
    "para el modelo de **Random Forest**, considerando el desbalanceo entre clases mediante  \n",
    "`class_weight=\"balanced\"`.\n",
    "\n",
    "---\n",
    "\n",
    "**Hiperparámetros a optimizar:**\n",
    "- `n_estimators`: número de árboles del bosque.  \n",
    "- `max_depth`: profundidad máxima de los árboles.  \n",
    "- `min_samples_split`: número mínimo de muestras requeridas para dividir un nodo.  \n",
    "- `min_samples_leaf`: número mínimo de muestras requeridas en una hoja.  \n",
    "- `max_features`: número de características a considerar al buscar la mejor división.  \n",
    "\n",
    "\n",
    "Optuna realiza múltiples iteraciones (ensayos), ajustando dinámicamente  \n",
    "los valores de los hiperparámetros en función de los resultados anteriores.  \n",
    "Esto acelera la búsqueda del punto óptimo con menos evaluaciones.\n"
   ]
  },
  {
   "cell_type": "code",
   "execution_count": 47,
   "id": "fa5ee121",
   "metadata": {},
   "outputs": [
    {
     "data": {
      "text/markdown": [
       "⏳ **Ejecutando optimización con Optuna (30 ensayos)...**"
      ],
      "text/plain": [
       "<IPython.core.display.Markdown object>"
      ]
     },
     "metadata": {},
     "output_type": "display_data"
    },
    {
     "name": "stderr",
     "output_type": "stream",
     "text": [
      "[I 2025-10-12 10:01:13,214] A new study created in memory with name: RandomForest_Optuna\n",
      "Best trial: 0. Best value: 0.933298:   3%|▎         | 1/30 [00:20<09:42, 20.10s/it]"
     ]
    },
    {
     "name": "stdout",
     "output_type": "stream",
     "text": [
      "[I 2025-10-12 10:01:33,320] Trial 0 finished with value: 0.9332979533495619 and parameters: {'n_estimators': 406, 'max_depth': 10, 'min_samples_split': 8, 'min_samples_leaf': 2, 'max_features': 'sqrt'}. Best is trial 0 with value: 0.9332979533495619.\n"
     ]
    },
    {
     "name": "stderr",
     "output_type": "stream",
     "text": [
      "Best trial: 1. Best value: 0.952233:   7%|▋         | 2/30 [00:39<09:14, 19.80s/it]"
     ]
    },
    {
     "name": "stdout",
     "output_type": "stream",
     "text": [
      "[I 2025-10-12 10:01:52,919] Trial 1 finished with value: 0.9522333710410589 and parameters: {'n_estimators': 348, 'max_depth': 19, 'min_samples_split': 8, 'min_samples_leaf': 1, 'max_features': 'sqrt'}. Best is trial 1 with value: 0.9522333710410589.\n"
     ]
    },
    {
     "name": "stderr",
     "output_type": "stream",
     "text": [
      "Best trial: 1. Best value: 0.952233:  10%|█         | 3/30 [01:00<09:06, 20.24s/it]"
     ]
    },
    {
     "name": "stdout",
     "output_type": "stream",
     "text": [
      "[I 2025-10-12 10:02:13,680] Trial 2 finished with value: 0.9497833960184362 and parameters: {'n_estimators': 359, 'max_depth': 18, 'min_samples_split': 10, 'min_samples_leaf': 3, 'max_features': 'sqrt'}. Best is trial 1 with value: 0.9522333710410589.\n"
     ]
    },
    {
     "name": "stderr",
     "output_type": "stream",
     "text": [
      "Best trial: 1. Best value: 0.952233:  13%|█▎        | 4/30 [01:16<07:58, 18.40s/it]"
     ]
    },
    {
     "name": "stdout",
     "output_type": "stream",
     "text": [
      "[I 2025-10-12 10:02:29,262] Trial 3 finished with value: 0.9369777019245124 and parameters: {'n_estimators': 324, 'max_depth': 11, 'min_samples_split': 4, 'min_samples_leaf': 4, 'max_features': 'sqrt'}. Best is trial 1 with value: 0.9522333710410589.\n"
     ]
    },
    {
     "name": "stderr",
     "output_type": "stream",
     "text": [
      "Best trial: 1. Best value: 0.952233:  17%|█▋        | 5/30 [01:35<07:53, 18.96s/it]"
     ]
    },
    {
     "name": "stdout",
     "output_type": "stream",
     "text": [
      "[I 2025-10-12 10:02:49,200] Trial 4 finished with value: 0.9205769473305336 and parameters: {'n_estimators': 500, 'max_depth': 7, 'min_samples_split': 2, 'min_samples_leaf': 3, 'max_features': 'sqrt'}. Best is trial 1 with value: 0.9522333710410589.\n"
     ]
    },
    {
     "name": "stderr",
     "output_type": "stream",
     "text": [
      "Best trial: 1. Best value: 0.952233:  20%|██        | 6/30 [01:50<06:56, 17.36s/it]"
     ]
    },
    {
     "name": "stdout",
     "output_type": "stream",
     "text": [
      "[I 2025-10-12 10:03:03,455] Trial 5 finished with value: 0.9372071931936237 and parameters: {'n_estimators': 324, 'max_depth': 11, 'min_samples_split': 8, 'min_samples_leaf': 3, 'max_features': 'log2'}. Best is trial 1 with value: 0.9522333710410589.\n"
     ]
    },
    {
     "name": "stderr",
     "output_type": "stream",
     "text": [
      "Best trial: 1. Best value: 0.952233:  23%|██▎       | 7/30 [02:09<06:54, 18.01s/it]"
     ]
    },
    {
     "name": "stdout",
     "output_type": "stream",
     "text": [
      "[I 2025-10-12 10:03:22,794] Trial 6 finished with value: 0.9405343748681215 and parameters: {'n_estimators': 465, 'max_depth': 12, 'min_samples_split': 9, 'min_samples_leaf': 4, 'max_features': 'sqrt'}. Best is trial 1 with value: 0.9522333710410589.\n"
     ]
    },
    {
     "name": "stderr",
     "output_type": "stream",
     "text": [
      "Best trial: 7. Best value: 0.952866:  27%|██▋       | 8/30 [02:15<05:11, 14.17s/it]"
     ]
    },
    {
     "name": "stdout",
     "output_type": "stream",
     "text": [
      "[I 2025-10-12 10:03:28,741] Trial 7 finished with value: 0.9528663898000775 and parameters: {'n_estimators': 113, 'max_depth': 30, 'min_samples_split': 7, 'min_samples_leaf': 1, 'max_features': 'sqrt'}. Best is trial 7 with value: 0.9528663898000775.\n"
     ]
    },
    {
     "name": "stderr",
     "output_type": "stream",
     "text": [
      "Best trial: 7. Best value: 0.952866:  30%|███       | 9/30 [02:38<05:57, 17.03s/it]"
     ]
    },
    {
     "name": "stdout",
     "output_type": "stream",
     "text": [
      "[I 2025-10-12 10:03:52,065] Trial 8 finished with value: 0.9488803300959188 and parameters: {'n_estimators': 479, 'max_depth': 18, 'min_samples_split': 4, 'min_samples_leaf': 4, 'max_features': 'sqrt'}. Best is trial 7 with value: 0.9528663898000775.\n"
     ]
    },
    {
     "name": "stderr",
     "output_type": "stream",
     "text": [
      "Best trial: 7. Best value: 0.952866:  33%|███▎      | 10/30 [02:44<04:30, 13.52s/it]"
     ]
    },
    {
     "name": "stdout",
     "output_type": "stream",
     "text": [
      "[I 2025-10-12 10:03:57,720] Trial 9 finished with value: 0.9527846259809261 and parameters: {'n_estimators': 106, 'max_depth': 29, 'min_samples_split': 10, 'min_samples_leaf': 1, 'max_features': 'sqrt'}. Best is trial 7 with value: 0.9528663898000775.\n"
     ]
    },
    {
     "name": "stderr",
     "output_type": "stream",
     "text": [
      "Best trial: 7. Best value: 0.952866:  37%|███▋      | 11/30 [02:53<03:48, 12.05s/it]"
     ]
    },
    {
     "name": "stdout",
     "output_type": "stream",
     "text": [
      "[I 2025-10-12 10:04:06,436] Trial 10 finished with value: 0.9525055927634319 and parameters: {'n_estimators': 158, 'max_depth': 29, 'min_samples_split': 6, 'min_samples_leaf': 2, 'max_features': 'log2'}. Best is trial 7 with value: 0.9528663898000775.\n"
     ]
    },
    {
     "name": "stderr",
     "output_type": "stream",
     "text": [
      "Best trial: 11. Best value: 0.953448:  40%|████      | 12/30 [02:59<03:02, 10.16s/it]"
     ]
    },
    {
     "name": "stdout",
     "output_type": "stream",
     "text": [
      "[I 2025-10-12 10:04:12,278] Trial 11 finished with value: 0.9534476574379921 and parameters: {'n_estimators': 102, 'max_depth': 30, 'min_samples_split': 6, 'min_samples_leaf': 1, 'max_features': 'log2'}. Best is trial 11 with value: 0.9534476574379921.\n"
     ]
    },
    {
     "name": "stderr",
     "output_type": "stream",
     "text": [
      "Best trial: 11. Best value: 0.953448:  43%|████▎     | 13/30 [03:11<03:02, 10.74s/it]"
     ]
    },
    {
     "name": "stdout",
     "output_type": "stream",
     "text": [
      "[I 2025-10-12 10:04:24,365] Trial 12 finished with value: 0.9532257068348209 and parameters: {'n_estimators': 215, 'max_depth': 23, 'min_samples_split': 6, 'min_samples_leaf': 1, 'max_features': 'log2'}. Best is trial 11 with value: 0.9534476574379921.\n"
     ]
    },
    {
     "name": "stderr",
     "output_type": "stream",
     "text": [
      "Best trial: 11. Best value: 0.953448:  47%|████▋     | 14/30 [03:23<03:00, 11.29s/it]"
     ]
    },
    {
     "name": "stdout",
     "output_type": "stream",
     "text": [
      "[I 2025-10-12 10:04:36,901] Trial 13 finished with value: 0.9524548639043438 and parameters: {'n_estimators': 219, 'max_depth': 24, 'min_samples_split': 5, 'min_samples_leaf': 2, 'max_features': 'log2'}. Best is trial 11 with value: 0.9534476574379921.\n"
     ]
    },
    {
     "name": "stderr",
     "output_type": "stream",
     "text": [
      "Best trial: 11. Best value: 0.953448:  50%|█████     | 15/30 [03:37<03:02, 12.19s/it]"
     ]
    },
    {
     "name": "stdout",
     "output_type": "stream",
     "text": [
      "[I 2025-10-12 10:04:51,180] Trial 14 finished with value: 0.9533973170392578 and parameters: {'n_estimators': 241, 'max_depth': 24, 'min_samples_split': 6, 'min_samples_leaf': 1, 'max_features': 'log2'}. Best is trial 11 with value: 0.9534476574379921.\n"
     ]
    },
    {
     "name": "stderr",
     "output_type": "stream",
     "text": [
      "Best trial: 11. Best value: 0.953448:  53%|█████▎    | 16/30 [03:52<03:01, 12.99s/it]"
     ]
    },
    {
     "name": "stdout",
     "output_type": "stream",
     "text": [
      "[I 2025-10-12 10:05:06,045] Trial 15 finished with value: 0.9526589659000342 and parameters: {'n_estimators': 264, 'max_depth': 25, 'min_samples_split': 4, 'min_samples_leaf': 2, 'max_features': 'log2'}. Best is trial 11 with value: 0.9534476574379921.\n"
     ]
    },
    {
     "name": "stderr",
     "output_type": "stream",
     "text": [
      "Best trial: 16. Best value: 0.953708:  57%|█████▋    | 17/30 [04:03<02:38, 12.17s/it]"
     ]
    },
    {
     "name": "stdout",
     "output_type": "stream",
     "text": [
      "[I 2025-10-12 10:05:16,319] Trial 16 finished with value: 0.9537082477080538 and parameters: {'n_estimators': 189, 'max_depth': 26, 'min_samples_split': 2, 'min_samples_leaf': 1, 'max_features': 'log2'}. Best is trial 16 with value: 0.9537082477080538.\n"
     ]
    },
    {
     "name": "stderr",
     "output_type": "stream",
     "text": [
      "Best trial: 17. Best value: 0.953879:  60%|██████    | 18/30 [04:12<02:14, 11.20s/it]"
     ]
    },
    {
     "name": "stdout",
     "output_type": "stream",
     "text": [
      "[I 2025-10-12 10:05:25,254] Trial 17 finished with value: 0.9538791148298248 and parameters: {'n_estimators': 167, 'max_depth': 27, 'min_samples_split': 2, 'min_samples_leaf': 1, 'max_features': 'log2'}. Best is trial 17 with value: 0.9538791148298248.\n"
     ]
    },
    {
     "name": "stderr",
     "output_type": "stream",
     "text": [
      "Best trial: 17. Best value: 0.953879:  63%|██████▎   | 19/30 [04:21<01:56, 10.60s/it]"
     ]
    },
    {
     "name": "stdout",
     "output_type": "stream",
     "text": [
      "[I 2025-10-12 10:05:34,437] Trial 18 finished with value: 0.9522581002362832 and parameters: {'n_estimators': 180, 'max_depth': 21, 'min_samples_split': 2, 'min_samples_leaf': 2, 'max_features': 'log2'}. Best is trial 17 with value: 0.9538791148298248.\n"
     ]
    },
    {
     "name": "stderr",
     "output_type": "stream",
     "text": [
      "Best trial: 17. Best value: 0.953879:  67%|██████▋   | 20/30 [04:28<01:36,  9.61s/it]"
     ]
    },
    {
     "name": "stdout",
     "output_type": "stream",
     "text": [
      "[I 2025-10-12 10:05:41,740] Trial 19 finished with value: 0.9487584753443414 and parameters: {'n_estimators': 153, 'max_depth': 15, 'min_samples_split': 3, 'min_samples_leaf': 1, 'max_features': 'log2'}. Best is trial 17 with value: 0.9538791148298248.\n"
     ]
    },
    {
     "name": "stderr",
     "output_type": "stream",
     "text": [
      "Best trial: 17. Best value: 0.953879:  70%|███████   | 21/30 [04:43<01:40, 11.19s/it]"
     ]
    },
    {
     "name": "stdout",
     "output_type": "stream",
     "text": [
      "[I 2025-10-12 10:05:56,605] Trial 20 finished with value: 0.9523936082774581 and parameters: {'n_estimators': 283, 'max_depth': 21, 'min_samples_split': 3, 'min_samples_leaf': 2, 'max_features': 'log2'}. Best is trial 17 with value: 0.9538791148298248.\n"
     ]
    },
    {
     "name": "stderr",
     "output_type": "stream",
     "text": [
      "Best trial: 17. Best value: 0.953879:  73%|███████▎  | 22/30 [04:51<01:21, 10.13s/it]"
     ]
    },
    {
     "name": "stdout",
     "output_type": "stream",
     "text": [
      "[I 2025-10-12 10:06:04,281] Trial 21 finished with value: 0.9538415010370533 and parameters: {'n_estimators': 139, 'max_depth': 27, 'min_samples_split': 2, 'min_samples_leaf': 1, 'max_features': 'log2'}. Best is trial 17 with value: 0.9538791148298248.\n"
     ]
    },
    {
     "name": "stderr",
     "output_type": "stream",
     "text": [
      "Best trial: 17. Best value: 0.953879:  77%|███████▋  | 23/30 [05:01<01:11, 10.27s/it]"
     ]
    },
    {
     "name": "stdout",
     "output_type": "stream",
     "text": [
      "[I 2025-10-12 10:06:14,857] Trial 22 finished with value: 0.953706662600829 and parameters: {'n_estimators': 185, 'max_depth': 27, 'min_samples_split': 2, 'min_samples_leaf': 1, 'max_features': 'log2'}. Best is trial 17 with value: 0.9538791148298248.\n"
     ]
    },
    {
     "name": "stderr",
     "output_type": "stream",
     "text": [
      "Best trial: 23. Best value: 0.953882:  80%|████████  | 24/30 [05:09<00:57,  9.66s/it]"
     ]
    },
    {
     "name": "stdout",
     "output_type": "stream",
     "text": [
      "[I 2025-10-12 10:06:23,089] Trial 23 finished with value: 0.9538821192505089 and parameters: {'n_estimators': 142, 'max_depth': 27, 'min_samples_split': 3, 'min_samples_leaf': 1, 'max_features': 'log2'}. Best is trial 23 with value: 0.9538821192505089.\n"
     ]
    },
    {
     "name": "stderr",
     "output_type": "stream",
     "text": [
      "Best trial: 23. Best value: 0.953882:  83%|████████▎ | 25/30 [05:18<00:46,  9.20s/it]"
     ]
    },
    {
     "name": "stdout",
     "output_type": "stream",
     "text": [
      "[I 2025-10-12 10:06:31,241] Trial 24 finished with value: 0.9536872559989593 and parameters: {'n_estimators': 139, 'max_depth': 27, 'min_samples_split': 3, 'min_samples_leaf': 1, 'max_features': 'log2'}. Best is trial 23 with value: 0.9538821192505089.\n"
     ]
    },
    {
     "name": "stderr",
     "output_type": "stream",
     "text": [
      "Best trial: 23. Best value: 0.953882:  87%|████████▋ | 26/30 [05:26<00:35,  8.84s/it]"
     ]
    },
    {
     "name": "stdout",
     "output_type": "stream",
     "text": [
      "[I 2025-10-12 10:06:39,235] Trial 25 finished with value: 0.9520344712264036 and parameters: {'n_estimators': 135, 'max_depth': 22, 'min_samples_split': 3, 'min_samples_leaf': 2, 'max_features': 'log2'}. Best is trial 23 with value: 0.9538821192505089.\n"
     ]
    },
    {
     "name": "stderr",
     "output_type": "stream",
     "text": [
      "Best trial: 23. Best value: 0.953882:  90%|█████████ | 27/30 [05:39<00:30, 10.23s/it]"
     ]
    },
    {
     "name": "stdout",
     "output_type": "stream",
     "text": [
      "[I 2025-10-12 10:06:52,693] Trial 26 finished with value: 0.9534426458178565 and parameters: {'n_estimators': 221, 'max_depth': 27, 'min_samples_split': 5, 'min_samples_leaf': 1, 'max_features': 'log2'}. Best is trial 23 with value: 0.9538821192505089.\n"
     ]
    },
    {
     "name": "stderr",
     "output_type": "stream",
     "text": [
      "Best trial: 23. Best value: 0.953882:  93%|█████████▎| 28/30 [05:48<00:19,  9.93s/it]"
     ]
    },
    {
     "name": "stdout",
     "output_type": "stream",
     "text": [
      "[I 2025-10-12 10:07:01,920] Trial 27 finished with value: 0.9464583386562626 and parameters: {'n_estimators': 169, 'max_depth': 14, 'min_samples_split': 2, 'min_samples_leaf': 2, 'max_features': 'log2'}. Best is trial 23 with value: 0.9538821192505089.\n"
     ]
    },
    {
     "name": "stderr",
     "output_type": "stream",
     "text": [
      "Best trial: 23. Best value: 0.953882:  97%|█████████▋| 29/30 [05:56<00:09,  9.32s/it]"
     ]
    },
    {
     "name": "stdout",
     "output_type": "stream",
     "text": [
      "[I 2025-10-12 10:07:09,835] Trial 28 finished with value: 0.9535000273996819 and parameters: {'n_estimators': 128, 'max_depth': 28, 'min_samples_split': 3, 'min_samples_leaf': 1, 'max_features': 'log2'}. Best is trial 23 with value: 0.9538821192505089.\n"
     ]
    },
    {
     "name": "stderr",
     "output_type": "stream",
     "text": [
      "Best trial: 23. Best value: 0.953882: 100%|██████████| 30/30 [06:22<00:00, 12.75s/it]"
     ]
    },
    {
     "name": "stdout",
     "output_type": "stream",
     "text": [
      "[I 2025-10-12 10:07:35,710] Trial 29 finished with value: 0.9519976368208167 and parameters: {'n_estimators': 429, 'max_depth': 20, 'min_samples_split': 4, 'min_samples_leaf': 2, 'max_features': 'log2'}. Best is trial 23 with value: 0.9538821192505089.\n"
     ]
    },
    {
     "name": "stderr",
     "output_type": "stream",
     "text": [
      "\n"
     ]
    },
    {
     "data": {
      "text/markdown": [
       "\n",
       "✅ **Optimización completada correctamente.**\n",
       "- ⏱️ **Tiempo total de búsqueda:** 382.50 segundos  \n",
       "- **Mejores hiperparámetros:** `{'n_estimators': 142, 'max_depth': 27, 'min_samples_split': 3, 'min_samples_leaf': 1, 'max_features': 'log2'}`  \n",
       "- **F1-score medio (CV):** `0.954`\n"
      ],
      "text/plain": [
       "<IPython.core.display.Markdown object>"
      ]
     },
     "metadata": {},
     "output_type": "display_data"
    },
    {
     "data": {
      "text/markdown": [
       "\n",
       "✅ **Entrenamiento completado del modelo Optuna (Random Forest)**  \n",
       "El modelo se ha ajustado con los mejores hiperparámetros obtenidos por el estudio y está listo para guardarse.\n"
      ],
      "text/plain": [
       "<IPython.core.display.Markdown object>"
      ]
     },
     "metadata": {},
     "output_type": "display_data"
    },
    {
     "name": "stdout",
     "output_type": "stream",
     "text": [
      "{\n",
      "    \"Accuracy\": 0.9620326259564025,\n",
      "    \"Precision\": 0.9662883087400681,\n",
      "    \"Recall\": 0.9453636868406441,\n",
      "    \"F1-score\": 0.9557114790906539,\n",
      "    \"ROC-AUC\": 0.9939333456428192\n",
      "}\n"
     ]
    },
    {
     "data": {
      "text/markdown": [
       "### 📊 Visualización del proceso de optimización"
      ],
      "text/plain": [
       "<IPython.core.display.Markdown object>"
      ]
     },
     "metadata": {},
     "output_type": "display_data"
    },
    {
     "data": {
      "application/vnd.plotly.v1+json": {
       "config": {
        "plotlyServerURL": "https://plot.ly"
       },
       "data": [
        {
         "mode": "markers",
         "name": "Objective Value",
         "type": "scatter",
         "x": [
          0,
          1,
          2,
          3,
          4,
          5,
          6,
          7,
          8,
          9,
          10,
          11,
          12,
          13,
          14,
          15,
          16,
          17,
          18,
          19,
          20,
          21,
          22,
          23,
          24,
          25,
          26,
          27,
          28,
          29
         ],
         "y": [
          0.9332979533495619,
          0.9522333710410589,
          0.9497833960184362,
          0.9369777019245124,
          0.9205769473305336,
          0.9372071931936237,
          0.9405343748681215,
          0.9528663898000775,
          0.9488803300959188,
          0.9527846259809261,
          0.9525055927634319,
          0.9534476574379921,
          0.9532257068348209,
          0.9524548639043438,
          0.9533973170392578,
          0.9526589659000342,
          0.9537082477080538,
          0.9538791148298248,
          0.9522581002362832,
          0.9487584753443414,
          0.9523936082774581,
          0.9538415010370533,
          0.953706662600829,
          0.9538821192505089,
          0.9536872559989593,
          0.9520344712264036,
          0.9534426458178565,
          0.9464583386562626,
          0.9535000273996819,
          0.9519976368208167
         ]
        },
        {
         "mode": "lines",
         "name": "Best Value",
         "type": "scatter",
         "x": [
          0,
          1,
          2,
          3,
          4,
          5,
          6,
          7,
          8,
          9,
          10,
          11,
          12,
          13,
          14,
          15,
          16,
          17,
          18,
          19,
          20,
          21,
          22,
          23,
          24,
          25,
          26,
          27,
          28,
          29
         ],
         "y": [
          0.9332979533495619,
          0.9522333710410589,
          0.9522333710410589,
          0.9522333710410589,
          0.9522333710410589,
          0.9522333710410589,
          0.9522333710410589,
          0.9528663898000775,
          0.9528663898000775,
          0.9528663898000775,
          0.9528663898000775,
          0.9534476574379921,
          0.9534476574379921,
          0.9534476574379921,
          0.9534476574379921,
          0.9534476574379921,
          0.9537082477080538,
          0.9538791148298248,
          0.9538791148298248,
          0.9538791148298248,
          0.9538791148298248,
          0.9538791148298248,
          0.9538791148298248,
          0.9538821192505089,
          0.9538821192505089,
          0.9538821192505089,
          0.9538821192505089,
          0.9538821192505089,
          0.9538821192505089,
          0.9538821192505089
         ]
        },
        {
         "marker": {
          "color": "#cccccc"
         },
         "mode": "markers",
         "name": "Infeasible Trial",
         "showlegend": false,
         "type": "scatter",
         "x": [],
         "y": []
        }
       ],
       "layout": {
        "template": {
         "data": {
          "bar": [
           {
            "error_x": {
             "color": "#2a3f5f"
            },
            "error_y": {
             "color": "#2a3f5f"
            },
            "marker": {
             "line": {
              "color": "#E5ECF6",
              "width": 0.5
             },
             "pattern": {
              "fillmode": "overlay",
              "size": 10,
              "solidity": 0.2
             }
            },
            "type": "bar"
           }
          ],
          "barpolar": [
           {
            "marker": {
             "line": {
              "color": "#E5ECF6",
              "width": 0.5
             },
             "pattern": {
              "fillmode": "overlay",
              "size": 10,
              "solidity": 0.2
             }
            },
            "type": "barpolar"
           }
          ],
          "carpet": [
           {
            "aaxis": {
             "endlinecolor": "#2a3f5f",
             "gridcolor": "white",
             "linecolor": "white",
             "minorgridcolor": "white",
             "startlinecolor": "#2a3f5f"
            },
            "baxis": {
             "endlinecolor": "#2a3f5f",
             "gridcolor": "white",
             "linecolor": "white",
             "minorgridcolor": "white",
             "startlinecolor": "#2a3f5f"
            },
            "type": "carpet"
           }
          ],
          "choropleth": [
           {
            "colorbar": {
             "outlinewidth": 0,
             "ticks": ""
            },
            "type": "choropleth"
           }
          ],
          "contour": [
           {
            "colorbar": {
             "outlinewidth": 0,
             "ticks": ""
            },
            "colorscale": [
             [
              0,
              "#0d0887"
             ],
             [
              0.1111111111111111,
              "#46039f"
             ],
             [
              0.2222222222222222,
              "#7201a8"
             ],
             [
              0.3333333333333333,
              "#9c179e"
             ],
             [
              0.4444444444444444,
              "#bd3786"
             ],
             [
              0.5555555555555556,
              "#d8576b"
             ],
             [
              0.6666666666666666,
              "#ed7953"
             ],
             [
              0.7777777777777778,
              "#fb9f3a"
             ],
             [
              0.8888888888888888,
              "#fdca26"
             ],
             [
              1,
              "#f0f921"
             ]
            ],
            "type": "contour"
           }
          ],
          "contourcarpet": [
           {
            "colorbar": {
             "outlinewidth": 0,
             "ticks": ""
            },
            "type": "contourcarpet"
           }
          ],
          "heatmap": [
           {
            "colorbar": {
             "outlinewidth": 0,
             "ticks": ""
            },
            "colorscale": [
             [
              0,
              "#0d0887"
             ],
             [
              0.1111111111111111,
              "#46039f"
             ],
             [
              0.2222222222222222,
              "#7201a8"
             ],
             [
              0.3333333333333333,
              "#9c179e"
             ],
             [
              0.4444444444444444,
              "#bd3786"
             ],
             [
              0.5555555555555556,
              "#d8576b"
             ],
             [
              0.6666666666666666,
              "#ed7953"
             ],
             [
              0.7777777777777778,
              "#fb9f3a"
             ],
             [
              0.8888888888888888,
              "#fdca26"
             ],
             [
              1,
              "#f0f921"
             ]
            ],
            "type": "heatmap"
           }
          ],
          "histogram": [
           {
            "marker": {
             "pattern": {
              "fillmode": "overlay",
              "size": 10,
              "solidity": 0.2
             }
            },
            "type": "histogram"
           }
          ],
          "histogram2d": [
           {
            "colorbar": {
             "outlinewidth": 0,
             "ticks": ""
            },
            "colorscale": [
             [
              0,
              "#0d0887"
             ],
             [
              0.1111111111111111,
              "#46039f"
             ],
             [
              0.2222222222222222,
              "#7201a8"
             ],
             [
              0.3333333333333333,
              "#9c179e"
             ],
             [
              0.4444444444444444,
              "#bd3786"
             ],
             [
              0.5555555555555556,
              "#d8576b"
             ],
             [
              0.6666666666666666,
              "#ed7953"
             ],
             [
              0.7777777777777778,
              "#fb9f3a"
             ],
             [
              0.8888888888888888,
              "#fdca26"
             ],
             [
              1,
              "#f0f921"
             ]
            ],
            "type": "histogram2d"
           }
          ],
          "histogram2dcontour": [
           {
            "colorbar": {
             "outlinewidth": 0,
             "ticks": ""
            },
            "colorscale": [
             [
              0,
              "#0d0887"
             ],
             [
              0.1111111111111111,
              "#46039f"
             ],
             [
              0.2222222222222222,
              "#7201a8"
             ],
             [
              0.3333333333333333,
              "#9c179e"
             ],
             [
              0.4444444444444444,
              "#bd3786"
             ],
             [
              0.5555555555555556,
              "#d8576b"
             ],
             [
              0.6666666666666666,
              "#ed7953"
             ],
             [
              0.7777777777777778,
              "#fb9f3a"
             ],
             [
              0.8888888888888888,
              "#fdca26"
             ],
             [
              1,
              "#f0f921"
             ]
            ],
            "type": "histogram2dcontour"
           }
          ],
          "mesh3d": [
           {
            "colorbar": {
             "outlinewidth": 0,
             "ticks": ""
            },
            "type": "mesh3d"
           }
          ],
          "parcoords": [
           {
            "line": {
             "colorbar": {
              "outlinewidth": 0,
              "ticks": ""
             }
            },
            "type": "parcoords"
           }
          ],
          "pie": [
           {
            "automargin": true,
            "type": "pie"
           }
          ],
          "scatter": [
           {
            "fillpattern": {
             "fillmode": "overlay",
             "size": 10,
             "solidity": 0.2
            },
            "type": "scatter"
           }
          ],
          "scatter3d": [
           {
            "line": {
             "colorbar": {
              "outlinewidth": 0,
              "ticks": ""
             }
            },
            "marker": {
             "colorbar": {
              "outlinewidth": 0,
              "ticks": ""
             }
            },
            "type": "scatter3d"
           }
          ],
          "scattercarpet": [
           {
            "marker": {
             "colorbar": {
              "outlinewidth": 0,
              "ticks": ""
             }
            },
            "type": "scattercarpet"
           }
          ],
          "scattergeo": [
           {
            "marker": {
             "colorbar": {
              "outlinewidth": 0,
              "ticks": ""
             }
            },
            "type": "scattergeo"
           }
          ],
          "scattergl": [
           {
            "marker": {
             "colorbar": {
              "outlinewidth": 0,
              "ticks": ""
             }
            },
            "type": "scattergl"
           }
          ],
          "scattermap": [
           {
            "marker": {
             "colorbar": {
              "outlinewidth": 0,
              "ticks": ""
             }
            },
            "type": "scattermap"
           }
          ],
          "scattermapbox": [
           {
            "marker": {
             "colorbar": {
              "outlinewidth": 0,
              "ticks": ""
             }
            },
            "type": "scattermapbox"
           }
          ],
          "scatterpolar": [
           {
            "marker": {
             "colorbar": {
              "outlinewidth": 0,
              "ticks": ""
             }
            },
            "type": "scatterpolar"
           }
          ],
          "scatterpolargl": [
           {
            "marker": {
             "colorbar": {
              "outlinewidth": 0,
              "ticks": ""
             }
            },
            "type": "scatterpolargl"
           }
          ],
          "scatterternary": [
           {
            "marker": {
             "colorbar": {
              "outlinewidth": 0,
              "ticks": ""
             }
            },
            "type": "scatterternary"
           }
          ],
          "surface": [
           {
            "colorbar": {
             "outlinewidth": 0,
             "ticks": ""
            },
            "colorscale": [
             [
              0,
              "#0d0887"
             ],
             [
              0.1111111111111111,
              "#46039f"
             ],
             [
              0.2222222222222222,
              "#7201a8"
             ],
             [
              0.3333333333333333,
              "#9c179e"
             ],
             [
              0.4444444444444444,
              "#bd3786"
             ],
             [
              0.5555555555555556,
              "#d8576b"
             ],
             [
              0.6666666666666666,
              "#ed7953"
             ],
             [
              0.7777777777777778,
              "#fb9f3a"
             ],
             [
              0.8888888888888888,
              "#fdca26"
             ],
             [
              1,
              "#f0f921"
             ]
            ],
            "type": "surface"
           }
          ],
          "table": [
           {
            "cells": {
             "fill": {
              "color": "#EBF0F8"
             },
             "line": {
              "color": "white"
             }
            },
            "header": {
             "fill": {
              "color": "#C8D4E3"
             },
             "line": {
              "color": "white"
             }
            },
            "type": "table"
           }
          ]
         },
         "layout": {
          "annotationdefaults": {
           "arrowcolor": "#2a3f5f",
           "arrowhead": 0,
           "arrowwidth": 1
          },
          "autotypenumbers": "strict",
          "coloraxis": {
           "colorbar": {
            "outlinewidth": 0,
            "ticks": ""
           }
          },
          "colorscale": {
           "diverging": [
            [
             0,
             "#8e0152"
            ],
            [
             0.1,
             "#c51b7d"
            ],
            [
             0.2,
             "#de77ae"
            ],
            [
             0.3,
             "#f1b6da"
            ],
            [
             0.4,
             "#fde0ef"
            ],
            [
             0.5,
             "#f7f7f7"
            ],
            [
             0.6,
             "#e6f5d0"
            ],
            [
             0.7,
             "#b8e186"
            ],
            [
             0.8,
             "#7fbc41"
            ],
            [
             0.9,
             "#4d9221"
            ],
            [
             1,
             "#276419"
            ]
           ],
           "sequential": [
            [
             0,
             "#0d0887"
            ],
            [
             0.1111111111111111,
             "#46039f"
            ],
            [
             0.2222222222222222,
             "#7201a8"
            ],
            [
             0.3333333333333333,
             "#9c179e"
            ],
            [
             0.4444444444444444,
             "#bd3786"
            ],
            [
             0.5555555555555556,
             "#d8576b"
            ],
            [
             0.6666666666666666,
             "#ed7953"
            ],
            [
             0.7777777777777778,
             "#fb9f3a"
            ],
            [
             0.8888888888888888,
             "#fdca26"
            ],
            [
             1,
             "#f0f921"
            ]
           ],
           "sequentialminus": [
            [
             0,
             "#0d0887"
            ],
            [
             0.1111111111111111,
             "#46039f"
            ],
            [
             0.2222222222222222,
             "#7201a8"
            ],
            [
             0.3333333333333333,
             "#9c179e"
            ],
            [
             0.4444444444444444,
             "#bd3786"
            ],
            [
             0.5555555555555556,
             "#d8576b"
            ],
            [
             0.6666666666666666,
             "#ed7953"
            ],
            [
             0.7777777777777778,
             "#fb9f3a"
            ],
            [
             0.8888888888888888,
             "#fdca26"
            ],
            [
             1,
             "#f0f921"
            ]
           ]
          },
          "colorway": [
           "#636efa",
           "#EF553B",
           "#00cc96",
           "#ab63fa",
           "#FFA15A",
           "#19d3f3",
           "#FF6692",
           "#B6E880",
           "#FF97FF",
           "#FECB52"
          ],
          "font": {
           "color": "#2a3f5f"
          },
          "geo": {
           "bgcolor": "white",
           "lakecolor": "white",
           "landcolor": "#E5ECF6",
           "showlakes": true,
           "showland": true,
           "subunitcolor": "white"
          },
          "hoverlabel": {
           "align": "left"
          },
          "hovermode": "closest",
          "mapbox": {
           "style": "light"
          },
          "paper_bgcolor": "white",
          "plot_bgcolor": "#E5ECF6",
          "polar": {
           "angularaxis": {
            "gridcolor": "white",
            "linecolor": "white",
            "ticks": ""
           },
           "bgcolor": "#E5ECF6",
           "radialaxis": {
            "gridcolor": "white",
            "linecolor": "white",
            "ticks": ""
           }
          },
          "scene": {
           "xaxis": {
            "backgroundcolor": "#E5ECF6",
            "gridcolor": "white",
            "gridwidth": 2,
            "linecolor": "white",
            "showbackground": true,
            "ticks": "",
            "zerolinecolor": "white"
           },
           "yaxis": {
            "backgroundcolor": "#E5ECF6",
            "gridcolor": "white",
            "gridwidth": 2,
            "linecolor": "white",
            "showbackground": true,
            "ticks": "",
            "zerolinecolor": "white"
           },
           "zaxis": {
            "backgroundcolor": "#E5ECF6",
            "gridcolor": "white",
            "gridwidth": 2,
            "linecolor": "white",
            "showbackground": true,
            "ticks": "",
            "zerolinecolor": "white"
           }
          },
          "shapedefaults": {
           "line": {
            "color": "#2a3f5f"
           }
          },
          "ternary": {
           "aaxis": {
            "gridcolor": "white",
            "linecolor": "white",
            "ticks": ""
           },
           "baxis": {
            "gridcolor": "white",
            "linecolor": "white",
            "ticks": ""
           },
           "bgcolor": "#E5ECF6",
           "caxis": {
            "gridcolor": "white",
            "linecolor": "white",
            "ticks": ""
           }
          },
          "title": {
           "x": 0.05
          },
          "xaxis": {
           "automargin": true,
           "gridcolor": "white",
           "linecolor": "white",
           "ticks": "",
           "title": {
            "standoff": 15
           },
           "zerolinecolor": "white",
           "zerolinewidth": 2
          },
          "yaxis": {
           "automargin": true,
           "gridcolor": "white",
           "linecolor": "white",
           "ticks": "",
           "title": {
            "standoff": 15
           },
           "zerolinecolor": "white",
           "zerolinewidth": 2
          }
         }
        },
        "title": {
         "text": "Optimization History Plot"
        },
        "xaxis": {
         "title": {
          "text": "Trial"
         }
        },
        "yaxis": {
         "title": {
          "text": "Objective Value"
         }
        }
       }
      }
     },
     "metadata": {},
     "output_type": "display_data"
    },
    {
     "data": {
      "application/vnd.plotly.v1+json": {
       "config": {
        "plotlyServerURL": "https://plot.ly"
       },
       "data": [
        {
         "cliponaxis": false,
         "hovertemplate": [
          "max_features (CategoricalDistribution): 0.0014465530911529122<extra></extra>",
          "n_estimators (IntDistribution): 0.006004511902700863<extra></extra>",
          "min_samples_split (IntDistribution): 0.008784440131464288<extra></extra>",
          "min_samples_leaf (IntDistribution): 0.01733620563656499<extra></extra>",
          "max_depth (IntDistribution): 0.9664282892381171<extra></extra>"
         ],
         "name": "Objective Value",
         "orientation": "h",
         "text": [
          "<0.01",
          "<0.01",
          "<0.01",
          "0.02",
          "0.97"
         ],
         "textposition": "outside",
         "type": "bar",
         "x": [
          0.0014465530911529122,
          0.006004511902700863,
          0.008784440131464288,
          0.01733620563656499,
          0.9664282892381171
         ],
         "y": [
          "max_features",
          "n_estimators",
          "min_samples_split",
          "min_samples_leaf",
          "max_depth"
         ]
        }
       ],
       "layout": {
        "template": {
         "data": {
          "bar": [
           {
            "error_x": {
             "color": "#2a3f5f"
            },
            "error_y": {
             "color": "#2a3f5f"
            },
            "marker": {
             "line": {
              "color": "#E5ECF6",
              "width": 0.5
             },
             "pattern": {
              "fillmode": "overlay",
              "size": 10,
              "solidity": 0.2
             }
            },
            "type": "bar"
           }
          ],
          "barpolar": [
           {
            "marker": {
             "line": {
              "color": "#E5ECF6",
              "width": 0.5
             },
             "pattern": {
              "fillmode": "overlay",
              "size": 10,
              "solidity": 0.2
             }
            },
            "type": "barpolar"
           }
          ],
          "carpet": [
           {
            "aaxis": {
             "endlinecolor": "#2a3f5f",
             "gridcolor": "white",
             "linecolor": "white",
             "minorgridcolor": "white",
             "startlinecolor": "#2a3f5f"
            },
            "baxis": {
             "endlinecolor": "#2a3f5f",
             "gridcolor": "white",
             "linecolor": "white",
             "minorgridcolor": "white",
             "startlinecolor": "#2a3f5f"
            },
            "type": "carpet"
           }
          ],
          "choropleth": [
           {
            "colorbar": {
             "outlinewidth": 0,
             "ticks": ""
            },
            "type": "choropleth"
           }
          ],
          "contour": [
           {
            "colorbar": {
             "outlinewidth": 0,
             "ticks": ""
            },
            "colorscale": [
             [
              0,
              "#0d0887"
             ],
             [
              0.1111111111111111,
              "#46039f"
             ],
             [
              0.2222222222222222,
              "#7201a8"
             ],
             [
              0.3333333333333333,
              "#9c179e"
             ],
             [
              0.4444444444444444,
              "#bd3786"
             ],
             [
              0.5555555555555556,
              "#d8576b"
             ],
             [
              0.6666666666666666,
              "#ed7953"
             ],
             [
              0.7777777777777778,
              "#fb9f3a"
             ],
             [
              0.8888888888888888,
              "#fdca26"
             ],
             [
              1,
              "#f0f921"
             ]
            ],
            "type": "contour"
           }
          ],
          "contourcarpet": [
           {
            "colorbar": {
             "outlinewidth": 0,
             "ticks": ""
            },
            "type": "contourcarpet"
           }
          ],
          "heatmap": [
           {
            "colorbar": {
             "outlinewidth": 0,
             "ticks": ""
            },
            "colorscale": [
             [
              0,
              "#0d0887"
             ],
             [
              0.1111111111111111,
              "#46039f"
             ],
             [
              0.2222222222222222,
              "#7201a8"
             ],
             [
              0.3333333333333333,
              "#9c179e"
             ],
             [
              0.4444444444444444,
              "#bd3786"
             ],
             [
              0.5555555555555556,
              "#d8576b"
             ],
             [
              0.6666666666666666,
              "#ed7953"
             ],
             [
              0.7777777777777778,
              "#fb9f3a"
             ],
             [
              0.8888888888888888,
              "#fdca26"
             ],
             [
              1,
              "#f0f921"
             ]
            ],
            "type": "heatmap"
           }
          ],
          "histogram": [
           {
            "marker": {
             "pattern": {
              "fillmode": "overlay",
              "size": 10,
              "solidity": 0.2
             }
            },
            "type": "histogram"
           }
          ],
          "histogram2d": [
           {
            "colorbar": {
             "outlinewidth": 0,
             "ticks": ""
            },
            "colorscale": [
             [
              0,
              "#0d0887"
             ],
             [
              0.1111111111111111,
              "#46039f"
             ],
             [
              0.2222222222222222,
              "#7201a8"
             ],
             [
              0.3333333333333333,
              "#9c179e"
             ],
             [
              0.4444444444444444,
              "#bd3786"
             ],
             [
              0.5555555555555556,
              "#d8576b"
             ],
             [
              0.6666666666666666,
              "#ed7953"
             ],
             [
              0.7777777777777778,
              "#fb9f3a"
             ],
             [
              0.8888888888888888,
              "#fdca26"
             ],
             [
              1,
              "#f0f921"
             ]
            ],
            "type": "histogram2d"
           }
          ],
          "histogram2dcontour": [
           {
            "colorbar": {
             "outlinewidth": 0,
             "ticks": ""
            },
            "colorscale": [
             [
              0,
              "#0d0887"
             ],
             [
              0.1111111111111111,
              "#46039f"
             ],
             [
              0.2222222222222222,
              "#7201a8"
             ],
             [
              0.3333333333333333,
              "#9c179e"
             ],
             [
              0.4444444444444444,
              "#bd3786"
             ],
             [
              0.5555555555555556,
              "#d8576b"
             ],
             [
              0.6666666666666666,
              "#ed7953"
             ],
             [
              0.7777777777777778,
              "#fb9f3a"
             ],
             [
              0.8888888888888888,
              "#fdca26"
             ],
             [
              1,
              "#f0f921"
             ]
            ],
            "type": "histogram2dcontour"
           }
          ],
          "mesh3d": [
           {
            "colorbar": {
             "outlinewidth": 0,
             "ticks": ""
            },
            "type": "mesh3d"
           }
          ],
          "parcoords": [
           {
            "line": {
             "colorbar": {
              "outlinewidth": 0,
              "ticks": ""
             }
            },
            "type": "parcoords"
           }
          ],
          "pie": [
           {
            "automargin": true,
            "type": "pie"
           }
          ],
          "scatter": [
           {
            "fillpattern": {
             "fillmode": "overlay",
             "size": 10,
             "solidity": 0.2
            },
            "type": "scatter"
           }
          ],
          "scatter3d": [
           {
            "line": {
             "colorbar": {
              "outlinewidth": 0,
              "ticks": ""
             }
            },
            "marker": {
             "colorbar": {
              "outlinewidth": 0,
              "ticks": ""
             }
            },
            "type": "scatter3d"
           }
          ],
          "scattercarpet": [
           {
            "marker": {
             "colorbar": {
              "outlinewidth": 0,
              "ticks": ""
             }
            },
            "type": "scattercarpet"
           }
          ],
          "scattergeo": [
           {
            "marker": {
             "colorbar": {
              "outlinewidth": 0,
              "ticks": ""
             }
            },
            "type": "scattergeo"
           }
          ],
          "scattergl": [
           {
            "marker": {
             "colorbar": {
              "outlinewidth": 0,
              "ticks": ""
             }
            },
            "type": "scattergl"
           }
          ],
          "scattermap": [
           {
            "marker": {
             "colorbar": {
              "outlinewidth": 0,
              "ticks": ""
             }
            },
            "type": "scattermap"
           }
          ],
          "scattermapbox": [
           {
            "marker": {
             "colorbar": {
              "outlinewidth": 0,
              "ticks": ""
             }
            },
            "type": "scattermapbox"
           }
          ],
          "scatterpolar": [
           {
            "marker": {
             "colorbar": {
              "outlinewidth": 0,
              "ticks": ""
             }
            },
            "type": "scatterpolar"
           }
          ],
          "scatterpolargl": [
           {
            "marker": {
             "colorbar": {
              "outlinewidth": 0,
              "ticks": ""
             }
            },
            "type": "scatterpolargl"
           }
          ],
          "scatterternary": [
           {
            "marker": {
             "colorbar": {
              "outlinewidth": 0,
              "ticks": ""
             }
            },
            "type": "scatterternary"
           }
          ],
          "surface": [
           {
            "colorbar": {
             "outlinewidth": 0,
             "ticks": ""
            },
            "colorscale": [
             [
              0,
              "#0d0887"
             ],
             [
              0.1111111111111111,
              "#46039f"
             ],
             [
              0.2222222222222222,
              "#7201a8"
             ],
             [
              0.3333333333333333,
              "#9c179e"
             ],
             [
              0.4444444444444444,
              "#bd3786"
             ],
             [
              0.5555555555555556,
              "#d8576b"
             ],
             [
              0.6666666666666666,
              "#ed7953"
             ],
             [
              0.7777777777777778,
              "#fb9f3a"
             ],
             [
              0.8888888888888888,
              "#fdca26"
             ],
             [
              1,
              "#f0f921"
             ]
            ],
            "type": "surface"
           }
          ],
          "table": [
           {
            "cells": {
             "fill": {
              "color": "#EBF0F8"
             },
             "line": {
              "color": "white"
             }
            },
            "header": {
             "fill": {
              "color": "#C8D4E3"
             },
             "line": {
              "color": "white"
             }
            },
            "type": "table"
           }
          ]
         },
         "layout": {
          "annotationdefaults": {
           "arrowcolor": "#2a3f5f",
           "arrowhead": 0,
           "arrowwidth": 1
          },
          "autotypenumbers": "strict",
          "coloraxis": {
           "colorbar": {
            "outlinewidth": 0,
            "ticks": ""
           }
          },
          "colorscale": {
           "diverging": [
            [
             0,
             "#8e0152"
            ],
            [
             0.1,
             "#c51b7d"
            ],
            [
             0.2,
             "#de77ae"
            ],
            [
             0.3,
             "#f1b6da"
            ],
            [
             0.4,
             "#fde0ef"
            ],
            [
             0.5,
             "#f7f7f7"
            ],
            [
             0.6,
             "#e6f5d0"
            ],
            [
             0.7,
             "#b8e186"
            ],
            [
             0.8,
             "#7fbc41"
            ],
            [
             0.9,
             "#4d9221"
            ],
            [
             1,
             "#276419"
            ]
           ],
           "sequential": [
            [
             0,
             "#0d0887"
            ],
            [
             0.1111111111111111,
             "#46039f"
            ],
            [
             0.2222222222222222,
             "#7201a8"
            ],
            [
             0.3333333333333333,
             "#9c179e"
            ],
            [
             0.4444444444444444,
             "#bd3786"
            ],
            [
             0.5555555555555556,
             "#d8576b"
            ],
            [
             0.6666666666666666,
             "#ed7953"
            ],
            [
             0.7777777777777778,
             "#fb9f3a"
            ],
            [
             0.8888888888888888,
             "#fdca26"
            ],
            [
             1,
             "#f0f921"
            ]
           ],
           "sequentialminus": [
            [
             0,
             "#0d0887"
            ],
            [
             0.1111111111111111,
             "#46039f"
            ],
            [
             0.2222222222222222,
             "#7201a8"
            ],
            [
             0.3333333333333333,
             "#9c179e"
            ],
            [
             0.4444444444444444,
             "#bd3786"
            ],
            [
             0.5555555555555556,
             "#d8576b"
            ],
            [
             0.6666666666666666,
             "#ed7953"
            ],
            [
             0.7777777777777778,
             "#fb9f3a"
            ],
            [
             0.8888888888888888,
             "#fdca26"
            ],
            [
             1,
             "#f0f921"
            ]
           ]
          },
          "colorway": [
           "#636efa",
           "#EF553B",
           "#00cc96",
           "#ab63fa",
           "#FFA15A",
           "#19d3f3",
           "#FF6692",
           "#B6E880",
           "#FF97FF",
           "#FECB52"
          ],
          "font": {
           "color": "#2a3f5f"
          },
          "geo": {
           "bgcolor": "white",
           "lakecolor": "white",
           "landcolor": "#E5ECF6",
           "showlakes": true,
           "showland": true,
           "subunitcolor": "white"
          },
          "hoverlabel": {
           "align": "left"
          },
          "hovermode": "closest",
          "mapbox": {
           "style": "light"
          },
          "paper_bgcolor": "white",
          "plot_bgcolor": "#E5ECF6",
          "polar": {
           "angularaxis": {
            "gridcolor": "white",
            "linecolor": "white",
            "ticks": ""
           },
           "bgcolor": "#E5ECF6",
           "radialaxis": {
            "gridcolor": "white",
            "linecolor": "white",
            "ticks": ""
           }
          },
          "scene": {
           "xaxis": {
            "backgroundcolor": "#E5ECF6",
            "gridcolor": "white",
            "gridwidth": 2,
            "linecolor": "white",
            "showbackground": true,
            "ticks": "",
            "zerolinecolor": "white"
           },
           "yaxis": {
            "backgroundcolor": "#E5ECF6",
            "gridcolor": "white",
            "gridwidth": 2,
            "linecolor": "white",
            "showbackground": true,
            "ticks": "",
            "zerolinecolor": "white"
           },
           "zaxis": {
            "backgroundcolor": "#E5ECF6",
            "gridcolor": "white",
            "gridwidth": 2,
            "linecolor": "white",
            "showbackground": true,
            "ticks": "",
            "zerolinecolor": "white"
           }
          },
          "shapedefaults": {
           "line": {
            "color": "#2a3f5f"
           }
          },
          "ternary": {
           "aaxis": {
            "gridcolor": "white",
            "linecolor": "white",
            "ticks": ""
           },
           "baxis": {
            "gridcolor": "white",
            "linecolor": "white",
            "ticks": ""
           },
           "bgcolor": "#E5ECF6",
           "caxis": {
            "gridcolor": "white",
            "linecolor": "white",
            "ticks": ""
           }
          },
          "title": {
           "x": 0.05
          },
          "xaxis": {
           "automargin": true,
           "gridcolor": "white",
           "linecolor": "white",
           "ticks": "",
           "title": {
            "standoff": 15
           },
           "zerolinecolor": "white",
           "zerolinewidth": 2
          },
          "yaxis": {
           "automargin": true,
           "gridcolor": "white",
           "linecolor": "white",
           "ticks": "",
           "title": {
            "standoff": 15
           },
           "zerolinecolor": "white",
           "zerolinewidth": 2
          }
         }
        },
        "title": {
         "text": "Hyperparameter Importances"
        },
        "xaxis": {
         "title": {
          "text": "Hyperparameter Importance"
         }
        },
        "yaxis": {
         "title": {
          "text": "Hyperparameter"
         }
        }
       }
      }
     },
     "metadata": {},
     "output_type": "display_data"
    },
    {
     "data": {
      "text/markdown": [
       "\n",
       "**💬 Interpretación visual:**\n",
       "- El gráfico de *Optimization History* muestra la evolución del F1-score a lo largo de los ensayos.  \n",
       "  Se observa cómo Optuna converge progresivamente hacia una mejor combinación de parámetros.  \n",
       "- El gráfico de *Parameter Importance* indica qué hiperparámetros tienen mayor impacto  \n",
       "  en el rendimiento del modelo (valores de F1 más altos).  \n"
      ],
      "text/plain": [
       "<IPython.core.display.Markdown object>"
      ]
     },
     "metadata": {},
     "output_type": "display_data"
    }
   ],
   "source": [
    "# ===================================\n",
    "# 5. Optimización de hiperparámetros con Optuna\n",
    "# ===================================\n",
    "\n",
    "import optuna\n",
    "from sklearn.model_selection import cross_val_score\n",
    "import time\n",
    "import optuna.visualization as opt_viz\n",
    "from IPython.display import Markdown, display\n",
    "\n",
    "# --- Función objetivo ---\n",
    "def objective(trial):\n",
    "    params = {\n",
    "        \"n_estimators\": trial.suggest_int(\"n_estimators\", 100, 500),\n",
    "        \"max_depth\": trial.suggest_int(\"max_depth\", 5, 30),\n",
    "        \"min_samples_split\": trial.suggest_int(\"min_samples_split\", 2, 10),\n",
    "        \"min_samples_leaf\": trial.suggest_int(\"min_samples_leaf\", 1, 4),\n",
    "        \"max_features\": trial.suggest_categorical(\"max_features\", [\"sqrt\", \"log2\"]),\n",
    "        \"class_weight\": \"balanced\",\n",
    "        \"random_state\": 42,\n",
    "        \"n_jobs\": -1\n",
    "    }\n",
    "    model = RandomForestClassifier(**params)\n",
    "    scores = cross_val_score(model, X_train, y_train, cv=5, scoring=\"f1\")\n",
    "    return scores.mean()\n",
    "\n",
    "# --- Ejecución del estudio Optuna ---\n",
    "display(Markdown(\"⏳ **Ejecutando optimización con Optuna (30 ensayos)...**\"))\n",
    "\n",
    "start_time = time.time()\n",
    "study = optuna.create_study(direction=\"maximize\", study_name=\"RandomForest_Optuna\")\n",
    "study.optimize(objective, n_trials=30, show_progress_bar=True)\n",
    "optuna_time = time.time() - start_time\n",
    "\n",
    "display(Markdown(f\"\"\"\n",
    "✅ **Optimización completada correctamente.**\n",
    "- ⏱️ **Tiempo total de búsqueda:** {optuna_time:.2f} segundos  \n",
    "- **Mejores hiperparámetros:** `{study.best_params}`  \n",
    "- **F1-score medio (CV):** `{study.best_value:.3f}`\n",
    "\"\"\"))\n",
    "\n",
    "# --- Entrenar el modelo óptimo ---\n",
    "optuna_best_model = RandomForestClassifier(**study.best_params)\n",
    "optuna_best_model.fit(X_train, y_train)\n",
    "\n",
    "# ===================================\n",
    "# Entrenamiento del modelo final con los mejores parámetros (Optuna)\n",
    "# ===================================\n",
    "\n",
    "best_params = study.best_params\n",
    "optuna_model = RandomForestClassifier(\n",
    "    **best_params,\n",
    "    class_weight=\"balanced\",\n",
    "    random_state=42,\n",
    "    n_jobs=-1\n",
    ")\n",
    "\n",
    "optuna_model.fit(X_train, y_train)\n",
    "\n",
    "# --- Evaluación final ---\n",
    "y_pred_optuna = optuna_model.predict(X_test)\n",
    "y_proba_optuna = optuna_model.predict_proba(X_test)[:, 1]\n",
    "\n",
    "metrics_optuna = {\n",
    "    \"Accuracy\": accuracy_score(y_test, y_pred_optuna),\n",
    "    \"Precision\": precision_score(y_test, y_pred_optuna),\n",
    "    \"Recall\": recall_score(y_test, y_pred_optuna),\n",
    "    \"F1-score\": f1_score(y_test, y_pred_optuna),\n",
    "    \"ROC-AUC\": roc_auc_score(y_test, y_proba_optuna)\n",
    "}\n",
    "\n",
    "display(Markdown(\"\"\"\n",
    "✅ **Entrenamiento completado del modelo Optuna (Random Forest)**  \n",
    "El modelo se ha ajustado con los mejores hiperparámetros obtenidos por el estudio y está listo para guardarse.\n",
    "\"\"\"))\n",
    "print(json.dumps(metrics_optuna, indent=4))\n",
    "\n",
    "# =====================================================\n",
    "# 📊 VISUALIZACIONES DEL PROCESO DE OPTIMIZACIÓN\n",
    "# =====================================================\n",
    "display(Markdown(\"### 📊 Visualización del proceso de optimización\"))\n",
    "\n",
    "fig1 = opt_viz.plot_optimization_history(study)\n",
    "fig2 = opt_viz.plot_param_importances(study)\n",
    "fig1.show()\n",
    "fig2.show()\n",
    "\n",
    "display(Markdown(\"\"\"\n",
    "**💬 Interpretación visual:**\n",
    "- El gráfico de *Optimization History* muestra la evolución del F1-score a lo largo de los ensayos.  \n",
    "  Se observa cómo Optuna converge progresivamente hacia una mejor combinación de parámetros.  \n",
    "- El gráfico de *Parameter Importance* indica qué hiperparámetros tienen mayor impacto  \n",
    "  en el rendimiento del modelo (valores de F1 más altos).  \n",
    "\"\"\"))\n"
   ]
  },
  {
   "cell_type": "markdown",
   "id": "77355f41",
   "metadata": {},
   "source": [
    "## **Paso 6: Comparativa global de modelos (GridSearchCV, RandomizedSearchCV, Optuna)**\n",
    "\n",
    "En este paso se realiza una **comparativa global de rendimiento** entre las tres configuraciones del modelo:\n",
    "\n",
    "1. **GridSearchCV **  \n",
    "2. **RandomizedSearchCV**  \n",
    "3. **Optuna (optimización bayesiana)**  \n",
    "\n",
    "Se evalúan los modelos en el conjunto de **test** y se comparan las métricas clave:  \n",
    "- **Accuracy**, **Precision**, **Recall**, **F1-score** y **ROC-AUC**.  \n",
    "\n",
    "Posteriormente se muestran las **matrices de confusión**, **curvas ROC** y un **gráfico radar**  \n",
    "para visualizar el equilibrio global entre métricas de cada modelo.\n"
   ]
  },
  {
   "cell_type": "code",
   "execution_count": 48,
   "id": "feba0f6d",
   "metadata": {},
   "outputs": [
    {
     "data": {
      "text/markdown": [
       "### 📊 **Métricas comparativas (test set)**"
      ],
      "text/plain": [
       "<IPython.core.display.Markdown object>"
      ]
     },
     "metadata": {},
     "output_type": "display_data"
    },
    {
     "data": {
      "text/html": [
       "<style type=\"text/css\">\n",
       "</style>\n",
       "<table id=\"T_56202\">\n",
       "  <thead>\n",
       "    <tr>\n",
       "      <th class=\"blank level0\" >&nbsp;</th>\n",
       "      <th id=\"T_56202_level0_col0\" class=\"col_heading level0 col0\" >Accuracy</th>\n",
       "      <th id=\"T_56202_level0_col1\" class=\"col_heading level0 col1\" >Precision</th>\n",
       "      <th id=\"T_56202_level0_col2\" class=\"col_heading level0 col2\" >Recall</th>\n",
       "      <th id=\"T_56202_level0_col3\" class=\"col_heading level0 col3\" >F1-score</th>\n",
       "      <th id=\"T_56202_level0_col4\" class=\"col_heading level0 col4\" >ROC-AUC</th>\n",
       "    </tr>\n",
       "    <tr>\n",
       "      <th class=\"index_name level0\" >Modelo</th>\n",
       "      <th class=\"blank col0\" >&nbsp;</th>\n",
       "      <th class=\"blank col1\" >&nbsp;</th>\n",
       "      <th class=\"blank col2\" >&nbsp;</th>\n",
       "      <th class=\"blank col3\" >&nbsp;</th>\n",
       "      <th class=\"blank col4\" >&nbsp;</th>\n",
       "    </tr>\n",
       "  </thead>\n",
       "  <tbody>\n",
       "    <tr>\n",
       "      <th id=\"T_56202_level0_row0\" class=\"row_heading level0 row0\" >GridSearchCV (ligera)</th>\n",
       "      <td id=\"T_56202_row0_col0\" class=\"data row0 col0\" >0.961</td>\n",
       "      <td id=\"T_56202_row0_col1\" class=\"data row0 col1\" >0.962</td>\n",
       "      <td id=\"T_56202_row0_col2\" class=\"data row0 col2\" >0.946</td>\n",
       "      <td id=\"T_56202_row0_col3\" class=\"data row0 col3\" >0.954</td>\n",
       "      <td id=\"T_56202_row0_col4\" class=\"data row0 col4\" >0.959</td>\n",
       "    </tr>\n",
       "    <tr>\n",
       "      <th id=\"T_56202_level0_row1\" class=\"row_heading level0 row1\" >RandomizedSearchCV</th>\n",
       "      <td id=\"T_56202_row1_col0\" class=\"data row1 col0\" >0.961</td>\n",
       "      <td id=\"T_56202_row1_col1\" class=\"data row1 col1\" >0.968</td>\n",
       "      <td id=\"T_56202_row1_col2\" class=\"data row1 col2\" >0.942</td>\n",
       "      <td id=\"T_56202_row1_col3\" class=\"data row1 col3\" >0.955</td>\n",
       "      <td id=\"T_56202_row1_col4\" class=\"data row1 col4\" >0.959</td>\n",
       "    </tr>\n",
       "    <tr>\n",
       "      <th id=\"T_56202_level0_row2\" class=\"row_heading level0 row2\" >Optuna</th>\n",
       "      <td id=\"T_56202_row2_col0\" class=\"data row2 col0\" >0.962</td>\n",
       "      <td id=\"T_56202_row2_col1\" class=\"data row2 col1\" >0.967</td>\n",
       "      <td id=\"T_56202_row2_col2\" class=\"data row2 col2\" >0.944</td>\n",
       "      <td id=\"T_56202_row2_col3\" class=\"data row2 col3\" >0.955</td>\n",
       "      <td id=\"T_56202_row2_col4\" class=\"data row2 col4\" >0.960</td>\n",
       "    </tr>\n",
       "  </tbody>\n",
       "</table>\n"
      ],
      "text/plain": [
       "<pandas.io.formats.style.Styler at 0x1b3a2696210>"
      ]
     },
     "metadata": {},
     "output_type": "display_data"
    },
    {
     "data": {
      "text/markdown": [
       "🏆 **El mejor modelo es `Optuna` con un F1-score de 0.955**"
      ],
      "text/plain": [
       "<IPython.core.display.Markdown object>"
      ]
     },
     "metadata": {},
     "output_type": "display_data"
    },
    {
     "data": {
      "image/png": "[encoded data removed]",
      "text/plain": [
       "<Figure size 1500x400 with 3 Axes>"
      ]
     },
     "metadata": {},
     "output_type": "display_data"
    },
    {
     "data": {
      "text/markdown": [
       "\n",
       "**💬 Interpretación de las matrices de confusión:**\n",
       "- Los valores en la diagonal representan predicciones correctas.  \n",
       "- Cuanto mayor sea la concentración en la diagonal, mejor rendimiento del modelo.  \n",
       "- En este caso, el modelo optimizado con *Optuna* muestra una ligera mejora en la clasificación de ambas clases.\n"
      ],
      "text/plain": [
       "<IPython.core.display.Markdown object>"
      ]
     },
     "metadata": {},
     "output_type": "display_data"
    },
    {
     "data": {
      "text/markdown": [
       "### 📈 **Curvas ROC comparativas — Random Forest**"
      ],
      "text/plain": [
       "<IPython.core.display.Markdown object>"
      ]
     },
     "metadata": {},
     "output_type": "display_data"
    },
    {
     "data": {
      "image/png": "[encoded data removed]",
      "text/plain": [
       "<Figure size 1500x400 with 3 Axes>"
      ]
     },
     "metadata": {},
     "output_type": "display_data"
    },
    {
     "data": {
      "text/markdown": [
       "\n",
       "**💬 Interpretación visual:**\n",
       "\n",
       "- Cada gráfico muestra la curva ROC individual para un método de optimización.  \n",
       "- El área coloreada bajo la curva (AUC) indica la capacidad de discriminación del modelo.  \n",
       "- Cuanto más se acerque la curva al vértice superior izquierdo, mejor desempeño.  \n",
       "- El modelo optimizado con *Optuna* muestra la mayor área bajo la curva, confirmando su mejor rendimiento.\n"
      ],
      "text/plain": [
       "<IPython.core.display.Markdown object>"
      ]
     },
     "metadata": {},
     "output_type": "display_data"
    },
    {
     "data": {
      "text/markdown": [
       "### 🕸️ **Comparativa global de métricas (Radar Chart)**"
      ],
      "text/plain": [
       "<IPython.core.display.Markdown object>"
      ]
     },
     "metadata": {},
     "output_type": "display_data"
    },
    {
     "data": {
      "image/png": "[encoded data removed]",
      "text/plain": [
       "<Figure size 650x650 with 1 Axes>"
      ]
     },
     "metadata": {},
     "output_type": "display_data"
    },
    {
     "data": {
      "text/markdown": [
       "\n",
       "**💬 Conclusión visual:**\n",
       "El modelo **Optuna** logra el mejor equilibrio global entre las métricas evaluadas,  \n",
       "destacando especialmente en **F1-score** y **ROC-AUC**.  \n",
       "Esto confirma que la optimización con *Optuna* ofrece la mejor combinación  \n",
       "entre precisión, sensibilidad y capacidad discriminativa.\n"
      ],
      "text/plain": [
       "<IPython.core.display.Markdown object>"
      ]
     },
     "metadata": {},
     "output_type": "display_data"
    }
   ],
   "source": [
    "# ===================================\n",
    "# 6. Comparativa global entre modelos\n",
    "# ===================================\n",
    "\n",
    "from sklearn.metrics import (\n",
    "    accuracy_score, precision_score, recall_score, f1_score, roc_auc_score,\n",
    "    confusion_matrix, RocCurveDisplay, roc_curve\n",
    ")\n",
    "from math import pi\n",
    "\n",
    "# --- Predicciones de cada modelo ---\n",
    "y_pred_grid = grid_search_light.best_estimator_.predict(X_test)\n",
    "y_pred_random = random_search.best_estimator_.predict(X_test)\n",
    "y_pred_optuna = optuna_best_model.predict(X_test)\n",
    "\n",
    "# --- Función auxiliar para calcular métricas ---\n",
    "def get_metrics(y_true, y_pred, model_name):\n",
    "    return {\n",
    "        \"Modelo\": model_name,\n",
    "        \"Accuracy\": accuracy_score(y_true, y_pred),\n",
    "        \"Precision\": precision_score(y_true, y_pred),\n",
    "        \"Recall\": recall_score(y_true, y_pred),\n",
    "        \"F1-score\": f1_score(y_true, y_pred),\n",
    "        \"ROC-AUC\": roc_auc_score(y_true, y_pred)\n",
    "    }\n",
    "\n",
    "# --- Cálculo de métricas ---\n",
    "metrics_grid = get_metrics(y_test, y_pred_grid, \"GridSearchCV (ligera)\")\n",
    "metrics_random = get_metrics(y_test, y_pred_random, \"RandomizedSearchCV\")\n",
    "metrics_optuna = get_metrics(y_test, y_pred_optuna, \"Optuna\")\n",
    "\n",
    "# --- Consolidación en DataFrame ---\n",
    "comparison_df = pd.DataFrame([metrics_grid, metrics_random, metrics_optuna]).set_index(\"Modelo\")\n",
    "display(Markdown(\"### 📊 **Métricas comparativas (test set)**\"))\n",
    "display(comparison_df.style.format(\"{:.3f}\"))\n",
    "\n",
    "# --- Determinar el mejor modelo ---\n",
    "best_model_name = comparison_df[\"F1-score\"].idxmax()\n",
    "best_f1 = comparison_df.loc[best_model_name, \"F1-score\"]\n",
    "\n",
    "display(Markdown(f\"🏆 **El mejor modelo es `{best_model_name}` con un F1-score de {best_f1:.3f}**\"))\n",
    "\n",
    "# =====================================================\n",
    "# 📉 MATRICES DE CONFUSIÓN\n",
    "# =====================================================\n",
    "fig, axes = plt.subplots(1, 3, figsize=(15, 4))\n",
    "\n",
    "for ax, (name, y_pred) in zip(\n",
    "    axes,\n",
    "    {\n",
    "        \"GridSearchCV (ligera)\": y_pred_grid,\n",
    "        \"RandomizedSearchCV\": y_pred_random,\n",
    "        \"Optuna\": y_pred_optuna\n",
    "    }.items()\n",
    "):\n",
    "    cm = confusion_matrix(y_test, y_pred)\n",
    "    sns.heatmap(cm, annot=True, fmt=\"d\", cmap=\"coolwarm\", ax=ax, cbar=False, square=True)\n",
    "    ax.set_title(f\"{name}\", fontsize=11, color=\"#0D47A1\")\n",
    "    ax.set_xlabel(\"Predicción\")\n",
    "    ax.set_ylabel(\"Real\")\n",
    "\n",
    "plt.tight_layout()\n",
    "plt.show()\n",
    "\n",
    "display(Markdown(\"\"\"\n",
    "**💬 Interpretación de las matrices de confusión:**\n",
    "- Los valores en la diagonal representan predicciones correctas.  \n",
    "- Cuanto mayor sea la concentración en la diagonal, mejor rendimiento del modelo.  \n",
    "- En este caso, el modelo optimizado con *Optuna* muestra una ligera mejora en la clasificación de ambas clases.\n",
    "\"\"\"))\n",
    "\n",
    "# =====================================================\n",
    "# 📈 CURVAS ROC comparativas (3 en una fila)\n",
    "# =====================================================\n",
    "display(Markdown(\"### 📈 **Curvas ROC comparativas — Random Forest**\"))\n",
    "\n",
    "from sklearn.metrics import RocCurveDisplay, roc_curve\n",
    "\n",
    "# Paleta coherente con los demás notebooks\n",
    "colors = [\"#64B5F6\", \"#F4B183\", \"#81C784\"]\n",
    "titles = [\"GridSearchCV (ligera)\", \"RandomizedSearchCV\", \"Optuna\"]\n",
    "models = [\n",
    "    grid_search_light.best_estimator_,\n",
    "    random_search.best_estimator_,\n",
    "    optuna_best_model\n",
    "]\n",
    "\n",
    "# Crear figura con 3 subplots en una fila\n",
    "fig, axes = plt.subplots(1, 3, figsize=(15, 4))\n",
    "\n",
    "for ax, color, title, model in zip(axes, colors, titles, models):\n",
    "    RocCurveDisplay.from_estimator(\n",
    "        model,\n",
    "        X_test,\n",
    "        y_test,\n",
    "        ax=ax,\n",
    "        color=color,\n",
    "        name=title,\n",
    "        linewidth=2.2\n",
    "    )\n",
    "    # Relleno bajo la curva\n",
    "    fpr, tpr, _ = roc_curve(y_test, model.predict_proba(X_test)[:, 1])\n",
    "    ax.fill_between(fpr, tpr, alpha=0.15, color=color)\n",
    "    \n",
    "    # Ajustes visuales por subplot\n",
    "    ax.plot([0, 1], [0, 1], \"k--\", lw=1, alpha=0.6)\n",
    "    ax.set_title(f\"{title}\", fontsize=11, color=\"#0D47A1\")\n",
    "    ax.set_xlabel(\"FPR\")\n",
    "    ax.set_ylabel(\"TPR\")\n",
    "    ax.grid(alpha=0.3, linestyle=\"--\", linewidth=0.5)\n",
    "    ax.legend(loc=\"lower right\", frameon=False, fontsize=8)\n",
    "\n",
    "plt.suptitle(\"Comparación de curvas ROC — Random Forest\", fontsize=13, color=\"#0D47A1\", y=1.03)\n",
    "plt.tight_layout()\n",
    "plt.show()\n",
    "\n",
    "display(Markdown(\"\"\"\n",
    "**💬 Interpretación visual:**\n",
    "\n",
    "- Cada gráfico muestra la curva ROC individual para un método de optimización.  \n",
    "- El área coloreada bajo la curva (AUC) indica la capacidad de discriminación del modelo.  \n",
    "- Cuanto más se acerque la curva al vértice superior izquierdo, mejor desempeño.  \n",
    "- El modelo optimizado con *Optuna* muestra la mayor área bajo la curva, confirmando su mejor rendimiento.\n",
    "\"\"\"))\n",
    "\n",
    "\n",
    "# =====================================================\n",
    "# 🕸️ GRÁFICO RADAR DE MÉTRICAS\n",
    "# =====================================================\n",
    "display(Markdown(\"### 🕸️ **Comparativa global de métricas (Radar Chart)**\"))\n",
    "\n",
    "comparison_df = comparison_df[[\"Accuracy\", \"Precision\", \"Recall\", \"F1-score\", \"ROC-AUC\"]]\n",
    "categories = list(comparison_df.columns)\n",
    "N = len(categories)\n",
    "angles = [n / float(N) * 2 * pi for n in range(N)]\n",
    "angles += angles[:1]\n",
    "\n",
    "fig, ax = plt.subplots(figsize=(6.5, 6.5), subplot_kw=dict(polar=True))\n",
    "palette = [\"#64B5F6\", \"#F4B183\", \"#81C784\"]\n",
    "\n",
    "for color, model_name in zip(palette, comparison_df.index):\n",
    "    values = comparison_df.loc[model_name].tolist()\n",
    "    values += values[:1]\n",
    "    ax.plot(angles, values, linewidth=2.5, label=model_name, color=color)\n",
    "    ax.fill(angles, values, color=color, alpha=0.15)\n",
    "\n",
    "ax.set_xticks(angles[:-1])\n",
    "ax.set_xticklabels(categories, fontsize=10, color=\"#333\")\n",
    "ax.set_yticklabels([])\n",
    "ax.spines[\"polar\"].set_visible(False)\n",
    "ax.grid(color=\"#B0BEC5\", linestyle=\"--\", linewidth=0.7)\n",
    "ax.set_title(\"Comparativa global de métricas — Random Forest\", fontsize=13, color=\"#0D47A1\", pad=25)\n",
    "ax.legend(loc=\"upper right\", bbox_to_anchor=(1.3, 1.1), frameon=False, fontsize=9)\n",
    "plt.tight_layout()\n",
    "plt.show()\n",
    "\n",
    "display(Markdown(f\"\"\"\n",
    "**💬 Conclusión visual:**\n",
    "El modelo **{best_model_name}** logra el mejor equilibrio global entre las métricas evaluadas,  \n",
    "destacando especialmente en **F1-score** y **ROC-AUC**.  \n",
    "Esto confirma que la optimización con *Optuna* ofrece la mejor combinación  \n",
    "entre precisión, sensibilidad y capacidad discriminativa.\n",
    "\"\"\"))\n",
    "\n",
    "\n",
    "\n"
   ]
  },
  {
   "cell_type": "markdown",
   "id": "c3a56ca9",
   "metadata": {},
   "source": [
    "## **Paso 7: Guardado de resultados y modelos entrenados**\n",
    "\n",
    "En este paso se guardan los resultados obtenidos y los modelos entrenados de **Random Forest**,  \n",
    "para su posterior comparación con otros algoritmos en el notebook  \n",
    "`04_ModelComparison.ipynb`.\n",
    "\n",
    "Se almacenan los siguientes archivos:\n",
    "\n",
    "- **Métricas de rendimiento (.json):**\n",
    "  - `../reports/metrics/random_forest_baseline_metrics.json`\n",
    "  - `../reports/metrics/random_forest_gridsearch_metrics.json`\n",
    "  - `../reports/metrics/random_forest_randomized_metrics.json`\n",
    "  - `../reports/metrics/random_forest_optuna_metrics.json`\n",
    "\n",
    "- **Modelos entrenados (.pkl):**\n",
    "  - `../models/random_forest_baseline.pkl`\n",
    "  - `../models/random_forest_gridsearch.pkl`\n",
    "  - `../models/random_forest_randomized.pkl`\n",
    "  - `../models/random_forest_optuna.pkl`\n",
    "\n",
    "💡 **Importancia del guardado:**\n",
    "> Este paso asegura la **reproducibilidad** de los experimentos  \n",
    "> y permite reutilizar los modelos directamente sin reentrenar,  \n",
    "> especialmente en notebooks posteriores como `05_Test-Set-Final.ipynb` o `06_FeatureSelection.ipynb`.\n"
   ]
  },
  {
   "cell_type": "code",
   "execution_count": 49,
   "id": "65412d36",
   "metadata": {},
   "outputs": [
    {
     "data": {
      "text/markdown": [
       "### 💾 Guardado de modelos y métricas — Random Forest"
      ],
      "text/plain": [
       "<IPython.core.display.Markdown object>"
      ]
     },
     "metadata": {},
     "output_type": "display_data"
    },
    {
     "name": "stdout",
     "output_type": "stream",
     "text": [
      "✅ Guardadas métricas Baseline: ../reports/metrics/random_forest_baseline_metrics.json\n",
      "✅ Guardadas métricas GridSearchCV: ../reports/metrics/random_forest_gridsearch_metrics.json\n",
      "✅ Guardadas métricas RandomizedSearchCV: ../reports/metrics/random_forest_randomized_metrics.json\n",
      "✅ Guardadas métricas Optuna: ../reports/metrics/random_forest_optuna_metrics.json\n",
      "✅ Guardado modelo Baseline: ../models/random_forest_baseline.pkl\n",
      "✅ Guardado modelo GridSearchCV: ../models/random_forest_gridsearch.pkl\n",
      "✅ Guardado modelo RandomizedSearchCV: ../models/random_forest_randomized.pkl\n",
      "✅ Guardado modelo Optuna: ../models/random_forest_optuna.pkl\n"
     ]
    },
    {
     "data": {
      "text/markdown": [
       "\n",
       "**💬 Conclusión:**\n",
       "- Todos los modelos y métricas han sido guardados correctamente.  \n",
       "- Los archivos `.json` permiten comparar los resultados entre modelos.  \n",
       "- Los archivos `.pkl` permiten reutilizar los modelos sin reentrenamiento.  \n"
      ],
      "text/plain": [
       "<IPython.core.display.Markdown object>"
      ]
     },
     "metadata": {},
     "output_type": "display_data"
    }
   ],
   "source": [
    "# ===================================\n",
    "# 7. Guardado de resultados y modelos entrenados\n",
    "# ===================================\n",
    "\n",
    "import joblib\n",
    "import os\n",
    "import json\n",
    "\n",
    "display(Markdown(\"### 💾 Guardado de modelos y métricas — Random Forest\"))\n",
    "\n",
    "# --- Crear carpetas si no existen ---\n",
    "os.makedirs(\"../models\", exist_ok=True)\n",
    "os.makedirs(\"../reports/metrics\", exist_ok=True)\n",
    "\n",
    "# --- Diccionario de métricas a guardar ---\n",
    "metrics_files = {\n",
    "    \"Baseline\": (\"../reports/metrics/random_forest_baseline_metrics.json\", metrics_baseline),\n",
    "    \"GridSearchCV\": (\"../reports/metrics/random_forest_gridsearch_metrics.json\", locals().get(\"metrics_grid\")),\n",
    "    \"RandomizedSearchCV\": (\"../reports/metrics/random_forest_randomized_metrics.json\", locals().get(\"metrics_random\")),\n",
    "    \"Optuna\": (\"../reports/metrics/random_forest_optuna_metrics.json\", locals().get(\"metrics_optuna\"))\n",
    "}\n",
    "\n",
    "# --- Diccionario de modelos a guardar ---\n",
    "models_to_save = {\n",
    "    \"Baseline\": (\"../models/random_forest_baseline.pkl\", locals().get(\"baseline_model\")),\n",
    "    \"GridSearchCV\": (\"../models/random_forest_gridsearch.pkl\", locals().get(\"grid_search_light\", locals().get(\"grid_search_full\"))),\n",
    "    \"RandomizedSearchCV\": (\"../models/random_forest_randomized.pkl\", locals().get(\"random_search\")),\n",
    "    \"Optuna\": (\"../models/random_forest_optuna.pkl\", locals().get(\"optuna_model\"))\n",
    "}\n",
    "\n",
    "# --- Guardado de métricas (.json) ---\n",
    "for name, (path, metrics) in metrics_files.items():\n",
    "    if metrics:\n",
    "        try:\n",
    "            with open(path, \"w\") as f:\n",
    "                json.dump(metrics, f, indent=4)\n",
    "            print(f\"✅ Guardadas métricas {name}: {path}\")\n",
    "        except Exception as e:\n",
    "            print(f\"⚠️ No se pudieron guardar las métricas {name}: {e}\")\n",
    "    else:\n",
    "        print(f\"⚠️ No se encontraron métricas para {name}\")\n",
    "\n",
    "# --- Guardado de modelos (.pkl) ---\n",
    "for name, (path, model) in models_to_save.items():\n",
    "    if model:\n",
    "        try:\n",
    "            joblib.dump(model, path)\n",
    "            print(f\"✅ Guardado modelo {name}: {path}\")\n",
    "        except Exception as e:\n",
    "            print(f\"⚠️ No se guardó modelo {name}: {e}\")\n",
    "    else:\n",
    "        print(f\"⚠️ No se encontró modelo {name}\")\n",
    "\n",
    "display(Markdown(\"\"\"\n",
    "**💬 Conclusión:**\n",
    "- Todos los modelos y métricas han sido guardados correctamente.  \n",
    "- Los archivos `.json` permiten comparar los resultados entre modelos.  \n",
    "- Los archivos `.pkl` permiten reutilizar los modelos sin reentrenamiento.  \n",
    "\"\"\"))\n"
   ]
  },
  {
   "cell_type": "markdown",
   "id": "46f36d58",
   "metadata": {},
   "source": [
    "## 🏁 **Conclusiones del modelo Random Forest**\n",
    "\n",
    "En este notebook se ha desarrollado un proceso completo de **entrenamiento, optimización y evaluación**  \n",
    "del modelo **Random Forest Classifier**, aplicando distintos enfoques de ajuste de hiperparámetros  \n",
    "para analizar su impacto en el rendimiento final.\n",
    "\n",
    "\n",
    "### 🔍 **Resumen del proceso:**\n",
    "\n",
    "1. Se entrenó un **modelo base (Baseline)** con los parámetros por defecto.  \n",
    "2. Se aplicaron métodos de optimización mediante:\n",
    "   - **GridSearchCV (versión ligera y versión completa)** → búsqueda exhaustiva.  \n",
    "   - **RandomizedSearchCV** → búsqueda aleatoria eficiente.  \n",
    "   - **Optuna** → optimización bayesiana inteligente.  \n",
    "3. Se evaluaron todos los modelos con **validación cruzada (5-fold)**  \n",
    "   y con el **conjunto de test**, obteniendo las métricas clave:\n",
    "   - **Accuracy**, **Precision**, **Recall**, **F1-score** y **ROC-AUC**.  \n",
    "4. Se generaron visualizaciones comparativas:\n",
    "   - **Matrices de confusión**, **curvas ROC** y **gráficos radar** para los tres enfoques.  \n",
    "\n",
    "\n",
    "### 🧠 **Conclusiones principales:**\n",
    "\n",
    "- El modelo **Random Forest optimizado con Optuna** alcanzó el **mejor rendimiento global**,  \n",
    "  destacando especialmente en las métricas **F1-score** y **ROC-AUC**,  \n",
    "  lo que confirma su capacidad para equilibrar precisión y sensibilidad incluso en presencia de desbalanceo.\n",
    "\n",
    "- Tanto **GridSearchCV** como **RandomizedSearchCV** ofrecieron buenos resultados,  \n",
    "  pero Optuna consiguió mejoras adicionales con un menor número de evaluaciones,  \n",
    "  demostrando una **mayor eficiencia computacional**.\n",
    "\n",
    "- Se observa que el modelo mantiene una **buena estabilidad** entre las distintas validaciones,  \n",
    "  sin indicios significativos de sobreajuste (*overf*\n"
   ]
  }
 ],
 "metadata": {
  "kernelspec": {
   "display_name": "venv",
   "language": "python",
   "name": "python3"
  },
  "language_info": {
   "codemirror_mode": {
    "name": "ipython",
    "version": 3
   },
   "file_extension": ".py",
   "mimetype": "text/x-python",
   "name": "python",
   "nbconvert_exporter": "python",
   "pygments_lexer": "ipython3",
   "version": "3.11.9"
  }
 },
 "nbformat": 4,
 "nbformat_minor": 5
}
